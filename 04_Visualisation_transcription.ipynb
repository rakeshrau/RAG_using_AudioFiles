{
 "cells": [
  {
   "cell_type": "markdown",
   "metadata": {
    "application/vnd.databricks.v1+cell": {
     "cellMetadata": {
      "byteLimit": 2048000,
      "rowLimit": 10000
     },
     "inputWidgets": {},
     "nuid": "7cdee540-7869-46ca-9050-811a5c7d8665",
     "showTitle": false,
     "title": ""
    }
   },
   "source": [
    "# Visualisation of Data"
   ]
  },
  {
   "cell_type": "markdown",
   "metadata": {
    "application/vnd.databricks.v1+cell": {
     "cellMetadata": {
      "byteLimit": 2048000,
      "rowLimit": 10000
     },
     "inputWidgets": {},
     "nuid": "b117dcac-ac99-48b2-907c-a3bdce0af8ed",
     "showTitle": false,
     "title": ""
    }
   },
   "source": [
    "## Setup"
   ]
  },
  {
   "cell_type": "code",
   "execution_count": 0,
   "metadata": {
    "application/vnd.databricks.v1+cell": {
     "cellMetadata": {
      "byteLimit": 2048000,
      "rowLimit": 10000
     },
     "inputWidgets": {},
     "nuid": "1c0c536f-e898-4b61-98ea-9c96e526d224",
     "showTitle": false,
     "title": ""
    }
   },
   "outputs": [
    {
     "output_type": "display_data",
     "data": {
      "application/vnd.databricks.v1+bamboolib_hint": "{\"pd.DataFrames\": [], \"version\": \"0.0.1\"}",
      "text/plain": []
     },
     "metadata": {},
     "output_type": "display_data"
    }
   ],
   "source": [
    "### Python\n",
    "import pandas as pd\n",
    "import time\n",
    "import os\n",
    "import re\n",
    "\n",
    "### Plotly\n",
    "import plotly.express as px"
   ]
  },
  {
   "cell_type": "code",
   "execution_count": 0,
   "metadata": {
    "application/vnd.databricks.v1+cell": {
     "cellMetadata": {},
     "inputWidgets": {},
     "nuid": "846e4302-ea8d-4813-ae23-a3bc66270f9e",
     "showTitle": false,
     "title": ""
    }
   },
   "outputs": [],
   "source": [
    "def timedelta_to_minutes(td):\n",
    "    return round(td.total_seconds() / 60, 2)\n",
    "\n",
    "\n",
    "def convert_to_time_delta(df, exclude_cols=[]):\n",
    "    for col in df.columns:\n",
    "        if col not in exclude_cols and df[col].dtype == \"object\":\n",
    "            df[col] = pd.to_timedelta(df[col])\n",
    "            df[col] = df[col].replace(pd.NaT, pd.Timedelta(seconds=0))\n",
    "            df[col] = df[col].apply(timedelta_to_minutes)\n",
    "    return df"
   ]
  },
  {
   "cell_type": "markdown",
   "metadata": {
    "application/vnd.databricks.v1+cell": {
     "cellMetadata": {
      "byteLimit": 2048000,
      "rowLimit": 10000
     },
     "inputWidgets": {},
     "nuid": "24d54606-f891-4f00-9177-e97a45bca96d",
     "showTitle": false,
     "title": ""
    }
   },
   "source": [
    "## Importing Data"
   ]
  },
  {
   "cell_type": "code",
   "execution_count": 0,
   "metadata": {
    "application/vnd.databricks.v1+cell": {
     "cellMetadata": {
      "byteLimit": 2048000,
      "rowLimit": 10000
     },
     "inputWidgets": {},
     "nuid": "551f4d3a-6150-4e03-b471-d769b205f729",
     "showTitle": false,
     "title": ""
    }
   },
   "outputs": [],
   "source": [
    "id_columns = [\"Call Name\", \"Call Number\", \"Call Day\", \"Call Month\", \"Call Year\"]\n",
    "id_columns_ascending = [True, True, False, False, False]\n",
    "\n",
    "base_path = \"/dbfs/FileStore/smart_call_insights/max\"\n",
    "\n",
    "directory = f\"{base_path}/08_results\"\n",
    "\n",
    "action_plan_combined = pd.DataFrame()\n",
    "key_topic_combined = pd.DataFrame()\n",
    "objection_combined = pd.DataFrame()\n",
    "share_of_voice_combined = pd.DataFrame()\n",
    "\n",
    "for i, week in enumerate(os.listdir(directory)):\n",
    "    if len(os.listdir(os.path.join(directory, week))) > 0:\n",
    "        action_plan_df = pd.read_csv(f\"{base_path}/08_results/{week}/action_plan_combined.csv\")\n",
    "        key_topic_df = pd.read_csv(f\"{base_path}/08_results/{week}/key_topic_combined.csv\")\n",
    "        objection_df = pd.read_csv(f\"{base_path}/08_results/{week}/objection_combined.csv\")\n",
    "        share_of_voice_df = pd.read_csv(f\"{base_path}/08_results/{week}/share_of_voice_combined.csv\")\n",
    "        if i > 0:\n",
    "            action_plan_combined = pd.concat([action_plan_combined, action_plan_df])\n",
    "            key_topic_combined = pd.concat([key_topic_combined, key_topic_df])\n",
    "            objection_combined = pd.concat([objection_combined, objection_df])\n",
    "            share_of_voice_combined = pd.concat(\n",
    "                [share_of_voice_combined, share_of_voice_df]\n",
    "            )\n",
    "        else:\n",
    "            action_plan_combined = action_plan_df\n",
    "            key_topic_combined = key_topic_df\n",
    "            objection_combined = objection_df\n",
    "            share_of_voice_combined = share_of_voice_df"
   ]
  },
  {
   "cell_type": "code",
   "execution_count": 0,
   "metadata": {
    "application/vnd.databricks.v1+cell": {
     "cellMetadata": {
      "byteLimit": 2048000,
      "rowLimit": 10000
     },
     "inputWidgets": {},
     "nuid": "1cb0e32f-30ca-4952-8bbe-444e7031ff45",
     "showTitle": false,
     "title": ""
    }
   },
   "outputs": [
    {
     "output_type": "display_data",
     "data": {
      "text/html": [
       "<style scoped>\n",
       "  .table-result-container {\n",
       "    max-height: 300px;\n",
       "    overflow: auto;\n",
       "  }\n",
       "  table, th, td {\n",
       "    border: 1px solid black;\n",
       "    border-collapse: collapse;\n",
       "  }\n",
       "  th, td {\n",
       "    padding: 5px;\n",
       "  }\n",
       "  th {\n",
       "    text-align: left;\n",
       "  }\n",
       "</style><div class='table-result-container'><table class='table-result'><thead style='background-color: white'><tr><th>Call Name</th><th>Call Number</th><th>Call Day</th><th>Call Month</th><th>Identify Eligible Patients</th><th>Recall Eligible Patients</th><th>Set up Shingrix Clinic</th><th>Order Shingles Doses</th><th>Selling Outcome</th></tr></thead><tbody><tr><td>Oct20_callrecording_01</td><td>1</td><td>20</td><td>10</td><td>Discussed</td><td>GSO</td><td>GSO</td><td>GSO</td><td>GSO</td></tr><tr><td>Oct20_callrecording_02</td><td>2</td><td>20</td><td>10</td><td>Discussed</td><td>Discussed</td><td>Not Discussed</td><td>Not Discussed</td><td>Discussed</td></tr><tr><td>Oct20_callrecording_03</td><td>3</td><td>20</td><td>10</td><td>Discussed</td><td>Discussed</td><td>Discussed</td><td>Not Discussed</td><td>Discussed</td></tr><tr><td>Oct20_callrecording_04</td><td>4</td><td>20</td><td>10</td><td>Discussed</td><td>Discussed</td><td>Not Discussed</td><td>Discussed</td><td>Discussed</td></tr><tr><td>Oct20_callrecording_05</td><td>5</td><td>20</td><td>10</td><td>Discussed</td><td>Discussed</td><td>GSO</td><td>Discussed</td><td>GSO</td></tr><tr><td>Oct20_callrecording_07</td><td>7</td><td>20</td><td>10</td><td>Discussed</td><td>Discussed</td><td>Discussed</td><td>Discussed</td><td>Discussed</td></tr><tr><td>Oct20_callrecording_08</td><td>8</td><td>20</td><td>10</td><td>Discussed</td><td>Discussed</td><td>Not Discussed</td><td>Not Discussed</td><td>Discussed</td></tr><tr><td>Oct20_callrecording_09</td><td>9</td><td>20</td><td>10</td><td>Discussed</td><td>Discussed</td><td>Discussed</td><td>Not Discussed</td><td>Discussed</td></tr><tr><td>Oct20_callrecording_10</td><td>10</td><td>20</td><td>10</td><td>Discussed</td><td>Not Discussed</td><td>Discussed</td><td>GSO</td><td>GSO</td></tr><tr><td>Oct20_callrecording_11</td><td>11</td><td>20</td><td>10</td><td>GSO</td><td>GSO</td><td>Discussed</td><td>Discussed</td><td>GSO</td></tr><tr><td>Oct20_callrecording_12</td><td>12</td><td>20</td><td>10</td><td>Discussed</td><td>Not Discussed</td><td>Discussed</td><td>Discussed</td><td>Discussed</td></tr><tr><td>Oct27_callrecording_01</td><td>1</td><td>27</td><td>10</td><td>Discussed</td><td>GSO</td><td>Not Discussed</td><td>Not Discussed</td><td>GSO</td></tr><tr><td>Oct27_callrecording_02</td><td>2</td><td>27</td><td>10</td><td>Discussed</td><td>Discussed</td><td>Discussed</td><td>GSO</td><td>GSO</td></tr><tr><td>Oct27_callrecording_03</td><td>3</td><td>27</td><td>10</td><td>Discussed</td><td>Discussed</td><td>Not Discussed</td><td>Not Discussed</td><td>Discussed</td></tr><tr><td>Oct27_callrecording_04</td><td>4</td><td>27</td><td>10</td><td>Discussed</td><td>Discussed</td><td>Not Discussed</td><td>Discussed</td><td>Discussed</td></tr><tr><td>Oct27_callrecording_05</td><td>5</td><td>27</td><td>10</td><td>Discussed</td><td>Discussed</td><td>Not Discussed</td><td>Not Discussed</td><td>Discussed</td></tr><tr><td>Oct27_callrecording_06</td><td>6</td><td>27</td><td>10</td><td>Discussed</td><td>Discussed</td><td>Discussed</td><td>Discussed</td><td>Discussed</td></tr><tr><td>Oct27_callrecording_07</td><td>7</td><td>27</td><td>10</td><td>Discussed</td><td>Discussed</td><td>Discussed</td><td>Not Discussed</td><td>Discussed</td></tr><tr><td>Oct27_callrecording_08</td><td>8</td><td>27</td><td>10</td><td>Discussed</td><td>Discussed</td><td>Not Discussed</td><td>Discussed</td><td>Discussed</td></tr><tr><td>Oct27_callrecording_09</td><td>9</td><td>27</td><td>10</td><td>Discussed</td><td>Discussed</td><td>Discussed</td><td>Not Discussed</td><td>Discussed</td></tr><tr><td>Oct27_callrecording_10</td><td>10</td><td>27</td><td>10</td><td>Discussed</td><td>GSO</td><td>Discussed</td><td>Not Discussed</td><td>GSO</td></tr><tr><td>Oct27_callrecording_11</td><td>11</td><td>27</td><td>10</td><td>Discussed</td><td>Discussed</td><td>Not Discussed</td><td>Discussed</td><td>Discussed</td></tr><tr><td>Oct27_callrecording_12</td><td>12</td><td>27</td><td>10</td><td>Discussed</td><td>Discussed</td><td>Discussed</td><td>Not Discussed</td><td>Discussed</td></tr><tr><td>Nov03_callrecording_01</td><td>1</td><td>3</td><td>11</td><td>Discussed</td><td>Discussed</td><td>Discussed</td><td>Discussed</td><td>Discussed</td></tr><tr><td>Nov03_callrecording_02</td><td>2</td><td>3</td><td>11</td><td>Discussed</td><td>Discussed</td><td>Discussed</td><td>Not Discussed</td><td>Discussed</td></tr><tr><td>Nov03_callrecording_03</td><td>3</td><td>3</td><td>11</td><td>Discussed</td><td>Not Discussed</td><td>GSO</td><td>Not Discussed</td><td>GSO</td></tr><tr><td>Nov03_callrecording_04</td><td>4</td><td>3</td><td>11</td><td>Discussed</td><td>Discussed</td><td>Discussed</td><td>Not Discussed</td><td>Discussed</td></tr><tr><td>Nov03_callrecording_05</td><td>5</td><td>3</td><td>11</td><td>Discussed</td><td>Discussed</td><td>Not Discussed</td><td>Not Discussed</td><td>Discussed</td></tr><tr><td>Nov03_callrecording_06</td><td>6</td><td>3</td><td>11</td><td>Discussed</td><td>Discussed</td><td>Discussed</td><td>Discussed</td><td>Discussed</td></tr><tr><td>Nov03_callrecording_07</td><td>7</td><td>3</td><td>11</td><td>Not Discussed</td><td>Not Discussed</td><td>Not Discussed</td><td>Not Discussed</td><td>Not Discussed</td></tr><tr><td>Nov03_callrecording_08</td><td>8</td><td>3</td><td>11</td><td>GSO</td><td>GSO</td><td>GSO</td><td>Not Discussed</td><td>GSO</td></tr></tbody></table></div>"
      ]
     },
     "metadata": {
      "application/vnd.databricks.v1+output": {
       "addedWidgets": {},
       "aggData": [],
       "aggError": "",
       "aggOverflow": false,
       "aggSchema": [],
       "aggSeriesLimitReached": false,
       "aggType": "",
       "arguments": {},
       "columnCustomDisplayInfos": {},
       "data": [
        [
         "Oct20_callrecording_01",
         1,
         20,
         10,
         "Discussed",
         "GSO",
         "GSO",
         "GSO",
         "GSO"
        ],
        [
         "Oct20_callrecording_02",
         2,
         20,
         10,
         "Discussed",
         "Discussed",
         "Not Discussed",
         "Not Discussed",
         "Discussed"
        ],
        [
         "Oct20_callrecording_03",
         3,
         20,
         10,
         "Discussed",
         "Discussed",
         "Discussed",
         "Not Discussed",
         "Discussed"
        ],
        [
         "Oct20_callrecording_04",
         4,
         20,
         10,
         "Discussed",
         "Discussed",
         "Not Discussed",
         "Discussed",
         "Discussed"
        ],
        [
         "Oct20_callrecording_05",
         5,
         20,
         10,
         "Discussed",
         "Discussed",
         "GSO",
         "Discussed",
         "GSO"
        ],
        [
         "Oct20_callrecording_07",
         7,
         20,
         10,
         "Discussed",
         "Discussed",
         "Discussed",
         "Discussed",
         "Discussed"
        ],
        [
         "Oct20_callrecording_08",
         8,
         20,
         10,
         "Discussed",
         "Discussed",
         "Not Discussed",
         "Not Discussed",
         "Discussed"
        ],
        [
         "Oct20_callrecording_09",
         9,
         20,
         10,
         "Discussed",
         "Discussed",
         "Discussed",
         "Not Discussed",
         "Discussed"
        ],
        [
         "Oct20_callrecording_10",
         10,
         20,
         10,
         "Discussed",
         "Not Discussed",
         "Discussed",
         "GSO",
         "GSO"
        ],
        [
         "Oct20_callrecording_11",
         11,
         20,
         10,
         "GSO",
         "GSO",
         "Discussed",
         "Discussed",
         "GSO"
        ],
        [
         "Oct20_callrecording_12",
         12,
         20,
         10,
         "Discussed",
         "Not Discussed",
         "Discussed",
         "Discussed",
         "Discussed"
        ],
        [
         "Oct27_callrecording_01",
         1,
         27,
         10,
         "Discussed",
         "GSO",
         "Not Discussed",
         "Not Discussed",
         "GSO"
        ],
        [
         "Oct27_callrecording_02",
         2,
         27,
         10,
         "Discussed",
         "Discussed",
         "Discussed",
         "GSO",
         "GSO"
        ],
        [
         "Oct27_callrecording_03",
         3,
         27,
         10,
         "Discussed",
         "Discussed",
         "Not Discussed",
         "Not Discussed",
         "Discussed"
        ],
        [
         "Oct27_callrecording_04",
         4,
         27,
         10,
         "Discussed",
         "Discussed",
         "Not Discussed",
         "Discussed",
         "Discussed"
        ],
        [
         "Oct27_callrecording_05",
         5,
         27,
         10,
         "Discussed",
         "Discussed",
         "Not Discussed",
         "Not Discussed",
         "Discussed"
        ],
        [
         "Oct27_callrecording_06",
         6,
         27,
         10,
         "Discussed",
         "Discussed",
         "Discussed",
         "Discussed",
         "Discussed"
        ],
        [
         "Oct27_callrecording_07",
         7,
         27,
         10,
         "Discussed",
         "Discussed",
         "Discussed",
         "Not Discussed",
         "Discussed"
        ],
        [
         "Oct27_callrecording_08",
         8,
         27,
         10,
         "Discussed",
         "Discussed",
         "Not Discussed",
         "Discussed",
         "Discussed"
        ],
        [
         "Oct27_callrecording_09",
         9,
         27,
         10,
         "Discussed",
         "Discussed",
         "Discussed",
         "Not Discussed",
         "Discussed"
        ],
        [
         "Oct27_callrecording_10",
         10,
         27,
         10,
         "Discussed",
         "GSO",
         "Discussed",
         "Not Discussed",
         "GSO"
        ],
        [
         "Oct27_callrecording_11",
         11,
         27,
         10,
         "Discussed",
         "Discussed",
         "Not Discussed",
         "Discussed",
         "Discussed"
        ],
        [
         "Oct27_callrecording_12",
         12,
         27,
         10,
         "Discussed",
         "Discussed",
         "Discussed",
         "Not Discussed",
         "Discussed"
        ],
        [
         "Nov03_callrecording_01",
         1,
         3,
         11,
         "Discussed",
         "Discussed",
         "Discussed",
         "Discussed",
         "Discussed"
        ],
        [
         "Nov03_callrecording_02",
         2,
         3,
         11,
         "Discussed",
         "Discussed",
         "Discussed",
         "Not Discussed",
         "Discussed"
        ],
        [
         "Nov03_callrecording_03",
         3,
         3,
         11,
         "Discussed",
         "Not Discussed",
         "GSO",
         "Not Discussed",
         "GSO"
        ],
        [
         "Nov03_callrecording_04",
         4,
         3,
         11,
         "Discussed",
         "Discussed",
         "Discussed",
         "Not Discussed",
         "Discussed"
        ],
        [
         "Nov03_callrecording_05",
         5,
         3,
         11,
         "Discussed",
         "Discussed",
         "Not Discussed",
         "Not Discussed",
         "Discussed"
        ],
        [
         "Nov03_callrecording_06",
         6,
         3,
         11,
         "Discussed",
         "Discussed",
         "Discussed",
         "Discussed",
         "Discussed"
        ],
        [
         "Nov03_callrecording_07",
         7,
         3,
         11,
         "Not Discussed",
         "Not Discussed",
         "Not Discussed",
         "Not Discussed",
         "Not Discussed"
        ],
        [
         "Nov03_callrecording_08",
         8,
         3,
         11,
         "GSO",
         "GSO",
         "GSO",
         "Not Discussed",
         "GSO"
        ]
       ],
       "datasetInfos": [],
       "dbfsResultPath": null,
       "isJsonSchema": true,
       "metadata": {},
       "overflow": false,
       "plotOptions": {
        "customPlotOptions": {},
        "displayType": "table",
        "pivotAggregation": null,
        "pivotColumns": null,
        "xColumns": null,
        "yColumns": null
       },
       "removedWidgets": [],
       "schema": [
        {
         "metadata": "{}",
         "name": "Call Name",
         "type": "\"string\""
        },
        {
         "metadata": "{}",
         "name": "Call Number",
         "type": "\"long\""
        },
        {
         "metadata": "{}",
         "name": "Call Day",
         "type": "\"long\""
        },
        {
         "metadata": "{}",
         "name": "Call Month",
         "type": "\"long\""
        },
        {
         "metadata": "{}",
         "name": "Identify Eligible Patients",
         "type": "\"string\""
        },
        {
         "metadata": "{}",
         "name": "Recall Eligible Patients",
         "type": "\"string\""
        },
        {
         "metadata": "{}",
         "name": "Set up Shingrix Clinic",
         "type": "\"string\""
        },
        {
         "metadata": "{}",
         "name": "Order Shingles Doses",
         "type": "\"string\""
        },
        {
         "metadata": "{}",
         "name": "Selling Outcome",
         "type": "\"string\""
        }
       ],
       "type": "table"
      }
     },
     "output_type": "display_data"
    },
    {
     "output_type": "display_data",
     "data": {
      "text/html": [
       "<style scoped>\n",
       "  .table-result-container {\n",
       "    max-height: 300px;\n",
       "    overflow: auto;\n",
       "  }\n",
       "  table, th, td {\n",
       "    border: 1px solid black;\n",
       "    border-collapse: collapse;\n",
       "  }\n",
       "  th, td {\n",
       "    padding: 5px;\n",
       "  }\n",
       "  th {\n",
       "    text-align: left;\n",
       "  }\n",
       "</style><div class='table-result-container'><table class='table-result'><thead style='background-color: white'><tr><th>Call Name</th><th>Call Number</th><th>Call Day</th><th>Call Month</th><th>Shingles is a painful disease that can have serious and long-lasting complications</th><th>Post-herpetic neuralgia (PHN) affects up to 30% of patients ≥50 years old and is characterised by long-lasting nerve pain</th><th>1 in 4 people in the UK will suffer from shingles in their lifetime</th><th>90% of adults in the UK are infected with VZV, which causes shingles</th><th>The risk of shingles increases as immune system function declines</th><th>More than a rash, shingles and PHN can significantly impact a patient’s quality of life</th><th>Burden of Disease</th><th>National Immunisation Programme</th></tr></thead><tbody><tr><td>Oct20_callrecording_01</td><td>1</td><td>20</td><td>10</td><td>0</td><td>0</td><td>0</td><td>0</td><td>0</td><td>0</td><td>0</td><td>0</td></tr><tr><td>Oct20_callrecording_02</td><td>2</td><td>20</td><td>10</td><td>0</td><td>0</td><td>0</td><td>0</td><td>0</td><td>0</td><td>0</td><td>1</td></tr><tr><td>Oct20_callrecording_03</td><td>3</td><td>20</td><td>10</td><td>0</td><td>0</td><td>0</td><td>0</td><td>0</td><td>0</td><td>0</td><td>2</td></tr><tr><td>Oct20_callrecording_04</td><td>4</td><td>20</td><td>10</td><td>0</td><td>0</td><td>0</td><td>1</td><td>1</td><td>0</td><td>1</td><td>2</td></tr><tr><td>Oct20_callrecording_05</td><td>5</td><td>20</td><td>10</td><td>0</td><td>1</td><td>0</td><td>0</td><td>0</td><td>0</td><td>0</td><td>1</td></tr><tr><td>Oct20_callrecording_07</td><td>7</td><td>20</td><td>10</td><td>2</td><td>3</td><td>1</td><td>0</td><td>1</td><td>2</td><td>0</td><td>2</td></tr><tr><td>Oct20_callrecording_08</td><td>8</td><td>20</td><td>10</td><td>1</td><td>1</td><td>0</td><td>1</td><td>2</td><td>1</td><td>0</td><td>0</td></tr><tr><td>Oct20_callrecording_09</td><td>9</td><td>20</td><td>10</td><td>1</td><td>0</td><td>0</td><td>1</td><td>1</td><td>0</td><td>1</td><td>2</td></tr><tr><td>Oct20_callrecording_10</td><td>10</td><td>20</td><td>10</td><td>0</td><td>1</td><td>0</td><td>0</td><td>2</td><td>0</td><td>0</td><td>3</td></tr><tr><td>Oct20_callrecording_11</td><td>11</td><td>20</td><td>10</td><td>2</td><td>0</td><td>2</td><td>2</td><td>1</td><td>1</td><td>0</td><td>1</td></tr><tr><td>Oct20_callrecording_12</td><td>12</td><td>20</td><td>10</td><td>0</td><td>0</td><td>0</td><td>0</td><td>0</td><td>0</td><td>0</td><td>0</td></tr><tr><td>Oct27_callrecording_01</td><td>1</td><td>27</td><td>10</td><td>1</td><td>2</td><td>0</td><td>1</td><td>2</td><td>1</td><td>0</td><td>2</td></tr><tr><td>Oct27_callrecording_02</td><td>2</td><td>27</td><td>10</td><td>3</td><td>4</td><td>1</td><td>1</td><td>2</td><td>2</td><td>1</td><td>3</td></tr><tr><td>Oct27_callrecording_03</td><td>3</td><td>27</td><td>10</td><td>1</td><td>1</td><td>1</td><td>1</td><td>1</td><td>2</td><td>2</td><td>2</td></tr><tr><td>Oct27_callrecording_04</td><td>4</td><td>27</td><td>10</td><td>0</td><td>0</td><td>0</td><td>0</td><td>0</td><td>0</td><td>0</td><td>0</td></tr><tr><td>Oct27_callrecording_05</td><td>5</td><td>27</td><td>10</td><td>0</td><td>0</td><td>0</td><td>0</td><td>0</td><td>0</td><td>0</td><td>1</td></tr><tr><td>Oct27_callrecording_06</td><td>6</td><td>27</td><td>10</td><td>2</td><td>1</td><td>0</td><td>0</td><td>1</td><td>1</td><td>0</td><td>4</td></tr><tr><td>Oct27_callrecording_07</td><td>7</td><td>27</td><td>10</td><td>1</td><td>1</td><td>1</td><td>1</td><td>1</td><td>1</td><td>2</td><td>1</td></tr><tr><td>Oct27_callrecording_08</td><td>8</td><td>27</td><td>10</td><td>0</td><td>0</td><td>0</td><td>0</td><td>0</td><td>0</td><td>0</td><td>1</td></tr><tr><td>Oct27_callrecording_09</td><td>9</td><td>27</td><td>10</td><td>0</td><td>0</td><td>0</td><td>0</td><td>0</td><td>0</td><td>0</td><td>2</td></tr><tr><td>Oct27_callrecording_10</td><td>10</td><td>27</td><td>10</td><td>0</td><td>2</td><td>0</td><td>0</td><td>1</td><td>0</td><td>0</td><td>3</td></tr><tr><td>Oct27_callrecording_11</td><td>11</td><td>27</td><td>10</td><td>0</td><td>0</td><td>0</td><td>0</td><td>0</td><td>0</td><td>0</td><td>2</td></tr><tr><td>Oct27_callrecording_12</td><td>12</td><td>27</td><td>10</td><td>3</td><td>1</td><td>0</td><td>0</td><td>0</td><td>4</td><td>0</td><td>4</td></tr><tr><td>Nov03_callrecording_01</td><td>1</td><td>3</td><td>11</td><td>1</td><td>1</td><td>1</td><td>1</td><td>1</td><td>1</td><td>1</td><td>2</td></tr><tr><td>Nov03_callrecording_02</td><td>2</td><td>3</td><td>11</td><td>0</td><td>3</td><td>0</td><td>1</td><td>1</td><td>0</td><td>1</td><td>1</td></tr><tr><td>Nov03_callrecording_03</td><td>3</td><td>3</td><td>11</td><td>0</td><td>0</td><td>0</td><td>0</td><td>1</td><td>0</td><td>0</td><td>2</td></tr><tr><td>Nov03_callrecording_04</td><td>4</td><td>3</td><td>11</td><td>1</td><td>0</td><td>0</td><td>0</td><td>0</td><td>0</td><td>0</td><td>1</td></tr><tr><td>Nov03_callrecording_05</td><td>5</td><td>3</td><td>11</td><td>1</td><td>2</td><td>0</td><td>0</td><td>1</td><td>1</td><td>0</td><td>1</td></tr><tr><td>Nov03_callrecording_06</td><td>6</td><td>3</td><td>11</td><td>2</td><td>1</td><td>0</td><td>0</td><td>0</td><td>1</td><td>1</td><td>4</td></tr><tr><td>Nov03_callrecording_07</td><td>7</td><td>3</td><td>11</td><td>0</td><td>0</td><td>0</td><td>0</td><td>0</td><td>0</td><td>0</td><td>0</td></tr><tr><td>Nov03_callrecording_08</td><td>8</td><td>3</td><td>11</td><td>2</td><td>2</td><td>1</td><td>1</td><td>2</td><td>1</td><td>1</td><td>3</td></tr></tbody></table></div>"
      ]
     },
     "metadata": {
      "application/vnd.databricks.v1+output": {
       "addedWidgets": {},
       "aggData": [],
       "aggError": "",
       "aggOverflow": false,
       "aggSchema": [],
       "aggSeriesLimitReached": false,
       "aggType": "",
       "arguments": {},
       "columnCustomDisplayInfos": {},
       "data": [
        [
         "Oct20_callrecording_01",
         1,
         20,
         10,
         0,
         0,
         0,
         0,
         0,
         0,
         0,
         0
        ],
        [
         "Oct20_callrecording_02",
         2,
         20,
         10,
         0,
         0,
         0,
         0,
         0,
         0,
         0,
         1
        ],
        [
         "Oct20_callrecording_03",
         3,
         20,
         10,
         0,
         0,
         0,
         0,
         0,
         0,
         0,
         2
        ],
        [
         "Oct20_callrecording_04",
         4,
         20,
         10,
         0,
         0,
         0,
         1,
         1,
         0,
         1,
         2
        ],
        [
         "Oct20_callrecording_05",
         5,
         20,
         10,
         0,
         1,
         0,
         0,
         0,
         0,
         0,
         1
        ],
        [
         "Oct20_callrecording_07",
         7,
         20,
         10,
         2,
         3,
         1,
         0,
         1,
         2,
         0,
         2
        ],
        [
         "Oct20_callrecording_08",
         8,
         20,
         10,
         1,
         1,
         0,
         1,
         2,
         1,
         0,
         0
        ],
        [
         "Oct20_callrecording_09",
         9,
         20,
         10,
         1,
         0,
         0,
         1,
         1,
         0,
         1,
         2
        ],
        [
         "Oct20_callrecording_10",
         10,
         20,
         10,
         0,
         1,
         0,
         0,
         2,
         0,
         0,
         3
        ],
        [
         "Oct20_callrecording_11",
         11,
         20,
         10,
         2,
         0,
         2,
         2,
         1,
         1,
         0,
         1
        ],
        [
         "Oct20_callrecording_12",
         12,
         20,
         10,
         0,
         0,
         0,
         0,
         0,
         0,
         0,
         0
        ],
        [
         "Oct27_callrecording_01",
         1,
         27,
         10,
         1,
         2,
         0,
         1,
         2,
         1,
         0,
         2
        ],
        [
         "Oct27_callrecording_02",
         2,
         27,
         10,
         3,
         4,
         1,
         1,
         2,
         2,
         1,
         3
        ],
        [
         "Oct27_callrecording_03",
         3,
         27,
         10,
         1,
         1,
         1,
         1,
         1,
         2,
         2,
         2
        ],
        [
         "Oct27_callrecording_04",
         4,
         27,
         10,
         0,
         0,
         0,
         0,
         0,
         0,
         0,
         0
        ],
        [
         "Oct27_callrecording_05",
         5,
         27,
         10,
         0,
         0,
         0,
         0,
         0,
         0,
         0,
         1
        ],
        [
         "Oct27_callrecording_06",
         6,
         27,
         10,
         2,
         1,
         0,
         0,
         1,
         1,
         0,
         4
        ],
        [
         "Oct27_callrecording_07",
         7,
         27,
         10,
         1,
         1,
         1,
         1,
         1,
         1,
         2,
         1
        ],
        [
         "Oct27_callrecording_08",
         8,
         27,
         10,
         0,
         0,
         0,
         0,
         0,
         0,
         0,
         1
        ],
        [
         "Oct27_callrecording_09",
         9,
         27,
         10,
         0,
         0,
         0,
         0,
         0,
         0,
         0,
         2
        ],
        [
         "Oct27_callrecording_10",
         10,
         27,
         10,
         0,
         2,
         0,
         0,
         1,
         0,
         0,
         3
        ],
        [
         "Oct27_callrecording_11",
         11,
         27,
         10,
         0,
         0,
         0,
         0,
         0,
         0,
         0,
         2
        ],
        [
         "Oct27_callrecording_12",
         12,
         27,
         10,
         3,
         1,
         0,
         0,
         0,
         4,
         0,
         4
        ],
        [
         "Nov03_callrecording_01",
         1,
         3,
         11,
         1,
         1,
         1,
         1,
         1,
         1,
         1,
         2
        ],
        [
         "Nov03_callrecording_02",
         2,
         3,
         11,
         0,
         3,
         0,
         1,
         1,
         0,
         1,
         1
        ],
        [
         "Nov03_callrecording_03",
         3,
         3,
         11,
         0,
         0,
         0,
         0,
         1,
         0,
         0,
         2
        ],
        [
         "Nov03_callrecording_04",
         4,
         3,
         11,
         1,
         0,
         0,
         0,
         0,
         0,
         0,
         1
        ],
        [
         "Nov03_callrecording_05",
         5,
         3,
         11,
         1,
         2,
         0,
         0,
         1,
         1,
         0,
         1
        ],
        [
         "Nov03_callrecording_06",
         6,
         3,
         11,
         2,
         1,
         0,
         0,
         0,
         1,
         1,
         4
        ],
        [
         "Nov03_callrecording_07",
         7,
         3,
         11,
         0,
         0,
         0,
         0,
         0,
         0,
         0,
         0
        ],
        [
         "Nov03_callrecording_08",
         8,
         3,
         11,
         2,
         2,
         1,
         1,
         2,
         1,
         1,
         3
        ]
       ],
       "datasetInfos": [],
       "dbfsResultPath": null,
       "isJsonSchema": true,
       "metadata": {},
       "overflow": false,
       "plotOptions": {
        "customPlotOptions": {},
        "displayType": "table",
        "pivotAggregation": null,
        "pivotColumns": null,
        "xColumns": null,
        "yColumns": null
       },
       "removedWidgets": [],
       "schema": [
        {
         "metadata": "{}",
         "name": "Call Name",
         "type": "\"string\""
        },
        {
         "metadata": "{}",
         "name": "Call Number",
         "type": "\"long\""
        },
        {
         "metadata": "{}",
         "name": "Call Day",
         "type": "\"long\""
        },
        {
         "metadata": "{}",
         "name": "Call Month",
         "type": "\"long\""
        },
        {
         "metadata": "{}",
         "name": "Shingles is a painful disease that can have serious and long-lasting complications",
         "type": "\"long\""
        },
        {
         "metadata": "{}",
         "name": "Post-herpetic neuralgia (PHN) affects up to 30% of patients ≥50 years old and is characterised by long-lasting nerve pain",
         "type": "\"long\""
        },
        {
         "metadata": "{}",
         "name": "1 in 4 people in the UK will suffer from shingles in their lifetime",
         "type": "\"long\""
        },
        {
         "metadata": "{}",
         "name": "90% of adults in the UK are infected with VZV, which causes shingles",
         "type": "\"long\""
        },
        {
         "metadata": "{}",
         "name": "The risk of shingles increases as immune system function declines",
         "type": "\"long\""
        },
        {
         "metadata": "{}",
         "name": "More than a rash, shingles and PHN can significantly impact a patient’s quality of life",
         "type": "\"long\""
        },
        {
         "metadata": "{}",
         "name": "Burden of Disease",
         "type": "\"long\""
        },
        {
         "metadata": "{}",
         "name": "National Immunisation Programme",
         "type": "\"long\""
        }
       ],
       "type": "table"
      }
     },
     "output_type": "display_data"
    },
    {
     "output_type": "display_data",
     "data": {
      "text/html": [
       "<style scoped>\n",
       "  .table-result-container {\n",
       "    max-height: 300px;\n",
       "    overflow: auto;\n",
       "  }\n",
       "  table, th, td {\n",
       "    border: 1px solid black;\n",
       "    border-collapse: collapse;\n",
       "  }\n",
       "  th, td {\n",
       "    padding: 5px;\n",
       "  }\n",
       "  th {\n",
       "    text-align: left;\n",
       "  }\n",
       "</style><div class='table-result-container'><table class='table-result'><thead style='background-color: white'><tr><th>Call Name</th><th>Call Number</th><th>Call Day</th><th>Call Month</th><th>The NIP being confusing</th><th>Setting up Shingrix clinics</th><th>Patient recall challenges</th><th>Second dose compliance</th></tr></thead><tbody><tr><td>Oct20_callrecording_01</td><td>1</td><td>20</td><td>10</td><td>Objection Not Raised</td><td>Objection Not Raised</td><td>Objection Not Raised</td><td>Objection Not Raised</td></tr><tr><td>Oct20_callrecording_02</td><td>2</td><td>20</td><td>10</td><td>Objection Raised</td><td>Objection Not Raised</td><td>Objection Not Raised</td><td>Objection Not Raised</td></tr><tr><td>Oct20_callrecording_03</td><td>3</td><td>20</td><td>10</td><td>Objection Raised</td><td>Objection Raised</td><td>Objection Not Raised</td><td>Objection Not Raised</td></tr><tr><td>Oct20_callrecording_04</td><td>4</td><td>20</td><td>10</td><td>Objection Not Raised</td><td>Objection Not Raised</td><td>Objection Raised</td><td>Objection Not Raised</td></tr><tr><td>Oct20_callrecording_05</td><td>5</td><td>20</td><td>10</td><td>Objection Raised</td><td>Objection Raised</td><td>Objection Raised</td><td>Objection Raised</td></tr><tr><td>Oct20_callrecording_07</td><td>7</td><td>20</td><td>10</td><td>Objection Raised</td><td>Objection Raised</td><td>Objection Raised</td><td>Objection Raised</td></tr><tr><td>Oct20_callrecording_08</td><td>8</td><td>20</td><td>10</td><td>Objection Not Raised</td><td>Objection Not Raised</td><td>Objection Not Raised</td><td>Objection Raised</td></tr><tr><td>Oct20_callrecording_09</td><td>9</td><td>20</td><td>10</td><td>Objection Not Raised</td><td>Objection Raised</td><td>Objection Not Raised</td><td>Objection Not Raised</td></tr><tr><td>Oct20_callrecording_10</td><td>10</td><td>20</td><td>10</td><td>Objection Raised</td><td>Objection Raised</td><td>Objection Not Raised</td><td>Objection Raised</td></tr><tr><td>Oct20_callrecording_11</td><td>11</td><td>20</td><td>10</td><td>Objection Not Raised</td><td>Objection Raised</td><td>Objection Raised</td><td>Objection Raised</td></tr><tr><td>Oct20_callrecording_12</td><td>12</td><td>20</td><td>10</td><td>Objection Raised</td><td>Objection Not Raised</td><td>Objection Not Raised</td><td>Objection Not Raised</td></tr><tr><td>Oct27_callrecording_01</td><td>1</td><td>27</td><td>10</td><td>Objection Raised</td><td>Objection Not Raised</td><td>Objection Raised</td><td>Objection Raised</td></tr><tr><td>Oct27_callrecording_02</td><td>2</td><td>27</td><td>10</td><td>Objection Raised</td><td>Objection Raised</td><td>Objection Not Raised</td><td>Objection Not Raised</td></tr><tr><td>Oct27_callrecording_03</td><td>3</td><td>27</td><td>10</td><td>Objection Raised</td><td>Objection Not Raised</td><td>Objection Not Raised</td><td>Objection Raised</td></tr><tr><td>Oct27_callrecording_04</td><td>4</td><td>27</td><td>10</td><td>Objection Raised</td><td>Objection Not Raised</td><td>Objection Not Raised</td><td>Objection Not Raised</td></tr><tr><td>Oct27_callrecording_05</td><td>5</td><td>27</td><td>10</td><td>Objection Raised</td><td>Objection Not Raised</td><td>Objection Not Raised</td><td>Objection Not Raised</td></tr><tr><td>Oct27_callrecording_06</td><td>6</td><td>27</td><td>10</td><td>Objection Raised</td><td>Objection Raised</td><td>Objection Raised</td><td>Objection Raised</td></tr><tr><td>Oct27_callrecording_07</td><td>7</td><td>27</td><td>10</td><td>Objection Raised</td><td>Objection Raised</td><td>Objection Raised</td><td>Objection Raised</td></tr><tr><td>Oct27_callrecording_08</td><td>8</td><td>27</td><td>10</td><td>Objection Raised</td><td>Objection Not Raised</td><td>Objection Raised</td><td>Objection Raised</td></tr><tr><td>Oct27_callrecording_09</td><td>9</td><td>27</td><td>10</td><td>Objection Raised</td><td>Objection Not Raised</td><td>Objection Not Raised</td><td>Objection Raised</td></tr><tr><td>Oct27_callrecording_10</td><td>10</td><td>27</td><td>10</td><td>Objection Not Raised</td><td>Objection Not Raised</td><td>Objection Not Raised</td><td>Objection Not Raised</td></tr><tr><td>Oct27_callrecording_11</td><td>11</td><td>27</td><td>10</td><td>Objection Raised</td><td>Objection Not Raised</td><td>Objection Not Raised</td><td>Objection Raised</td></tr><tr><td>Oct27_callrecording_12</td><td>12</td><td>27</td><td>10</td><td>Objection Raised</td><td>Objection Raised</td><td>Objection Raised</td><td>Objection Raised</td></tr><tr><td>Nov03_callrecording_01</td><td>1</td><td>3</td><td>11</td><td>Objection Raised</td><td>Objection Raised</td><td>Objection Raised</td><td>Objection Raised</td></tr><tr><td>Nov03_callrecording_02</td><td>2</td><td>3</td><td>11</td><td>Objection Not Raised</td><td>Objection Not Raised</td><td>Objection Not Raised</td><td>Objection Not Raised</td></tr><tr><td>Nov03_callrecording_03</td><td>3</td><td>3</td><td>11</td><td>Objection Not Raised</td><td>Objection Raised</td><td>Objection Not Raised</td><td>Objection Not Raised</td></tr><tr><td>Nov03_callrecording_04</td><td>4</td><td>3</td><td>11</td><td>Objection Raised</td><td>Objection Not Raised</td><td>Objection Raised</td><td>Objection Not Raised</td></tr><tr><td>Nov03_callrecording_05</td><td>5</td><td>3</td><td>11</td><td>Objection Raised</td><td>Objection Not Raised</td><td>Objection Raised</td><td>Objection Raised</td></tr><tr><td>Nov03_callrecording_06</td><td>6</td><td>3</td><td>11</td><td>Objection Raised</td><td>Objection Raised</td><td>Objection Not Raised</td><td>Objection Raised</td></tr><tr><td>Nov03_callrecording_07</td><td>7</td><td>3</td><td>11</td><td>Objection Not Raised</td><td>Objection Not Raised</td><td>Objection Not Raised</td><td>Objection Not Raised</td></tr><tr><td>Nov03_callrecording_08</td><td>8</td><td>3</td><td>11</td><td>Objection Not Raised</td><td>Objection Not Raised</td><td>Objection Not Raised</td><td>Objection Not Raised</td></tr></tbody></table></div>"
      ]
     },
     "metadata": {
      "application/vnd.databricks.v1+output": {
       "addedWidgets": {},
       "aggData": [],
       "aggError": "",
       "aggOverflow": false,
       "aggSchema": [],
       "aggSeriesLimitReached": false,
       "aggType": "",
       "arguments": {},
       "columnCustomDisplayInfos": {},
       "data": [
        [
         "Oct20_callrecording_01",
         1,
         20,
         10,
         "Objection Not Raised",
         "Objection Not Raised",
         "Objection Not Raised",
         "Objection Not Raised"
        ],
        [
         "Oct20_callrecording_02",
         2,
         20,
         10,
         "Objection Raised",
         "Objection Not Raised",
         "Objection Not Raised",
         "Objection Not Raised"
        ],
        [
         "Oct20_callrecording_03",
         3,
         20,
         10,
         "Objection Raised",
         "Objection Raised",
         "Objection Not Raised",
         "Objection Not Raised"
        ],
        [
         "Oct20_callrecording_04",
         4,
         20,
         10,
         "Objection Not Raised",
         "Objection Not Raised",
         "Objection Raised",
         "Objection Not Raised"
        ],
        [
         "Oct20_callrecording_05",
         5,
         20,
         10,
         "Objection Raised",
         "Objection Raised",
         "Objection Raised",
         "Objection Raised"
        ],
        [
         "Oct20_callrecording_07",
         7,
         20,
         10,
         "Objection Raised",
         "Objection Raised",
         "Objection Raised",
         "Objection Raised"
        ],
        [
         "Oct20_callrecording_08",
         8,
         20,
         10,
         "Objection Not Raised",
         "Objection Not Raised",
         "Objection Not Raised",
         "Objection Raised"
        ],
        [
         "Oct20_callrecording_09",
         9,
         20,
         10,
         "Objection Not Raised",
         "Objection Raised",
         "Objection Not Raised",
         "Objection Not Raised"
        ],
        [
         "Oct20_callrecording_10",
         10,
         20,
         10,
         "Objection Raised",
         "Objection Raised",
         "Objection Not Raised",
         "Objection Raised"
        ],
        [
         "Oct20_callrecording_11",
         11,
         20,
         10,
         "Objection Not Raised",
         "Objection Raised",
         "Objection Raised",
         "Objection Raised"
        ],
        [
         "Oct20_callrecording_12",
         12,
         20,
         10,
         "Objection Raised",
         "Objection Not Raised",
         "Objection Not Raised",
         "Objection Not Raised"
        ],
        [
         "Oct27_callrecording_01",
         1,
         27,
         10,
         "Objection Raised",
         "Objection Not Raised",
         "Objection Raised",
         "Objection Raised"
        ],
        [
         "Oct27_callrecording_02",
         2,
         27,
         10,
         "Objection Raised",
         "Objection Raised",
         "Objection Not Raised",
         "Objection Not Raised"
        ],
        [
         "Oct27_callrecording_03",
         3,
         27,
         10,
         "Objection Raised",
         "Objection Not Raised",
         "Objection Not Raised",
         "Objection Raised"
        ],
        [
         "Oct27_callrecording_04",
         4,
         27,
         10,
         "Objection Raised",
         "Objection Not Raised",
         "Objection Not Raised",
         "Objection Not Raised"
        ],
        [
         "Oct27_callrecording_05",
         5,
         27,
         10,
         "Objection Raised",
         "Objection Not Raised",
         "Objection Not Raised",
         "Objection Not Raised"
        ],
        [
         "Oct27_callrecording_06",
         6,
         27,
         10,
         "Objection Raised",
         "Objection Raised",
         "Objection Raised",
         "Objection Raised"
        ],
        [
         "Oct27_callrecording_07",
         7,
         27,
         10,
         "Objection Raised",
         "Objection Raised",
         "Objection Raised",
         "Objection Raised"
        ],
        [
         "Oct27_callrecording_08",
         8,
         27,
         10,
         "Objection Raised",
         "Objection Not Raised",
         "Objection Raised",
         "Objection Raised"
        ],
        [
         "Oct27_callrecording_09",
         9,
         27,
         10,
         "Objection Raised",
         "Objection Not Raised",
         "Objection Not Raised",
         "Objection Raised"
        ],
        [
         "Oct27_callrecording_10",
         10,
         27,
         10,
         "Objection Not Raised",
         "Objection Not Raised",
         "Objection Not Raised",
         "Objection Not Raised"
        ],
        [
         "Oct27_callrecording_11",
         11,
         27,
         10,
         "Objection Raised",
         "Objection Not Raised",
         "Objection Not Raised",
         "Objection Raised"
        ],
        [
         "Oct27_callrecording_12",
         12,
         27,
         10,
         "Objection Raised",
         "Objection Raised",
         "Objection Raised",
         "Objection Raised"
        ],
        [
         "Nov03_callrecording_01",
         1,
         3,
         11,
         "Objection Raised",
         "Objection Raised",
         "Objection Raised",
         "Objection Raised"
        ],
        [
         "Nov03_callrecording_02",
         2,
         3,
         11,
         "Objection Not Raised",
         "Objection Not Raised",
         "Objection Not Raised",
         "Objection Not Raised"
        ],
        [
         "Nov03_callrecording_03",
         3,
         3,
         11,
         "Objection Not Raised",
         "Objection Raised",
         "Objection Not Raised",
         "Objection Not Raised"
        ],
        [
         "Nov03_callrecording_04",
         4,
         3,
         11,
         "Objection Raised",
         "Objection Not Raised",
         "Objection Raised",
         "Objection Not Raised"
        ],
        [
         "Nov03_callrecording_05",
         5,
         3,
         11,
         "Objection Raised",
         "Objection Not Raised",
         "Objection Raised",
         "Objection Raised"
        ],
        [
         "Nov03_callrecording_06",
         6,
         3,
         11,
         "Objection Raised",
         "Objection Raised",
         "Objection Not Raised",
         "Objection Raised"
        ],
        [
         "Nov03_callrecording_07",
         7,
         3,
         11,
         "Objection Not Raised",
         "Objection Not Raised",
         "Objection Not Raised",
         "Objection Not Raised"
        ],
        [
         "Nov03_callrecording_08",
         8,
         3,
         11,
         "Objection Not Raised",
         "Objection Not Raised",
         "Objection Not Raised",
         "Objection Not Raised"
        ]
       ],
       "datasetInfos": [],
       "dbfsResultPath": null,
       "isJsonSchema": true,
       "metadata": {},
       "overflow": false,
       "plotOptions": {
        "customPlotOptions": {},
        "displayType": "table",
        "pivotAggregation": null,
        "pivotColumns": null,
        "xColumns": null,
        "yColumns": null
       },
       "removedWidgets": [],
       "schema": [
        {
         "metadata": "{}",
         "name": "Call Name",
         "type": "\"string\""
        },
        {
         "metadata": "{}",
         "name": "Call Number",
         "type": "\"long\""
        },
        {
         "metadata": "{}",
         "name": "Call Day",
         "type": "\"long\""
        },
        {
         "metadata": "{}",
         "name": "Call Month",
         "type": "\"long\""
        },
        {
         "metadata": "{}",
         "name": "The NIP being confusing",
         "type": "\"string\""
        },
        {
         "metadata": "{}",
         "name": "Setting up Shingrix clinics",
         "type": "\"string\""
        },
        {
         "metadata": "{}",
         "name": "Patient recall challenges",
         "type": "\"string\""
        },
        {
         "metadata": "{}",
         "name": "Second dose compliance",
         "type": "\"string\""
        }
       ],
       "type": "table"
      }
     },
     "output_type": "display_data"
    }
   ],
   "source": [
    "display(action_plan_combined)\n",
    "display(key_topic_combined)\n",
    "display(objection_combined)\n",
    "display(share_of_voice_combined)"
   ]
  },
  {
   "cell_type": "markdown",
   "metadata": {
    "application/vnd.databricks.v1+cell": {
     "cellMetadata": {
      "byteLimit": 2048000,
      "rowLimit": 10000
     },
     "inputWidgets": {},
     "nuid": "5992ba1e-f7c0-4f2a-9caf-5807fcb93f3d",
     "showTitle": false,
     "title": ""
    }
   },
   "source": [
    "## Data Manipulation"
   ]
  },
  {
   "cell_type": "markdown",
   "metadata": {
    "application/vnd.databricks.v1+cell": {
     "cellMetadata": {
      "byteLimit": 2048000,
      "rowLimit": 10000
     },
     "inputWidgets": {},
     "nuid": "674c7b5a-a34a-4167-9af6-af6a74feacf6",
     "showTitle": false,
     "title": ""
    }
   },
   "source": [
    "### Action Plan"
   ]
  },
  {
   "cell_type": "markdown",
   "metadata": {
    "application/vnd.databricks.v1+cell": {
     "cellMetadata": {
      "byteLimit": 2048000,
      "rowLimit": 10000
     },
     "inputWidgets": {},
     "nuid": "5ba53483-621e-40b6-b866-4e3a1c2adb87",
     "showTitle": false,
     "title": ""
    }
   },
   "source": [
    "#### Call Centred"
   ]
  },
  {
   "cell_type": "code",
   "execution_count": 0,
   "metadata": {
    "application/vnd.databricks.v1+cell": {
     "cellMetadata": {
      "byteLimit": 2048000,
      "rowLimit": 10000
     },
     "inputWidgets": {},
     "nuid": "14f26c3a-f9bd-45cb-88a0-128869e310f1",
     "showTitle": false,
     "title": ""
    }
   },
   "outputs": [],
   "source": [
    "action_plan_without_call_df = action_plan_combined.drop(columns=id_columns)\n",
    "action_plan_call_count = action_plan_combined.copy()\n",
    "\n",
    "action_plan_call_count[\"GSO Count\"] = action_plan_without_call_df.apply(\n",
    "    lambda row: row.str.count(\"GSO\")\n",
    ").sum(axis=1)\n",
    "action_plan_call_count[\"Discussed Count\"] = action_plan_without_call_df.apply(\n",
    "    lambda row: row.str.count(\"Discussed\")\n",
    ").sum(axis=1)\n",
    "action_plan_call_count[\"Not Discussed Count\"] = action_plan_without_call_df.apply(\n",
    "    lambda row: row.str.count(\"Not Discussed\")\n",
    ").sum(axis=1)\n",
    "\n",
    "action_plan_call_count[\"AP Components\"] = action_plan_call_count.apply(\n",
    "    lambda row: f\"{row['GSO Count']} AP Component's Agreed\"\n",
    "    if row[\"GSO Count\"] > 1\n",
    "    else \"1 AP Component Agreed\"\n",
    "    if row[\"GSO Count\"] > 0\n",
    "    else (\n",
    "        \"AP Component's Discussed\"\n",
    "        if row[\"Discussed Count\"] > 0\n",
    "        else \"No AP Component's Discussed\"\n",
    "    ),\n",
    "    axis=1,\n",
    ")"
   ]
  },
  {
   "cell_type": "code",
   "execution_count": 0,
   "metadata": {
    "application/vnd.databricks.v1+cell": {
     "cellMetadata": {
      "byteLimit": 2048000,
      "rowLimit": 10000
     },
     "inputWidgets": {},
     "nuid": "463dc1d2-297e-4824-8a48-d0f781792ae7",
     "showTitle": false,
     "title": ""
    }
   },
   "outputs": [
    {
     "output_type": "display_data",
     "data": {
      "text/html": [
       "<style scoped>\n",
       "  .table-result-container {\n",
       "    max-height: 300px;\n",
       "    overflow: auto;\n",
       "  }\n",
       "  table, th, td {\n",
       "    border: 1px solid black;\n",
       "    border-collapse: collapse;\n",
       "  }\n",
       "  th, td {\n",
       "    padding: 5px;\n",
       "  }\n",
       "  th {\n",
       "    text-align: left;\n",
       "  }\n",
       "</style><div class='table-result-container'><table class='table-result'><thead style='background-color: white'><tr><th>Call Name</th><th>Call Number</th><th>Call Day</th><th>Call Month</th><th>Identify Eligible Patients</th><th>Recall Eligible Patients</th><th>Set up Shingrix Clinic</th><th>Order Shingles Doses</th><th>Selling Outcome</th><th>GSO Count</th><th>Discussed Count</th><th>Not Discussed Count</th><th>AP Components</th></tr></thead><tbody><tr><td>Oct20_callrecording_01</td><td>1</td><td>20</td><td>10</td><td>Discussed</td><td>GSO</td><td>GSO</td><td>GSO</td><td>GSO</td><td>3</td><td>1</td><td>0</td><td>3 AP Component's Agreed</td></tr><tr><td>Oct20_callrecording_02</td><td>2</td><td>20</td><td>10</td><td>Discussed</td><td>Discussed</td><td>Not Discussed</td><td>Not Discussed</td><td>Discussed</td><td>0</td><td>4</td><td>2</td><td>AP Component's Discussed</td></tr><tr><td>Oct20_callrecording_03</td><td>3</td><td>20</td><td>10</td><td>Discussed</td><td>Discussed</td><td>Discussed</td><td>Not Discussed</td><td>Discussed</td><td>0</td><td>4</td><td>1</td><td>AP Component's Discussed</td></tr><tr><td>Oct20_callrecording_04</td><td>4</td><td>20</td><td>10</td><td>Discussed</td><td>Discussed</td><td>Not Discussed</td><td>Discussed</td><td>Discussed</td><td>0</td><td>4</td><td>1</td><td>AP Component's Discussed</td></tr><tr><td>Oct20_callrecording_05</td><td>5</td><td>20</td><td>10</td><td>Discussed</td><td>Discussed</td><td>GSO</td><td>Discussed</td><td>GSO</td><td>1</td><td>3</td><td>0</td><td>1 AP Component Agreed</td></tr><tr><td>Oct20_callrecording_07</td><td>7</td><td>20</td><td>10</td><td>Discussed</td><td>Discussed</td><td>Discussed</td><td>Discussed</td><td>Discussed</td><td>0</td><td>4</td><td>0</td><td>AP Component's Discussed</td></tr><tr><td>Oct20_callrecording_08</td><td>8</td><td>20</td><td>10</td><td>Discussed</td><td>Discussed</td><td>Not Discussed</td><td>Not Discussed</td><td>Discussed</td><td>0</td><td>4</td><td>2</td><td>AP Component's Discussed</td></tr><tr><td>Oct20_callrecording_09</td><td>9</td><td>20</td><td>10</td><td>Discussed</td><td>Discussed</td><td>Discussed</td><td>Not Discussed</td><td>Discussed</td><td>0</td><td>4</td><td>1</td><td>AP Component's Discussed</td></tr><tr><td>Oct20_callrecording_10</td><td>10</td><td>20</td><td>10</td><td>Discussed</td><td>Not Discussed</td><td>Discussed</td><td>GSO</td><td>GSO</td><td>1</td><td>3</td><td>1</td><td>1 AP Component Agreed</td></tr><tr><td>Oct20_callrecording_11</td><td>11</td><td>20</td><td>10</td><td>GSO</td><td>GSO</td><td>Discussed</td><td>Discussed</td><td>GSO</td><td>2</td><td>2</td><td>0</td><td>2 AP Component's Agreed</td></tr><tr><td>Oct20_callrecording_12</td><td>12</td><td>20</td><td>10</td><td>Discussed</td><td>Not Discussed</td><td>Discussed</td><td>Discussed</td><td>Discussed</td><td>0</td><td>4</td><td>1</td><td>AP Component's Discussed</td></tr><tr><td>Oct27_callrecording_01</td><td>1</td><td>27</td><td>10</td><td>Discussed</td><td>GSO</td><td>Not Discussed</td><td>Not Discussed</td><td>GSO</td><td>1</td><td>3</td><td>2</td><td>1 AP Component Agreed</td></tr><tr><td>Oct27_callrecording_02</td><td>2</td><td>27</td><td>10</td><td>Discussed</td><td>Discussed</td><td>Discussed</td><td>GSO</td><td>GSO</td><td>1</td><td>3</td><td>0</td><td>1 AP Component Agreed</td></tr><tr><td>Oct27_callrecording_03</td><td>3</td><td>27</td><td>10</td><td>Discussed</td><td>Discussed</td><td>Not Discussed</td><td>Not Discussed</td><td>Discussed</td><td>0</td><td>4</td><td>2</td><td>AP Component's Discussed</td></tr><tr><td>Oct27_callrecording_04</td><td>4</td><td>27</td><td>10</td><td>Discussed</td><td>Discussed</td><td>Not Discussed</td><td>Discussed</td><td>Discussed</td><td>0</td><td>4</td><td>1</td><td>AP Component's Discussed</td></tr><tr><td>Oct27_callrecording_05</td><td>5</td><td>27</td><td>10</td><td>Discussed</td><td>Discussed</td><td>Not Discussed</td><td>Not Discussed</td><td>Discussed</td><td>0</td><td>4</td><td>2</td><td>AP Component's Discussed</td></tr><tr><td>Oct27_callrecording_06</td><td>6</td><td>27</td><td>10</td><td>Discussed</td><td>Discussed</td><td>Discussed</td><td>Discussed</td><td>Discussed</td><td>0</td><td>4</td><td>0</td><td>AP Component's Discussed</td></tr><tr><td>Oct27_callrecording_07</td><td>7</td><td>27</td><td>10</td><td>Discussed</td><td>Discussed</td><td>Discussed</td><td>Not Discussed</td><td>Discussed</td><td>0</td><td>4</td><td>1</td><td>AP Component's Discussed</td></tr><tr><td>Oct27_callrecording_08</td><td>8</td><td>27</td><td>10</td><td>Discussed</td><td>Discussed</td><td>Not Discussed</td><td>Discussed</td><td>Discussed</td><td>0</td><td>4</td><td>1</td><td>AP Component's Discussed</td></tr><tr><td>Oct27_callrecording_09</td><td>9</td><td>27</td><td>10</td><td>Discussed</td><td>Discussed</td><td>Discussed</td><td>Not Discussed</td><td>Discussed</td><td>0</td><td>4</td><td>1</td><td>AP Component's Discussed</td></tr><tr><td>Oct27_callrecording_10</td><td>10</td><td>27</td><td>10</td><td>Discussed</td><td>GSO</td><td>Discussed</td><td>Not Discussed</td><td>GSO</td><td>1</td><td>3</td><td>1</td><td>1 AP Component Agreed</td></tr><tr><td>Oct27_callrecording_11</td><td>11</td><td>27</td><td>10</td><td>Discussed</td><td>Discussed</td><td>Not Discussed</td><td>Discussed</td><td>Discussed</td><td>0</td><td>4</td><td>1</td><td>AP Component's Discussed</td></tr><tr><td>Oct27_callrecording_12</td><td>12</td><td>27</td><td>10</td><td>Discussed</td><td>Discussed</td><td>Discussed</td><td>Not Discussed</td><td>Discussed</td><td>0</td><td>4</td><td>1</td><td>AP Component's Discussed</td></tr><tr><td>Nov03_callrecording_01</td><td>1</td><td>3</td><td>11</td><td>Discussed</td><td>Discussed</td><td>Discussed</td><td>Discussed</td><td>Discussed</td><td>0</td><td>4</td><td>0</td><td>AP Component's Discussed</td></tr><tr><td>Nov03_callrecording_02</td><td>2</td><td>3</td><td>11</td><td>Discussed</td><td>Discussed</td><td>Discussed</td><td>Not Discussed</td><td>Discussed</td><td>0</td><td>4</td><td>1</td><td>AP Component's Discussed</td></tr><tr><td>Nov03_callrecording_03</td><td>3</td><td>3</td><td>11</td><td>Discussed</td><td>Not Discussed</td><td>GSO</td><td>Not Discussed</td><td>GSO</td><td>1</td><td>3</td><td>2</td><td>1 AP Component Agreed</td></tr><tr><td>Nov03_callrecording_04</td><td>4</td><td>3</td><td>11</td><td>Discussed</td><td>Discussed</td><td>Discussed</td><td>Not Discussed</td><td>Discussed</td><td>0</td><td>4</td><td>1</td><td>AP Component's Discussed</td></tr><tr><td>Nov03_callrecording_05</td><td>5</td><td>3</td><td>11</td><td>Discussed</td><td>Discussed</td><td>Not Discussed</td><td>Not Discussed</td><td>Discussed</td><td>0</td><td>4</td><td>2</td><td>AP Component's Discussed</td></tr><tr><td>Nov03_callrecording_06</td><td>6</td><td>3</td><td>11</td><td>Discussed</td><td>Discussed</td><td>Discussed</td><td>Discussed</td><td>Discussed</td><td>0</td><td>4</td><td>0</td><td>AP Component's Discussed</td></tr><tr><td>Nov03_callrecording_07</td><td>7</td><td>3</td><td>11</td><td>Not Discussed</td><td>Not Discussed</td><td>Not Discussed</td><td>Not Discussed</td><td>Not Discussed</td><td>0</td><td>4</td><td>4</td><td>AP Component's Discussed</td></tr><tr><td>Nov03_callrecording_08</td><td>8</td><td>3</td><td>11</td><td>GSO</td><td>GSO</td><td>GSO</td><td>Not Discussed</td><td>GSO</td><td>3</td><td>1</td><td>1</td><td>3 AP Component's Agreed</td></tr></tbody></table></div>"
      ]
     },
     "metadata": {
      "application/vnd.databricks.v1+output": {
       "addedWidgets": {},
       "aggData": [],
       "aggError": "",
       "aggOverflow": false,
       "aggSchema": [],
       "aggSeriesLimitReached": false,
       "aggType": "",
       "arguments": {},
       "columnCustomDisplayInfos": {},
       "data": [
        [
         "Oct20_callrecording_01",
         1,
         20,
         10,
         "Discussed",
         "GSO",
         "GSO",
         "GSO",
         "GSO",
         3,
         1,
         0,
         "3 AP Component's Agreed"
        ],
        [
         "Oct20_callrecording_02",
         2,
         20,
         10,
         "Discussed",
         "Discussed",
         "Not Discussed",
         "Not Discussed",
         "Discussed",
         0,
         4,
         2,
         "AP Component's Discussed"
        ],
        [
         "Oct20_callrecording_03",
         3,
         20,
         10,
         "Discussed",
         "Discussed",
         "Discussed",
         "Not Discussed",
         "Discussed",
         0,
         4,
         1,
         "AP Component's Discussed"
        ],
        [
         "Oct20_callrecording_04",
         4,
         20,
         10,
         "Discussed",
         "Discussed",
         "Not Discussed",
         "Discussed",
         "Discussed",
         0,
         4,
         1,
         "AP Component's Discussed"
        ],
        [
         "Oct20_callrecording_05",
         5,
         20,
         10,
         "Discussed",
         "Discussed",
         "GSO",
         "Discussed",
         "GSO",
         1,
         3,
         0,
         "1 AP Component Agreed"
        ],
        [
         "Oct20_callrecording_07",
         7,
         20,
         10,
         "Discussed",
         "Discussed",
         "Discussed",
         "Discussed",
         "Discussed",
         0,
         4,
         0,
         "AP Component's Discussed"
        ],
        [
         "Oct20_callrecording_08",
         8,
         20,
         10,
         "Discussed",
         "Discussed",
         "Not Discussed",
         "Not Discussed",
         "Discussed",
         0,
         4,
         2,
         "AP Component's Discussed"
        ],
        [
         "Oct20_callrecording_09",
         9,
         20,
         10,
         "Discussed",
         "Discussed",
         "Discussed",
         "Not Discussed",
         "Discussed",
         0,
         4,
         1,
         "AP Component's Discussed"
        ],
        [
         "Oct20_callrecording_10",
         10,
         20,
         10,
         "Discussed",
         "Not Discussed",
         "Discussed",
         "GSO",
         "GSO",
         1,
         3,
         1,
         "1 AP Component Agreed"
        ],
        [
         "Oct20_callrecording_11",
         11,
         20,
         10,
         "GSO",
         "GSO",
         "Discussed",
         "Discussed",
         "GSO",
         2,
         2,
         0,
         "2 AP Component's Agreed"
        ],
        [
         "Oct20_callrecording_12",
         12,
         20,
         10,
         "Discussed",
         "Not Discussed",
         "Discussed",
         "Discussed",
         "Discussed",
         0,
         4,
         1,
         "AP Component's Discussed"
        ],
        [
         "Oct27_callrecording_01",
         1,
         27,
         10,
         "Discussed",
         "GSO",
         "Not Discussed",
         "Not Discussed",
         "GSO",
         1,
         3,
         2,
         "1 AP Component Agreed"
        ],
        [
         "Oct27_callrecording_02",
         2,
         27,
         10,
         "Discussed",
         "Discussed",
         "Discussed",
         "GSO",
         "GSO",
         1,
         3,
         0,
         "1 AP Component Agreed"
        ],
        [
         "Oct27_callrecording_03",
         3,
         27,
         10,
         "Discussed",
         "Discussed",
         "Not Discussed",
         "Not Discussed",
         "Discussed",
         0,
         4,
         2,
         "AP Component's Discussed"
        ],
        [
         "Oct27_callrecording_04",
         4,
         27,
         10,
         "Discussed",
         "Discussed",
         "Not Discussed",
         "Discussed",
         "Discussed",
         0,
         4,
         1,
         "AP Component's Discussed"
        ],
        [
         "Oct27_callrecording_05",
         5,
         27,
         10,
         "Discussed",
         "Discussed",
         "Not Discussed",
         "Not Discussed",
         "Discussed",
         0,
         4,
         2,
         "AP Component's Discussed"
        ],
        [
         "Oct27_callrecording_06",
         6,
         27,
         10,
         "Discussed",
         "Discussed",
         "Discussed",
         "Discussed",
         "Discussed",
         0,
         4,
         0,
         "AP Component's Discussed"
        ],
        [
         "Oct27_callrecording_07",
         7,
         27,
         10,
         "Discussed",
         "Discussed",
         "Discussed",
         "Not Discussed",
         "Discussed",
         0,
         4,
         1,
         "AP Component's Discussed"
        ],
        [
         "Oct27_callrecording_08",
         8,
         27,
         10,
         "Discussed",
         "Discussed",
         "Not Discussed",
         "Discussed",
         "Discussed",
         0,
         4,
         1,
         "AP Component's Discussed"
        ],
        [
         "Oct27_callrecording_09",
         9,
         27,
         10,
         "Discussed",
         "Discussed",
         "Discussed",
         "Not Discussed",
         "Discussed",
         0,
         4,
         1,
         "AP Component's Discussed"
        ],
        [
         "Oct27_callrecording_10",
         10,
         27,
         10,
         "Discussed",
         "GSO",
         "Discussed",
         "Not Discussed",
         "GSO",
         1,
         3,
         1,
         "1 AP Component Agreed"
        ],
        [
         "Oct27_callrecording_11",
         11,
         27,
         10,
         "Discussed",
         "Discussed",
         "Not Discussed",
         "Discussed",
         "Discussed",
         0,
         4,
         1,
         "AP Component's Discussed"
        ],
        [
         "Oct27_callrecording_12",
         12,
         27,
         10,
         "Discussed",
         "Discussed",
         "Discussed",
         "Not Discussed",
         "Discussed",
         0,
         4,
         1,
         "AP Component's Discussed"
        ],
        [
         "Nov03_callrecording_01",
         1,
         3,
         11,
         "Discussed",
         "Discussed",
         "Discussed",
         "Discussed",
         "Discussed",
         0,
         4,
         0,
         "AP Component's Discussed"
        ],
        [
         "Nov03_callrecording_02",
         2,
         3,
         11,
         "Discussed",
         "Discussed",
         "Discussed",
         "Not Discussed",
         "Discussed",
         0,
         4,
         1,
         "AP Component's Discussed"
        ],
        [
         "Nov03_callrecording_03",
         3,
         3,
         11,
         "Discussed",
         "Not Discussed",
         "GSO",
         "Not Discussed",
         "GSO",
         1,
         3,
         2,
         "1 AP Component Agreed"
        ],
        [
         "Nov03_callrecording_04",
         4,
         3,
         11,
         "Discussed",
         "Discussed",
         "Discussed",
         "Not Discussed",
         "Discussed",
         0,
         4,
         1,
         "AP Component's Discussed"
        ],
        [
         "Nov03_callrecording_05",
         5,
         3,
         11,
         "Discussed",
         "Discussed",
         "Not Discussed",
         "Not Discussed",
         "Discussed",
         0,
         4,
         2,
         "AP Component's Discussed"
        ],
        [
         "Nov03_callrecording_06",
         6,
         3,
         11,
         "Discussed",
         "Discussed",
         "Discussed",
         "Discussed",
         "Discussed",
         0,
         4,
         0,
         "AP Component's Discussed"
        ],
        [
         "Nov03_callrecording_07",
         7,
         3,
         11,
         "Not Discussed",
         "Not Discussed",
         "Not Discussed",
         "Not Discussed",
         "Not Discussed",
         0,
         4,
         4,
         "AP Component's Discussed"
        ],
        [
         "Nov03_callrecording_08",
         8,
         3,
         11,
         "GSO",
         "GSO",
         "GSO",
         "Not Discussed",
         "GSO",
         3,
         1,
         1,
         "3 AP Component's Agreed"
        ]
       ],
       "datasetInfos": [],
       "dbfsResultPath": null,
       "isJsonSchema": true,
       "metadata": {},
       "overflow": false,
       "plotOptions": {
        "customPlotOptions": {},
        "displayType": "table",
        "pivotAggregation": null,
        "pivotColumns": null,
        "xColumns": null,
        "yColumns": null
       },
       "removedWidgets": [],
       "schema": [
        {
         "metadata": "{}",
         "name": "Call Name",
         "type": "\"string\""
        },
        {
         "metadata": "{}",
         "name": "Call Number",
         "type": "\"long\""
        },
        {
         "metadata": "{}",
         "name": "Call Day",
         "type": "\"long\""
        },
        {
         "metadata": "{}",
         "name": "Call Month",
         "type": "\"long\""
        },
        {
         "metadata": "{}",
         "name": "Identify Eligible Patients",
         "type": "\"string\""
        },
        {
         "metadata": "{}",
         "name": "Recall Eligible Patients",
         "type": "\"string\""
        },
        {
         "metadata": "{}",
         "name": "Set up Shingrix Clinic",
         "type": "\"string\""
        },
        {
         "metadata": "{}",
         "name": "Order Shingles Doses",
         "type": "\"string\""
        },
        {
         "metadata": "{}",
         "name": "Selling Outcome",
         "type": "\"string\""
        },
        {
         "metadata": "{}",
         "name": "GSO Count",
         "type": "\"long\""
        },
        {
         "metadata": "{}",
         "name": "Discussed Count",
         "type": "\"long\""
        },
        {
         "metadata": "{}",
         "name": "Not Discussed Count",
         "type": "\"long\""
        },
        {
         "metadata": "{}",
         "name": "AP Components",
         "type": "\"string\""
        }
       ],
       "type": "table"
      }
     },
     "output_type": "display_data"
    }
   ],
   "source": [
    "display(action_plan_call_count)"
   ]
  },
  {
   "cell_type": "markdown",
   "metadata": {
    "application/vnd.databricks.v1+cell": {
     "cellMetadata": {
      "byteLimit": 2048000,
      "rowLimit": 10000
     },
     "inputWidgets": {},
     "nuid": "a3f7e2ab-fd90-4a76-8e99-5dda2ee82194",
     "showTitle": false,
     "title": ""
    }
   },
   "source": [
    "### Result Centred"
   ]
  },
  {
   "cell_type": "code",
   "execution_count": 0,
   "metadata": {
    "application/vnd.databricks.v1+cell": {
     "cellMetadata": {
      "byteLimit": 2048000,
      "rowLimit": 10000
     },
     "inputWidgets": {},
     "nuid": "ff9abae8-3526-4d60-ba86-bbcdefe74625",
     "showTitle": false,
     "title": ""
    }
   },
   "outputs": [],
   "source": [
    "action_plan_result_counts_dict = {\"Result\": [\"GSO\", \"Discussed\", \"Not Discussed\"]}\n",
    "\n",
    "# Count the values in each column\n",
    "for column in action_plan_without_call_df.columns:\n",
    "    counts = action_plan_without_call_df[column].value_counts()\n",
    "    action_plan_result_counts_dict[column] = [\n",
    "        counts.get(\"GSO\", 0),\n",
    "        counts.get(\"Discussed\", 0),\n",
    "        counts.get(\"Not Discussed\", 0),\n",
    "    ]\n",
    "\n",
    "# Create a DataFrame with the counts\n",
    "action_plan_result_counts_df = pd.DataFrame(\n",
    "    action_plan_result_counts_dict\n",
    ").set_index(\"Result\")\n",
    "\n",
    "action_plan_result_counts_df = action_plan_result_counts_df.reset_index()\n",
    "action_plan_result_counts_df = action_plan_result_counts_df.rename(\n",
    "    columns={\"index\": \"Result\"}\n",
    ")\n",
    "\n",
    "action_plan_result_melt = action_plan_result_counts_df.melt(\n",
    "    id_vars=\"Result\", var_name=\"Action\", value_name=\"Counts\"\n",
    ")"
   ]
  },
  {
   "cell_type": "code",
   "execution_count": 0,
   "metadata": {
    "application/vnd.databricks.v1+cell": {
     "cellMetadata": {
      "byteLimit": 2048000,
      "rowLimit": 10000
     },
     "inputWidgets": {},
     "nuid": "c7282f95-84ff-48da-8b5d-70e710976ff9",
     "showTitle": false,
     "title": ""
    }
   },
   "outputs": [
    {
     "output_type": "display_data",
     "data": {
      "text/html": [
       "<style scoped>\n",
       "  .table-result-container {\n",
       "    max-height: 300px;\n",
       "    overflow: auto;\n",
       "  }\n",
       "  table, th, td {\n",
       "    border: 1px solid black;\n",
       "    border-collapse: collapse;\n",
       "  }\n",
       "  th, td {\n",
       "    padding: 5px;\n",
       "  }\n",
       "  th {\n",
       "    text-align: left;\n",
       "  }\n",
       "</style><div class='table-result-container'><table class='table-result'><thead style='background-color: white'><tr><th>Result</th><th>Identify Eligible Patients</th><th>Recall Eligible Patients</th><th>Set up Shingrix Clinic</th><th>Order Shingles Doses</th><th>Selling Outcome</th></tr></thead><tbody><tr><td>GSO</td><td>2</td><td>5</td><td>4</td><td>3</td><td>9</td></tr><tr><td>Discussed</td><td>28</td><td>22</td><td>16</td><td>11</td><td>21</td></tr><tr><td>Not Discussed</td><td>1</td><td>4</td><td>11</td><td>17</td><td>1</td></tr></tbody></table></div>"
      ]
     },
     "metadata": {
      "application/vnd.databricks.v1+output": {
       "addedWidgets": {},
       "aggData": [],
       "aggError": "",
       "aggOverflow": false,
       "aggSchema": [],
       "aggSeriesLimitReached": false,
       "aggType": "",
       "arguments": {},
       "columnCustomDisplayInfos": {},
       "data": [
        [
         "GSO",
         2,
         5,
         4,
         3,
         9
        ],
        [
         "Discussed",
         28,
         22,
         16,
         11,
         21
        ],
        [
         "Not Discussed",
         1,
         4,
         11,
         17,
         1
        ]
       ],
       "datasetInfos": [],
       "dbfsResultPath": null,
       "isJsonSchema": true,
       "metadata": {},
       "overflow": false,
       "plotOptions": {
        "customPlotOptions": {},
        "displayType": "table",
        "pivotAggregation": null,
        "pivotColumns": null,
        "xColumns": null,
        "yColumns": null
       },
       "removedWidgets": [],
       "schema": [
        {
         "metadata": "{}",
         "name": "Result",
         "type": "\"string\""
        },
        {
         "metadata": "{}",
         "name": "Identify Eligible Patients",
         "type": "\"long\""
        },
        {
         "metadata": "{}",
         "name": "Recall Eligible Patients",
         "type": "\"long\""
        },
        {
         "metadata": "{}",
         "name": "Set up Shingrix Clinic",
         "type": "\"long\""
        },
        {
         "metadata": "{}",
         "name": "Order Shingles Doses",
         "type": "\"long\""
        },
        {
         "metadata": "{}",
         "name": "Selling Outcome",
         "type": "\"long\""
        }
       ],
       "type": "table"
      }
     },
     "output_type": "display_data"
    }
   ],
   "source": [
    "display(action_plan_result_melt)"
   ]
  },
  {
   "cell_type": "markdown",
   "metadata": {
    "application/vnd.databricks.v1+cell": {
     "cellMetadata": {
      "byteLimit": 2048000,
      "rowLimit": 10000
     },
     "inputWidgets": {},
     "nuid": "f17dd312-5d57-4a06-a1ed-f67903f462ca",
     "showTitle": false,
     "title": ""
    }
   },
   "source": [
    "#### Call Centred Transformation"
   ]
  },
  {
   "cell_type": "code",
   "execution_count": 0,
   "metadata": {
    "application/vnd.databricks.v1+cell": {
     "cellMetadata": {
      "byteLimit": 2048000,
      "rowLimit": 10000
     },
     "inputWidgets": {},
     "nuid": "0593941e-b92c-4b00-8895-a607ec66eb3c",
     "showTitle": false,
     "title": ""
    }
   },
   "outputs": [],
   "source": [
    "ction_plan_order = {\n",
    "    \"No AP Component's Discussed\": 0,\n",
    "    \"AP Component's Discussed\": 1,\n",
    "    \"1 AP Component Agreed\": 2,\n",
    "    \"2 AP Component's Agreed\": 3,\n",
    "    \"3 AP Component's Agreed\": 4,\n",
    "    \"4 AP Component's Agreed\": 5,\n",
    "    \"5 AP Component's Agreed\": 6,\n",
    "}\n",
    "\n",
    "action_plan_call_component_count = (\n",
    "    action_plan_call_count.groupby(\"AP Components\").size().reset_index(name=\"Count\")\n",
    ")\n",
    "\n",
    "action_plan_call_component_count[\"Order\"] = action_plan_call_component_count[\n",
    "    \"AP Components\"\n",
    "].map(action_plan_order)\n",
    "action_plan_call_component_count = action_plan_call_component_count.sort_values(\n",
    "    \"Order\"\n",
    ").reset_index(drop=True)\n",
    "action_plan_call_component_count = action_plan_call_component_count.drop(\n",
    "    columns=[\"Order\"]\n",
    ")"
   ]
  },
  {
   "cell_type": "code",
   "execution_count": 0,
   "metadata": {
    "application/vnd.databricks.v1+cell": {
     "cellMetadata": {
      "byteLimit": 2048000,
      "rowLimit": 10000
     },
     "inputWidgets": {},
     "nuid": "021a7a61-dc3f-4de3-a237-6bd4089b43ea",
     "showTitle": false,
     "title": ""
    }
   },
   "outputs": [
    {
     "output_type": "display_data",
     "data": {
      "text/html": [
       "<style scoped>\n",
       "  .table-result-container {\n",
       "    max-height: 300px;\n",
       "    overflow: auto;\n",
       "  }\n",
       "  table, th, td {\n",
       "    border: 1px solid black;\n",
       "    border-collapse: collapse;\n",
       "  }\n",
       "  th, td {\n",
       "    padding: 5px;\n",
       "  }\n",
       "  th {\n",
       "    text-align: left;\n",
       "  }\n",
       "</style><div class='table-result-container'><table class='table-result'><thead style='background-color: white'><tr><th>AP Components</th><th>Count</th></tr></thead><tbody><tr><td>AP Component's Discussed</td><td>22</td></tr><tr><td>1 AP Component Agreed</td><td>6</td></tr><tr><td>2 AP Component's Agreed</td><td>1</td></tr><tr><td>3 AP Component's Agreed</td><td>2</td></tr></tbody></table></div>"
      ]
     },
     "metadata": {
      "application/vnd.databricks.v1+output": {
       "addedWidgets": {},
       "aggData": [],
       "aggError": "",
       "aggOverflow": false,
       "aggSchema": [],
       "aggSeriesLimitReached": false,
       "aggType": "",
       "arguments": {},
       "columnCustomDisplayInfos": {},
       "data": [
        [
         "AP Component's Discussed",
         22
        ],
        [
         "1 AP Component Agreed",
         6
        ],
        [
         "2 AP Component's Agreed",
         1
        ],
        [
         "3 AP Component's Agreed",
         2
        ]
       ],
       "datasetInfos": [],
       "dbfsResultPath": null,
       "isJsonSchema": true,
       "metadata": {},
       "overflow": false,
       "plotOptions": {
        "customPlotOptions": {},
        "displayType": "table",
        "pivotAggregation": null,
        "pivotColumns": null,
        "xColumns": null,
        "yColumns": null
       },
       "removedWidgets": [],
       "schema": [
        {
         "metadata": "{}",
         "name": "AP Components",
         "type": "\"string\""
        },
        {
         "metadata": "{}",
         "name": "Count",
         "type": "\"long\""
        }
       ],
       "type": "table"
      }
     },
     "output_type": "display_data"
    }
   ],
   "source": [
    "display(action_plan_call_component_count)"
   ]
  },
  {
   "cell_type": "markdown",
   "metadata": {
    "application/vnd.databricks.v1+cell": {
     "cellMetadata": {
      "byteLimit": 2048000,
      "rowLimit": 10000
     },
     "inputWidgets": {},
     "nuid": "ccb3cd3d-66b7-4d1f-a6cb-5ca2bfb6c771",
     "showTitle": false,
     "title": ""
    }
   },
   "source": [
    "### Results Centred Transformations"
   ]
  },
  {
   "cell_type": "code",
   "execution_count": 0,
   "metadata": {
    "application/vnd.databricks.v1+cell": {
     "cellMetadata": {
      "byteLimit": 2048000,
      "rowLimit": 10000
     },
     "inputWidgets": {},
     "nuid": "6e184270-c44a-418d-bd18-65343b39a72e",
     "showTitle": false,
     "title": ""
    }
   },
   "outputs": [],
   "source": [
    "selling_outcome_result_counts_df = selling_outcome_combined[\n",
    "    id_columns + [\"Selling Outcome\"]\n",
    "]\n",
    "\n",
    "value_counts = selling_outcome_result_counts_df[\"Selling Outcome\"].value_counts()\n",
    "selling_outcome_result_groupby = pd.DataFrame(\n",
    "    {\"Result\": value_counts.index, \"Counts\": value_counts.values}\n",
    ")\n",
    "\n",
    "selling_outcome_result_groupby[\"Action\"] = \"Selling Outcome\"\n",
    "\n",
    "selling_outcome_result_groupby = selling_outcome_result_groupby[\n",
    "    [\"Result\", \"Action\", \"Counts\"]\n",
    "]"
   ]
  },
  {
   "cell_type": "code",
   "execution_count": 0,
   "metadata": {
    "application/vnd.databricks.v1+cell": {
     "cellMetadata": {
      "byteLimit": 2048000,
      "rowLimit": 10000
     },
     "inputWidgets": {},
     "nuid": "17f78837-8004-4aa4-ac19-bbdea7ecb82c",
     "showTitle": false,
     "title": ""
    }
   },
   "outputs": [
    {
     "output_type": "display_data",
     "data": {
      "text/html": [
       "<style scoped>\n",
       "  .table-result-container {\n",
       "    max-height: 300px;\n",
       "    overflow: auto;\n",
       "  }\n",
       "  table, th, td {\n",
       "    border: 1px solid black;\n",
       "    border-collapse: collapse;\n",
       "  }\n",
       "  th, td {\n",
       "    padding: 5px;\n",
       "  }\n",
       "  th {\n",
       "    text-align: left;\n",
       "  }\n",
       "</style><div class='table-result-container'><table class='table-result'><thead style='background-color: white'><tr><th>Result</th><th>Action</th><th>Counts</th></tr></thead><tbody><tr><td>GSO</td><td>Selling Outcome</td><td>9</td></tr><tr><td>Discussed</td><td>Selling Outcome</td><td>21</td></tr><tr><td>Not Discussed</td><td>Selling Outcome</td><td>1</td></tr></tbody></table></div>"
      ]
     },
     "metadata": {
      "application/vnd.databricks.v1+output": {
       "addedWidgets": {},
       "aggData": [],
       "aggError": "",
       "aggOverflow": false,
       "aggSchema": [],
       "aggSeriesLimitReached": false,
       "aggType": "",
       "arguments": {},
       "columnCustomDisplayInfos": {},
       "data": [
        [
         "GSO",
         "Selling Outcome",
         9
        ],
        [
         "Discussed",
         "Selling Outcome",
         21
        ],
        [
         "Not Discussed",
         "Selling Outcome",
         1
        ]
       ],
       "datasetInfos": [],
       "dbfsResultPath": null,
       "isJsonSchema": true,
       "metadata": {},
       "overflow": false,
       "plotOptions": {
        "customPlotOptions": {},
        "displayType": "table",
        "pivotAggregation": null,
        "pivotColumns": null,
        "xColumns": null,
        "yColumns": null
       },
       "removedWidgets": [],
       "schema": [
        {
         "metadata": "{}",
         "name": "Result",
         "type": "\"string\""
        },
        {
         "metadata": "{}",
         "name": "Action",
         "type": "\"string\""
        },
        {
         "metadata": "{}",
         "name": "Counts",
         "type": "\"long\""
        }
       ],
       "type": "table"
      }
     },
     "output_type": "display_data"
    },
    {
     "output_type": "display_data",
     "data": {
      "text/html": [
       "<style scoped>\n",
       "  .table-result-container {\n",
       "    max-height: 300px;\n",
       "    overflow: auto;\n",
       "  }\n",
       "  table, th, td {\n",
       "    border: 1px solid black;\n",
       "    border-collapse: collapse;\n",
       "  }\n",
       "  th, td {\n",
       "    padding: 5px;\n",
       "  }\n",
       "  th {\n",
       "    text-align: left;\n",
       "  }\n",
       "</style><div class='table-result-container'><table class='table-result'><thead style='background-color: white'><tr><th>Result</th><th>Action</th><th>Counts</th></tr></thead><tbody><tr><td>GSO</td><td>Identify Eligible Patients</td><td>2</td></tr><tr><td>Discussed</td><td>Identify Eligible Patients</td><td>28</td></tr><tr><td>Not Discussed</td><td>Identify Eligible Patients</td><td>1</td></tr><tr><td>GSO</td><td>Recall Eligible Patients</td><td>5</td></tr><tr><td>Discussed</td><td>Recall Eligible Patients</td><td>22</td></tr><tr><td>Not Discussed</td><td>Recall Eligible Patients</td><td>4</td></tr><tr><td>GSO</td><td>Set up Shingrix Clinic</td><td>4</td></tr><tr><td>Discussed</td><td>Set up Shingrix Clinic</td><td>16</td></tr><tr><td>Not Discussed</td><td>Set up Shingrix Clinic</td><td>11</td></tr><tr><td>GSO</td><td>Order Shingles Doses</td><td>3</td></tr><tr><td>Discussed</td><td>Order Shingles Doses</td><td>11</td></tr><tr><td>Not Discussed</td><td>Order Shingles Doses</td><td>17</td></tr></tbody></table></div>"
      ]
     },
     "metadata": {
      "application/vnd.databricks.v1+output": {
       "addedWidgets": {},
       "aggData": [],
       "aggError": "",
       "aggOverflow": false,
       "aggSchema": [],
       "aggSeriesLimitReached": false,
       "aggType": "",
       "arguments": {},
       "columnCustomDisplayInfos": {},
       "data": [
        [
         "GSO",
         "Identify Eligible Patients",
         2
        ],
        [
         "Discussed",
         "Identify Eligible Patients",
         28
        ],
        [
         "Not Discussed",
         "Identify Eligible Patients",
         1
        ],
        [
         "GSO",
         "Recall Eligible Patients",
         5
        ],
        [
         "Discussed",
         "Recall Eligible Patients",
         22
        ],
        [
         "Not Discussed",
         "Recall Eligible Patients",
         4
        ],
        [
         "GSO",
         "Set up Shingrix Clinic",
         4
        ],
        [
         "Discussed",
         "Set up Shingrix Clinic",
         16
        ],
        [
         "Not Discussed",
         "Set up Shingrix Clinic",
         11
        ],
        [
         "GSO",
         "Order Shingles Doses",
         3
        ],
        [
         "Discussed",
         "Order Shingles Doses",
         11
        ],
        [
         "Not Discussed",
         "Order Shingles Doses",
         17
        ]
       ],
       "datasetInfos": [],
       "dbfsResultPath": null,
       "isJsonSchema": true,
       "metadata": {},
       "overflow": false,
       "plotOptions": {
        "customPlotOptions": {},
        "displayType": "table",
        "pivotAggregation": null,
        "pivotColumns": null,
        "xColumns": null,
        "yColumns": null
       },
       "removedWidgets": [],
       "schema": [
        {
         "metadata": "{}",
         "name": "Result",
         "type": "\"string\""
        },
        {
         "metadata": "{}",
         "name": "Action",
         "type": "\"string\""
        },
        {
         "metadata": "{}",
         "name": "Counts",
         "type": "\"long\""
        }
       ],
       "type": "table"
      }
     },
     "output_type": "display_data"
    }
   ],
   "source": [
    "display(selling_outcome_result_groupby)"
   ]
  },
  {
   "cell_type": "markdown",
   "metadata": {
    "application/vnd.databricks.v1+cell": {
     "cellMetadata": {
      "byteLimit": 2048000,
      "rowLimit": 10000
     },
     "inputWidgets": {},
     "nuid": "01736e88-ced0-4c33-bd17-f625a7542e38",
     "showTitle": false,
     "title": ""
    }
   },
   "source": [
    "### Key Topic"
   ]
  },
  {
   "cell_type": "code",
   "execution_count": 0,
   "metadata": {
    "application/vnd.databricks.v1+cell": {
     "cellMetadata": {
      "byteLimit": 2048000,
      "rowLimit": 10000
     },
     "inputWidgets": {},
     "nuid": "bfa4c0b6-695c-4d2d-a9d0-9c5a700af9c1",
     "showTitle": false,
     "title": ""
    }
   },
   "outputs": [],
   "source": [
    "key_topic_count_df = key_topic_combined.copy()\n",
    "    key_topic_column_names = [f\"key_message_{i}_count\" for i in range(1, 7)] + [\n",
    "        \"bod_count\",\n",
    "        \"nip_count\",\n",
    "    ]\n",
    "    key_topic_count_df.columns = id_columns + key_topic_column_names\n",
    "    key_topic_count_df[\"all_key_messages_count\"] = (\n",
    "        key_topic_count_df[[f\"key_message_{i}_count\" for i in range(1, 7)]]\n",
    "        .sum(axis=1)\n",
    "        .astype(int)\n",
    "    )\n",
    "\n",
    "    for column in key_topic_column_names + [\"all_key_messages_count\"]:\n",
    "        key_topic_count_df[\n",
    "            f\"{re.sub('_count', '', column)}_conveyed\"\n",
    "        ] = key_topic_count_df[column].apply(lambda x: 1 if x > 0 else 0)"
   ]
  },
  {
   "cell_type": "code",
   "execution_count": 0,
   "metadata": {
    "application/vnd.databricks.v1+cell": {
     "cellMetadata": {
      "byteLimit": 2048000,
      "rowLimit": 10000
     },
     "inputWidgets": {},
     "nuid": "f5ee2a16-c5f1-41dd-868c-4b122b1e07e4",
     "showTitle": false,
     "title": ""
    }
   },
   "outputs": [],
   "source": [
    "conveyed_columns = [col for col in key_topic_count_df.columns if \"conveyed\" in col]\n",
    "key_message_mapping_dict = {\n",
    "    f\"key_message_{i}_conveyed\": f\"Key Message {i}\" for i in range(1, 7)\n",
    "}\n",
    "other_mapping_dict = {\n",
    "    \"index\": \"Conveyed\",\n",
    "    \"all_key_messages_conveyed\": \"Key Messages\",\n",
    "    \"bod_conveyed\": \"Burden of Disease\",\n",
    "    \"nip_conveyed\": \"National Immunisation Programme\",\n",
    "}\n",
    "key_message_mapping_dict.update(other_mapping_dict)\n",
    "\n",
    "key_topic_conveyed_df = (\n",
    "    key_topic_count_df[conveyed_columns]\n",
    "    .apply(pd.Series.value_counts)\n",
    "    .fillna(0)\n",
    "    .astype(int)\n",
    "    .reset_index()\n",
    ")\n",
    "key_topic_conveyed_df = key_topic_conveyed_df.rename(\n",
    "    columns=key_message_mapping_dict\n",
    ")\n",
    "\n",
    "key_topic_conveyed_df[\"Conveyed\"] = key_topic_conveyed_df[\"Conveyed\"].replace(\n",
    "    {0: \"Not Conveyed\", 1: \"Conveyed\"}\n",
    ")\n",
    "key_topic_agg_count_df = key_topic_conveyed_df[\n",
    "    [\n",
    "        \"Conveyed\",\n",
    "        \"Key Messages\",\n",
    "        \"Burden of Disease\",\n",
    "        \"National Immunisation Programme\",\n",
    "    ]\n",
    "]\n",
    "key_topic_sep_count_df = key_topic_conveyed_df.drop(columns=[\"Key Messages\"])\n",
    "\n",
    "key_topic_agg_melt = key_topic_agg_count_df.melt(\n",
    "    id_vars=\"Conveyed\", var_name=\"Topic\", value_name=\"Count\"\n",
    ")\n",
    "key_topic_sep_melt = key_topic_sep_count_df.melt(\n",
    "    id_vars=\"Conveyed\", var_name=\"Topic\", value_name=\"Count\"\n",
    ")\n",
    "\n",
    "key_topic_agg_sorted = key_topic_agg_melt.sort_values(by=[\"Conveyed\"]).reset_index(\n",
    "    drop=True\n",
    ")\n",
    "key_topic_sep_sorted = key_topic_sep_melt.sort_values(by=[\"Conveyed\"]).reset_index(\n",
    "    drop=True\n",
    ")"
   ]
  },
  {
   "cell_type": "code",
   "execution_count": 0,
   "metadata": {
    "application/vnd.databricks.v1+cell": {
     "cellMetadata": {
      "byteLimit": 2048000,
      "rowLimit": 10000
     },
     "inputWidgets": {},
     "nuid": "f682672d-efaf-4c8e-af11-03b31a806308",
     "showTitle": false,
     "title": ""
    }
   },
   "outputs": [
    {
     "output_type": "display_data",
     "data": {
      "text/html": [
       "<style scoped>\n",
       "  .table-result-container {\n",
       "    max-height: 300px;\n",
       "    overflow: auto;\n",
       "  }\n",
       "  table, th, td {\n",
       "    border: 1px solid black;\n",
       "    border-collapse: collapse;\n",
       "  }\n",
       "  th, td {\n",
       "    padding: 5px;\n",
       "  }\n",
       "  th {\n",
       "    text-align: left;\n",
       "  }\n",
       "</style><div class='table-result-container'><table class='table-result'><thead style='background-color: white'><tr><th>Conveyed</th><th>Topic</th><th>Count</th></tr></thead><tbody><tr><td>Conveyed</td><td>Key Messages</td><td>21</td></tr><tr><td>Conveyed</td><td>Burden of Disease</td><td>9</td></tr><tr><td>Conveyed</td><td>National Immunisation Programme</td><td>26</td></tr><tr><td>Not Conveyed</td><td>Key Messages</td><td>10</td></tr><tr><td>Not Conveyed</td><td>Burden of Disease</td><td>22</td></tr><tr><td>Not Conveyed</td><td>National Immunisation Programme</td><td>5</td></tr></tbody></table></div>"
      ]
     },
     "metadata": {
      "application/vnd.databricks.v1+output": {
       "addedWidgets": {},
       "aggData": [],
       "aggError": "",
       "aggOverflow": false,
       "aggSchema": [],
       "aggSeriesLimitReached": false,
       "aggType": "",
       "arguments": {},
       "columnCustomDisplayInfos": {},
       "data": [
        [
         "Conveyed",
         "Key Messages",
         21
        ],
        [
         "Conveyed",
         "Burden of Disease",
         9
        ],
        [
         "Conveyed",
         "National Immunisation Programme",
         26
        ],
        [
         "Not Conveyed",
         "Key Messages",
         10
        ],
        [
         "Not Conveyed",
         "Burden of Disease",
         22
        ],
        [
         "Not Conveyed",
         "National Immunisation Programme",
         5
        ]
       ],
       "datasetInfos": [],
       "dbfsResultPath": null,
       "isJsonSchema": true,
       "metadata": {},
       "overflow": false,
       "plotOptions": {
        "customPlotOptions": {},
        "displayType": "table",
        "pivotAggregation": null,
        "pivotColumns": null,
        "xColumns": null,
        "yColumns": null
       },
       "removedWidgets": [],
       "schema": [
        {
         "metadata": "{}",
         "name": "Conveyed",
         "type": "\"string\""
        },
        {
         "metadata": "{}",
         "name": "Topic",
         "type": "\"string\""
        },
        {
         "metadata": "{}",
         "name": "Count",
         "type": "\"long\""
        }
       ],
       "type": "table"
      }
     },
     "output_type": "display_data"
    },
    {
     "output_type": "display_data",
     "data": {
      "text/html": [
       "<style scoped>\n",
       "  .table-result-container {\n",
       "    max-height: 300px;\n",
       "    overflow: auto;\n",
       "  }\n",
       "  table, th, td {\n",
       "    border: 1px solid black;\n",
       "    border-collapse: collapse;\n",
       "  }\n",
       "  th, td {\n",
       "    padding: 5px;\n",
       "  }\n",
       "  th {\n",
       "    text-align: left;\n",
       "  }\n",
       "</style><div class='table-result-container'><table class='table-result'><thead style='background-color: white'><tr><th>Conveyed</th><th>Topic</th><th>Count</th></tr></thead><tbody><tr><td>Conveyed</td><td>Key Message 1</td><td>15</td></tr><tr><td>Conveyed</td><td>Key Message 2</td><td>16</td></tr><tr><td>Conveyed</td><td>Key Message 3</td><td>7</td></tr><tr><td>Conveyed</td><td>Key Message 4</td><td>11</td></tr><tr><td>Conveyed</td><td>Key Message 5</td><td>17</td></tr><tr><td>Conveyed</td><td>Key Message 6</td><td>13</td></tr><tr><td>Conveyed</td><td>Burden of Disease</td><td>9</td></tr><tr><td>Conveyed</td><td>National Immunisation Programme</td><td>26</td></tr><tr><td>Not Conveyed</td><td>Key Message 1</td><td>16</td></tr><tr><td>Not Conveyed</td><td>Key Message 2</td><td>15</td></tr><tr><td>Not Conveyed</td><td>Key Message 3</td><td>24</td></tr><tr><td>Not Conveyed</td><td>Key Message 4</td><td>20</td></tr><tr><td>Not Conveyed</td><td>Key Message 5</td><td>14</td></tr><tr><td>Not Conveyed</td><td>Key Message 6</td><td>18</td></tr><tr><td>Not Conveyed</td><td>Burden of Disease</td><td>22</td></tr><tr><td>Not Conveyed</td><td>National Immunisation Programme</td><td>5</td></tr></tbody></table></div>"
      ]
     },
     "metadata": {
      "application/vnd.databricks.v1+output": {
       "addedWidgets": {},
       "aggData": [],
       "aggError": "",
       "aggOverflow": false,
       "aggSchema": [],
       "aggSeriesLimitReached": false,
       "aggType": "",
       "arguments": {},
       "columnCustomDisplayInfos": {},
       "data": [
        [
         "Conveyed",
         "Key Message 1",
         15
        ],
        [
         "Conveyed",
         "Key Message 2",
         16
        ],
        [
         "Conveyed",
         "Key Message 3",
         7
        ],
        [
         "Conveyed",
         "Key Message 4",
         11
        ],
        [
         "Conveyed",
         "Key Message 5",
         17
        ],
        [
         "Conveyed",
         "Key Message 6",
         13
        ],
        [
         "Conveyed",
         "Burden of Disease",
         9
        ],
        [
         "Conveyed",
         "National Immunisation Programme",
         26
        ],
        [
         "Not Conveyed",
         "Key Message 1",
         16
        ],
        [
         "Not Conveyed",
         "Key Message 2",
         15
        ],
        [
         "Not Conveyed",
         "Key Message 3",
         24
        ],
        [
         "Not Conveyed",
         "Key Message 4",
         20
        ],
        [
         "Not Conveyed",
         "Key Message 5",
         14
        ],
        [
         "Not Conveyed",
         "Key Message 6",
         18
        ],
        [
         "Not Conveyed",
         "Burden of Disease",
         22
        ],
        [
         "Not Conveyed",
         "National Immunisation Programme",
         5
        ]
       ],
       "datasetInfos": [],
       "dbfsResultPath": null,
       "isJsonSchema": true,
       "metadata": {},
       "overflow": false,
       "plotOptions": {
        "customPlotOptions": {},
        "displayType": "table",
        "pivotAggregation": null,
        "pivotColumns": null,
        "xColumns": null,
        "yColumns": null
       },
       "removedWidgets": [],
       "schema": [
        {
         "metadata": "{}",
         "name": "Conveyed",
         "type": "\"string\""
        },
        {
         "metadata": "{}",
         "name": "Topic",
         "type": "\"string\""
        },
        {
         "metadata": "{}",
         "name": "Count",
         "type": "\"long\""
        }
       ],
       "type": "table"
      }
     },
     "output_type": "display_data"
    }
   ],
   "source": [
    "display(key_topic_agg_sorted)\n",
    "display(key_topic_sep_sorted)"
   ]
  },
  {
   "cell_type": "markdown",
   "metadata": {
    "application/vnd.databricks.v1+cell": {
     "cellMetadata": {
      "byteLimit": 2048000,
      "rowLimit": 10000
     },
     "inputWidgets": {},
     "nuid": "c1b16166-1104-487a-93fb-1a9ce165e6d2",
     "showTitle": false,
     "title": ""
    }
   },
   "source": [
    "### Objections"
   ]
  },
  {
   "cell_type": "code",
   "execution_count": 0,
   "metadata": {
    "application/vnd.databricks.v1+cell": {
     "cellMetadata": {
      "byteLimit": 2048000,
      "rowLimit": 10000
     },
     "inputWidgets": {},
     "nuid": "23a03c2d-2209-471f-a93f-63878cb8f70b",
     "showTitle": false,
     "title": ""
    }
   },
   "outputs": [],
   "source": [
    "objection_raised_df = (\n",
    "    objection_combined.drop(columns=id_columns)\n",
    "    .apply(pd.Series.value_counts)\n",
    "    .fillna(0)\n",
    "    .astype(int)\n",
    "    .reset_index()\n",
    ")\n",
    "objection_raised_df = objection_raised_df.rename(columns={\"index\": \"Raised\"})\n",
    "objection_raised_df = objection_raised_df.melt(\n",
    "    id_vars=\"Raised\", var_name=\"Topic\", value_name=\"Count\"\n",
    ")\n",
    "objection_raised_df = objection_raised_df.sort_values(\n",
    "    by=[\"Raised\", \"Count\"], ascending=[False, True]\n",
    ").reset_index(drop=True)\n",
    "objection_raised_df = objection_raised_df.replace(\n",
    "    {\"Raised\": {\"True\": \"Objection Raised\", \"False\": \"Objection Not Raised\"}}\n",
    ")"
   ]
  },
  {
   "cell_type": "code",
   "execution_count": 0,
   "metadata": {
    "application/vnd.databricks.v1+cell": {
     "cellMetadata": {
      "byteLimit": 2048000,
      "rowLimit": 10000
     },
     "inputWidgets": {},
     "nuid": "f0080d5d-b818-4589-a902-0a6796c26975",
     "showTitle": false,
     "title": ""
    }
   },
   "outputs": [
    {
     "output_type": "display_data",
     "data": {
      "text/html": [
       "<style scoped>\n",
       "  .table-result-container {\n",
       "    max-height: 300px;\n",
       "    overflow: auto;\n",
       "  }\n",
       "  table, th, td {\n",
       "    border: 1px solid black;\n",
       "    border-collapse: collapse;\n",
       "  }\n",
       "  th, td {\n",
       "    padding: 5px;\n",
       "  }\n",
       "  th {\n",
       "    text-align: left;\n",
       "  }\n",
       "</style><div class='table-result-container'><table class='table-result'><thead style='background-color: white'><tr><th>Raised</th><th>Topic</th><th>Count</th></tr></thead><tbody><tr><td>Objection Raised</td><td>Patient recall challenges</td><td>12</td></tr><tr><td>Objection Raised</td><td>Setting up Shingrix clinics</td><td>13</td></tr><tr><td>Objection Raised</td><td>Second dose compliance</td><td>16</td></tr><tr><td>Objection Raised</td><td>The NIP being confusing</td><td>21</td></tr><tr><td>Objection Not Raised</td><td>The NIP being confusing</td><td>10</td></tr><tr><td>Objection Not Raised</td><td>Second dose compliance</td><td>15</td></tr><tr><td>Objection Not Raised</td><td>Setting up Shingrix clinics</td><td>18</td></tr><tr><td>Objection Not Raised</td><td>Patient recall challenges</td><td>19</td></tr></tbody></table></div>"
      ]
     },
     "metadata": {
      "application/vnd.databricks.v1+output": {
       "addedWidgets": {},
       "aggData": [],
       "aggError": "",
       "aggOverflow": false,
       "aggSchema": [],
       "aggSeriesLimitReached": false,
       "aggType": "",
       "arguments": {},
       "columnCustomDisplayInfos": {},
       "data": [
        [
         "Objection Raised",
         "Patient recall challenges",
         12
        ],
        [
         "Objection Raised",
         "Setting up Shingrix clinics",
         13
        ],
        [
         "Objection Raised",
         "Second dose compliance",
         16
        ],
        [
         "Objection Raised",
         "The NIP being confusing",
         21
        ],
        [
         "Objection Not Raised",
         "The NIP being confusing",
         10
        ],
        [
         "Objection Not Raised",
         "Second dose compliance",
         15
        ],
        [
         "Objection Not Raised",
         "Setting up Shingrix clinics",
         18
        ],
        [
         "Objection Not Raised",
         "Patient recall challenges",
         19
        ]
       ],
       "datasetInfos": [],
       "dbfsResultPath": null,
       "isJsonSchema": true,
       "metadata": {},
       "overflow": false,
       "plotOptions": {
        "customPlotOptions": {},
        "displayType": "table",
        "pivotAggregation": null,
        "pivotColumns": null,
        "xColumns": null,
        "yColumns": null
       },
       "removedWidgets": [],
       "schema": [
        {
         "metadata": "{}",
         "name": "Raised",
         "type": "\"string\""
        },
        {
         "metadata": "{}",
         "name": "Topic",
         "type": "\"string\""
        },
        {
         "metadata": "{}",
         "name": "Count",
         "type": "\"long\""
        }
       ],
       "type": "table"
      }
     },
     "output_type": "display_data"
    }
   ],
   "source": [
    "display(objection_raised_df)"
   ]
  },
  {
   "cell_type": "code",
   "execution_count": 0,
   "metadata": {
    "application/vnd.databricks.v1+cell": {
     "cellMetadata": {},
     "inputWidgets": {},
     "nuid": "ed763923-b630-4a45-93cd-0add361df6f7",
     "showTitle": false,
     "title": ""
    }
   },
   "outputs": [],
   "source": [
    "share_of_voice_combined = convert_to_time_delta(\n",
    "        share_of_voice_combined,\n",
    "        exclude_cols=id_columns,\n",
    "    )\n",
    "\n",
    "    speaker_columns = [\n",
    "        \"Healthcare Professional\",\n",
    "        \"Representative\",\n",
    "        \"Silence/Background\",\n",
    "    ]\n",
    "    percentage_speaking_time_cols = id_columns + [\n",
    "        col\n",
    "        for col in share_of_voice_combined.columns\n",
    "        if \"Percentage of Speaking Time\" in col\n",
    "    ]\n",
    "    percentage_speaking_time_df = share_of_voice_combined[percentage_speaking_time_cols]\n",
    "    percentage_speaking_time_df[\"Call Identifier\"] = percentage_speaking_time_df.apply(\n",
    "        lambda row: f\"Call {row['Call Number']} {row['Call Day']}/{row['Call Month']}\",\n",
    "        axis=1,\n",
    "    )\n",
    "    percentage_speaking_time_df = percentage_speaking_time_df.drop(columns=id_columns)\n",
    "    percentage_speaking_time_df.columns = speaker_columns + [\"Call Identifier\"]\n",
    "    percentage_speaking_time_df = percentage_speaking_time_df[\n",
    "        [\n",
    "            \"Call Identifier\",\n",
    "            \"Representative\",\n",
    "            \"Healthcare Professional\",\n",
    "            \"Silence/Background\",\n",
    "        ]\n",
    "    ]\n",
    "\n",
    "    percentage_speaking_time_melt = percentage_speaking_time_df.melt(\n",
    "        id_vars=\"Call Identifier\", var_name=\"Speaker\", value_name=\"Percentage\"\n",
    "    )"
   ]
  },
  {
   "cell_type": "code",
   "execution_count": 0,
   "metadata": {
    "application/vnd.databricks.v1+cell": {
     "cellMetadata": {},
     "inputWidgets": {},
     "nuid": "e43b90de-33a2-41e1-a991-5cd8e3deb827",
     "showTitle": false,
     "title": ""
    }
   },
   "outputs": [],
   "source": [
    "total_speaking_time_cols = id_columns + [\n",
    "        col for col in share_of_voice_combined.columns if \"Total Speaking Time\" in col\n",
    "    ]\n",
    "    total_speaking_time_df = share_of_voice_combined[total_speaking_time_cols]\n",
    "    total_speaking_time_df[\"Call Identifier\"] = total_speaking_time_df.apply(\n",
    "        lambda row: f\"Call {row['Call Number']} {row['Call Day']}/{row['Call Month']}\",\n",
    "        axis=1,\n",
    "    )\n",
    "\n",
    "    total_speaking_time_df = total_speaking_time_df.drop(columns=id_columns)\n",
    "    total_speaking_time_df.columns = speaker_columns + [\"Call Identifier\"]\n",
    "    total_speaking_time_df = total_speaking_time_df[\n",
    "        [\n",
    "            \"Call Identifier\",\n",
    "            \"Representative\",\n",
    "            \"Healthcare Professional\",\n",
    "            \"Silence/Background\",\n",
    "        ]\n",
    "    ]\n",
    "\n",
    "    for col in speaker_columns:\n",
    "        total_speaking_time_df[col] = total_speaking_time_df[col].apply(\n",
    "            timedelta_to_minutes\n",
    "        )\n",
    "\n",
    "    total_speaking_time_melt = total_speaking_time_df.melt(\n",
    "        id_vars=\"Call Identifier\", var_name=\"Speaker\", value_name=\"Time\"\n",
    "    )\n",
    "\n",
    "    total_speaking_time_melt[\"Minutes String\"] = total_speaking_time_melt[\"Time\"].apply(\n",
    "        lambda x: \"{:02}:{:02}:{:02}\".format(\n",
    "            int(x // 60), int(x % 60), int((x % 1) * 60)\n",
    "        )\n",
    "    )"
   ]
  },
  {
   "cell_type": "code",
   "execution_count": 0,
   "metadata": {
    "application/vnd.databricks.v1+cell": {
     "cellMetadata": {},
     "inputWidgets": {},
     "nuid": "893241b1-80ba-48d3-800c-3e6ae3361944",
     "showTitle": false,
     "title": ""
    }
   },
   "outputs": [],
   "source": [
    "percentage_speaking_time = share_of_voice_combined[\n",
    "        id_columns + [\"HCP Percentage of Speaking Time\"]\n",
    "    ]\n",
    "\n",
    "    so_percentage_speaking_time = pd.merge(\n",
    "        selling_outcome_combined, percentage_speaking_time\n",
    "    )\n",
    "\n",
    "    conditions = [\n",
    "        (so_percentage_speaking_time[\"HCP Percentage of Speaking Time\"] > 0)\n",
    "        & (so_percentage_speaking_time[\"HCP Percentage of Speaking Time\"] <= 0.15),\n",
    "        (so_percentage_speaking_time[\"HCP Percentage of Speaking Time\"] > 0.15)\n",
    "        & (so_percentage_speaking_time[\"HCP Percentage of Speaking Time\"] <= 0.30),\n",
    "        (so_percentage_speaking_time[\"HCP Percentage of Speaking Time\"] > 0.30)\n",
    "        & (so_percentage_speaking_time[\"HCP Percentage of Speaking Time\"] <= 0.45),\n",
    "        (so_percentage_speaking_time[\"HCP Percentage of Speaking Time\"] > 0.45)\n",
    "        & (so_percentage_speaking_time[\"HCP Percentage of Speaking Time\"] <= 1),\n",
    "    ]\n",
    "    choices = [\"0%-15%\", \"15%-30%\", \"30%-45%\", \"45%-100%\"]\n",
    "    so_percentage_speaking_time[\"HCP Participation\"] = np.select(\n",
    "        conditions, choices, default=\"black\"\n",
    "    )\n",
    "    so_percentage_speaking_time = so_percentage_speaking_time[\n",
    "        [\"Selling Outcome\", \"HCP Participation\"]\n",
    "    ]\n",
    "\n",
    "    so_percentage_speaking_time_groupby = (\n",
    "        so_percentage_speaking_time.groupby([\"Selling Outcome\", \"HCP Participation\"])\n",
    "        .agg({\"Selling Outcome\": [\"count\"]})\n",
    "        .reset_index()\n",
    "    )\n",
    "\n",
    "    so_percentage_speaking_time_groupby = so_percentage_speaking_time_groupby.droplevel(\n",
    "        1, axis=1\n",
    "    )\n",
    "\n",
    "    so_percentage_speaking_time_groupby.columns = [\n",
    "        \"Selling Outcome\",\n",
    "        \"HCP Participation\",\n",
    "        \"Count\",\n",
    "    ]"
   ]
  },
  {
   "cell_type": "code",
   "execution_count": 0,
   "metadata": {
    "application/vnd.databricks.v1+cell": {
     "cellMetadata": {},
     "inputWidgets": {},
     "nuid": "3c42a973-0b6a-4ec7-9750-8ff1f34ebc58",
     "showTitle": false,
     "title": ""
    }
   },
   "outputs": [],
   "source": [
    "objection_combined[\"Objection Count\"] = (\n",
    "        objection_combined.iloc[:, 5:]\n",
    "        .apply(lambda row: row.str.count(\"Objection Raised\"))\n",
    "        .sum(axis=1)\n",
    "    )\n",
    "\n",
    "    so_objections = pd.merge(\n",
    "        selling_outcome_combined,\n",
    "        objection_combined[id_columns + [\"Objection Count\"]],\n",
    "    )\n",
    "\n",
    "    so_objections_groupby = (\n",
    "        so_objections.groupby([\"Selling Outcome\", \"Objection Count\"])\n",
    "        .agg({\"Selling Outcome\": [\"count\"]})\n",
    "        .reset_index()\n",
    "    )\n",
    "\n",
    "    so_objections_groupby = so_objections_groupby.droplevel(1, axis=1)\n",
    "\n",
    "    so_objections_groupby.columns = [\"Selling Outcome\", \"Objection Count\", \"Count\"]"
   ]
  },
  {
   "cell_type": "code",
   "execution_count": 0,
   "metadata": {
    "application/vnd.databricks.v1+cell": {
     "cellMetadata": {},
     "inputWidgets": {},
     "nuid": "6c83ccbb-1e9f-4224-95da-5309416ff56c",
     "showTitle": false,
     "title": ""
    }
   },
   "outputs": [],
   "source": [
    "key_topic_conveyed = key_topic_combined.copy()\n",
    "    key_topic_column_names = [f\"key_message_{i}_count\" for i in range(1, 7)] + [\n",
    "        \"bod_count\",\n",
    "        \"nip_count\",\n",
    "    ]\n",
    "    key_topic_conveyed_column_names = [\n",
    "        f\"key_message_{i}_conveyed\" for i in range(1, 7)\n",
    "    ] + [\n",
    "        \"bod_conveyed\",\n",
    "        \"nip_conveyed\",\n",
    "    ]\n",
    "    key_topic_conveyed.columns = id_columns + key_topic_column_names\n",
    "\n",
    "    for column in key_topic_column_names:\n",
    "        key_topic_conveyed[\n",
    "            f\"{re.sub('_count', '', column)}_conveyed\"\n",
    "        ] = key_topic_count_df[column].apply(lambda x: 1 if x > 0 else 0)\n",
    "\n",
    "    key_topic_conveyed = key_topic_conveyed[\n",
    "        id_columns + key_topic_conveyed_column_names\n",
    "    ]\n",
    "\n",
    "    key_topic_conveyed[\"Key Topic Conveyed Count\"] = key_topic_conveyed.iloc[:, 5:].sum(\n",
    "        axis=1\n",
    "    )"
   ]
  },
  {
   "cell_type": "code",
   "execution_count": 0,
   "metadata": {
    "application/vnd.databricks.v1+cell": {
     "cellMetadata": {},
     "inputWidgets": {},
     "nuid": "b1a93b15-4ae8-485f-88ca-3e1acf425865",
     "showTitle": false,
     "title": ""
    }
   },
   "outputs": [],
   "source": [
    "so_key_topics = pd.merge(\n",
    "        selling_outcome_combined,\n",
    "        key_topic_conveyed[id_columns + [\"Key Topic Conveyed Count\"]],\n",
    "    )\n",
    "\n",
    "    so_key_topics_groupby = (\n",
    "        so_key_topics.groupby([\"Selling Outcome\", \"Key Topic Conveyed Count\"])\n",
    "        .agg({\"Selling Outcome\": [\"count\"]})\n",
    "        .reset_index()\n",
    "    )\n",
    "\n",
    "    so_key_topics_groupby = so_key_topics_groupby.droplevel(1, axis=1)\n",
    "\n",
    "    so_key_topics_groupby.columns = [\n",
    "        \"Selling Outcome\",\n",
    "        \"Key Topic Conveyed Count\",\n",
    "        \"Count\",\n",
    "    ]"
   ]
  },
  {
   "cell_type": "code",
   "execution_count": 0,
   "metadata": {
    "application/vnd.databricks.v1+cell": {
     "cellMetadata": {},
     "inputWidgets": {},
     "nuid": "1ca17a5c-07dd-4774-864b-a19e874ec505",
     "showTitle": false,
     "title": ""
    }
   },
   "outputs": [],
   "source": []
  },
  {
   "cell_type": "markdown",
   "metadata": {
    "application/vnd.databricks.v1+cell": {
     "cellMetadata": {
      "byteLimit": 2048000,
      "rowLimit": 10000
     },
     "inputWidgets": {},
     "nuid": "4a23d309-1193-49df-a278-4695c97d731c",
     "showTitle": false,
     "title": ""
    }
   },
   "source": [
    "## Data Visualisation"
   ]
  },
  {
   "cell_type": "code",
   "execution_count": 0,
   "metadata": {
    "application/vnd.databricks.v1+cell": {
     "cellMetadata": {
      "byteLimit": 2048000,
      "rowLimit": 10000
     },
     "inputWidgets": {},
     "nuid": "8932aea5-e05d-4227-a95b-38a7ff0753b4",
     "showTitle": false,
     "title": ""
    }
   },
   "outputs": [],
   "source": [
    "action_plan_components_colors = {\n",
    "    \"No AP Component's Discussed\": \"#EAC959\",\n",
    "    \"AP Component's Discussed\": \"#B0CF94\",\n",
    "    \"1 AP Component Agreed\": \"#76D5CF\",\n",
    "    \"2 AP Component's Agreed\": \"#4EA8A2\",\n",
    "    \"3 AP Component's Agreed\": \"#267A74\",\n",
    "    \"4 AP Component's Agreed\": \"#206661\",\n",
    "    \"5 AP Component's Agreed\": \"#19514E\",\n",
    "}\n",
    "\n",
    "selling_outcome_colours = {\n",
    "    \"GSO\": \"#32A29B\",\n",
    "    \"Discussed\": \"#EAC959\",\n",
    "    \"Not Discussed\": \"#E3E3E5\",\n",
    "}\n",
    "\n",
    "key_topic_colors = {\n",
    "    \"Conveyed\": \"#8CBAFF\",\n",
    "    \"Not Conveyed\": \"#75737D\",\n",
    "}\n",
    "\n",
    "objection_colors = {\n",
    "    \"Objection Raised\": \"#8CBAFF\",\n",
    "    \"Objection Not Raised\": \"#75737D\",\n",
    "}\n",
    "\n",
    "speaker_colors = {\n",
    "    \"Representative\": \"#244EA2\",\n",
    "    \"Healthcare Professional\": \"#99B3E8\",\n",
    "    \"Silence/Background\": \"#EAEAEA\",\n",
    "    # \"Unknown/Other\": \"#39393A\",\n",
    "}"
   ]
  },
  {
   "cell_type": "code",
   "execution_count": 0,
   "metadata": {
    "application/vnd.databricks.v1+cell": {
     "cellMetadata": {
      "byteLimit": 2048000,
      "rowLimit": 10000
     },
     "inputWidgets": {},
     "nuid": "1405f276-054c-457b-bd9a-ac7c0cd89775",
     "showTitle": false,
     "title": ""
    }
   },
   "outputs": [
    {
     "output_type": "display_data",
     "data": {
      "text/html": [
       "<html>\n",
       "<head><meta charset=\"utf-8\" /></head>\n",
       "<body>\n",
       "    <div>            <script src=\"https://cdnjs.cloudflare.com/ajax/libs/mathjax/2.7.5/MathJax.js?config=TeX-AMS-MML_SVG\"></script><script type=\"text/javascript\">if (window.MathJax && window.MathJax.Hub && window.MathJax.Hub.Config) {window.MathJax.Hub.Config({SVG: {font: \"STIX-Web\"}});}</script>                <script type=\"text/javascript\">window.PlotlyConfig = {MathJaxConfig: 'local'};</script>\n",
       "        <script src=\"https://cdn.plot.ly/plotly-2.12.1.min.js\"></script>                <div id=\"213f8ca7-8f8b-45e9-8775-6db41078bc72\" class=\"plotly-graph-div\" style=\"height:100%; width:800px;\"></div>            <script type=\"text/javascript\">                                    window.PLOTLYENV=window.PLOTLYENV || {};                                    if (document.getElementById(\"213f8ca7-8f8b-45e9-8775-6db41078bc72\")) {                    Plotly.newPlot(                        \"213f8ca7-8f8b-45e9-8775-6db41078bc72\",                        [{\"alignmentgroup\":\"True\",\"hovertemplate\":\"AP Components=%{x}<br>Count=%{y}<extra></extra>\",\"legendgroup\":\"AP Component's Discussed\",\"marker\":{\"color\":\"#B0CF94\",\"pattern\":{\"shape\":\"\"}},\"name\":\"AP Component's Discussed\",\"offsetgroup\":\"AP Component's Discussed\",\"orientation\":\"v\",\"showlegend\":true,\"textposition\":\"auto\",\"x\":[\"AP Component's Discussed\"],\"xaxis\":\"x\",\"y\":[22],\"yaxis\":\"y\",\"type\":\"bar\"},{\"alignmentgroup\":\"True\",\"hovertemplate\":\"AP Components=%{x}<br>Count=%{y}<extra></extra>\",\"legendgroup\":\"1 AP Component Agreed\",\"marker\":{\"color\":\"#76D5CF\",\"pattern\":{\"shape\":\"\"}},\"name\":\"1 AP Component Agreed\",\"offsetgroup\":\"1 AP Component Agreed\",\"orientation\":\"v\",\"showlegend\":true,\"textposition\":\"auto\",\"x\":[\"1 AP Component Agreed\"],\"xaxis\":\"x\",\"y\":[6],\"yaxis\":\"y\",\"type\":\"bar\"},{\"alignmentgroup\":\"True\",\"hovertemplate\":\"AP Components=%{x}<br>Count=%{y}<extra></extra>\",\"legendgroup\":\"2 AP Component's Agreed\",\"marker\":{\"color\":\"#4EA8A2\",\"pattern\":{\"shape\":\"\"}},\"name\":\"2 AP Component's Agreed\",\"offsetgroup\":\"2 AP Component's Agreed\",\"orientation\":\"v\",\"showlegend\":true,\"textposition\":\"auto\",\"x\":[\"2 AP Component's Agreed\"],\"xaxis\":\"x\",\"y\":[1],\"yaxis\":\"y\",\"type\":\"bar\"},{\"alignmentgroup\":\"True\",\"hovertemplate\":\"AP Components=%{x}<br>Count=%{y}<extra></extra>\",\"legendgroup\":\"3 AP Component's Agreed\",\"marker\":{\"color\":\"#267A74\",\"pattern\":{\"shape\":\"\"}},\"name\":\"3 AP Component's Agreed\",\"offsetgroup\":\"3 AP Component's Agreed\",\"orientation\":\"v\",\"showlegend\":true,\"textposition\":\"auto\",\"x\":[\"3 AP Component's Agreed\"],\"xaxis\":\"x\",\"y\":[2],\"yaxis\":\"y\",\"type\":\"bar\"}],                        {\"template\":{\"data\":{\"histogram2dcontour\":[{\"type\":\"histogram2dcontour\",\"colorbar\":{\"outlinewidth\":0,\"ticks\":\"\"},\"colorscale\":[[0.0,\"#0d0887\"],[0.1111111111111111,\"#46039f\"],[0.2222222222222222,\"#7201a8\"],[0.3333333333333333,\"#9c179e\"],[0.4444444444444444,\"#bd3786\"],[0.5555555555555556,\"#d8576b\"],[0.6666666666666666,\"#ed7953\"],[0.7777777777777778,\"#fb9f3a\"],[0.8888888888888888,\"#fdca26\"],[1.0,\"#f0f921\"]]}],\"choropleth\":[{\"type\":\"choropleth\",\"colorbar\":{\"outlinewidth\":0,\"ticks\":\"\"}}],\"histogram2d\":[{\"type\":\"histogram2d\",\"colorbar\":{\"outlinewidth\":0,\"ticks\":\"\"},\"colorscale\":[[0.0,\"#0d0887\"],[0.1111111111111111,\"#46039f\"],[0.2222222222222222,\"#7201a8\"],[0.3333333333333333,\"#9c179e\"],[0.4444444444444444,\"#bd3786\"],[0.5555555555555556,\"#d8576b\"],[0.6666666666666666,\"#ed7953\"],[0.7777777777777778,\"#fb9f3a\"],[0.8888888888888888,\"#fdca26\"],[1.0,\"#f0f921\"]]}],\"heatmap\":[{\"type\":\"heatmap\",\"colorbar\":{\"outlinewidth\":0,\"ticks\":\"\"},\"colorscale\":[[0.0,\"#0d0887\"],[0.1111111111111111,\"#46039f\"],[0.2222222222222222,\"#7201a8\"],[0.3333333333333333,\"#9c179e\"],[0.4444444444444444,\"#bd3786\"],[0.5555555555555556,\"#d8576b\"],[0.6666666666666666,\"#ed7953\"],[0.7777777777777778,\"#fb9f3a\"],[0.8888888888888888,\"#fdca26\"],[1.0,\"#f0f921\"]]}],\"heatmapgl\":[{\"type\":\"heatmapgl\",\"colorbar\":{\"outlinewidth\":0,\"ticks\":\"\"},\"colorscale\":[[0.0,\"#0d0887\"],[0.1111111111111111,\"#46039f\"],[0.2222222222222222,\"#7201a8\"],[0.3333333333333333,\"#9c179e\"],[0.4444444444444444,\"#bd3786\"],[0.5555555555555556,\"#d8576b\"],[0.6666666666666666,\"#ed7953\"],[0.7777777777777778,\"#fb9f3a\"],[0.8888888888888888,\"#fdca26\"],[1.0,\"#f0f921\"]]}],\"contourcarpet\":[{\"type\":\"contourcarpet\",\"colorbar\":{\"outlinewidth\":0,\"ticks\":\"\"}}],\"contour\":[{\"type\":\"contour\",\"colorbar\":{\"outlinewidth\":0,\"ticks\":\"\"},\"colorscale\":[[0.0,\"#0d0887\"],[0.1111111111111111,\"#46039f\"],[0.2222222222222222,\"#7201a8\"],[0.3333333333333333,\"#9c179e\"],[0.4444444444444444,\"#bd3786\"],[0.5555555555555556,\"#d8576b\"],[0.6666666666666666,\"#ed7953\"],[0.7777777777777778,\"#fb9f3a\"],[0.8888888888888888,\"#fdca26\"],[1.0,\"#f0f921\"]]}],\"surface\":[{\"type\":\"surface\",\"colorbar\":{\"outlinewidth\":0,\"ticks\":\"\"},\"colorscale\":[[0.0,\"#0d0887\"],[0.1111111111111111,\"#46039f\"],[0.2222222222222222,\"#7201a8\"],[0.3333333333333333,\"#9c179e\"],[0.4444444444444444,\"#bd3786\"],[0.5555555555555556,\"#d8576b\"],[0.6666666666666666,\"#ed7953\"],[0.7777777777777778,\"#fb9f3a\"],[0.8888888888888888,\"#fdca26\"],[1.0,\"#f0f921\"]]}],\"mesh3d\":[{\"type\":\"mesh3d\",\"colorbar\":{\"outlinewidth\":0,\"ticks\":\"\"}}],\"scatter\":[{\"fillpattern\":{\"fillmode\":\"overlay\",\"size\":10,\"solidity\":0.2},\"type\":\"scatter\"}],\"parcoords\":[{\"type\":\"parcoords\",\"line\":{\"colorbar\":{\"outlinewidth\":0,\"ticks\":\"\"}}}],\"scatterpolargl\":[{\"type\":\"scatterpolargl\",\"marker\":{\"colorbar\":{\"outlinewidth\":0,\"ticks\":\"\"}}}],\"bar\":[{\"error_x\":{\"color\":\"#2a3f5f\"},\"error_y\":{\"color\":\"#2a3f5f\"},\"marker\":{\"line\":{\"color\":\"#E5ECF6\",\"width\":0.5},\"pattern\":{\"fillmode\":\"overlay\",\"size\":10,\"solidity\":0.2}},\"type\":\"bar\"}],\"scattergeo\":[{\"type\":\"scattergeo\",\"marker\":{\"colorbar\":{\"outlinewidth\":0,\"ticks\":\"\"}}}],\"scatterpolar\":[{\"type\":\"scatterpolar\",\"marker\":{\"colorbar\":{\"outlinewidth\":0,\"ticks\":\"\"}}}],\"histogram\":[{\"marker\":{\"pattern\":{\"fillmode\":\"overlay\",\"size\":10,\"solidity\":0.2}},\"type\":\"histogram\"}],\"scattergl\":[{\"type\":\"scattergl\",\"marker\":{\"colorbar\":{\"outlinewidth\":0,\"ticks\":\"\"}}}],\"scatter3d\":[{\"type\":\"scatter3d\",\"line\":{\"colorbar\":{\"outlinewidth\":0,\"ticks\":\"\"}},\"marker\":{\"colorbar\":{\"outlinewidth\":0,\"ticks\":\"\"}}}],\"scattermapbox\":[{\"type\":\"scattermapbox\",\"marker\":{\"colorbar\":{\"outlinewidth\":0,\"ticks\":\"\"}}}],\"scatterternary\":[{\"type\":\"scatterternary\",\"marker\":{\"colorbar\":{\"outlinewidth\":0,\"ticks\":\"\"}}}],\"scattercarpet\":[{\"type\":\"scattercarpet\",\"marker\":{\"colorbar\":{\"outlinewidth\":0,\"ticks\":\"\"}}}],\"carpet\":[{\"aaxis\":{\"endlinecolor\":\"#2a3f5f\",\"gridcolor\":\"white\",\"linecolor\":\"white\",\"minorgridcolor\":\"white\",\"startlinecolor\":\"#2a3f5f\"},\"baxis\":{\"endlinecolor\":\"#2a3f5f\",\"gridcolor\":\"white\",\"linecolor\":\"white\",\"minorgridcolor\":\"white\",\"startlinecolor\":\"#2a3f5f\"},\"type\":\"carpet\"}],\"table\":[{\"cells\":{\"fill\":{\"color\":\"#EBF0F8\"},\"line\":{\"color\":\"white\"}},\"header\":{\"fill\":{\"color\":\"#C8D4E3\"},\"line\":{\"color\":\"white\"}},\"type\":\"table\"}],\"barpolar\":[{\"marker\":{\"line\":{\"color\":\"#E5ECF6\",\"width\":0.5},\"pattern\":{\"fillmode\":\"overlay\",\"size\":10,\"solidity\":0.2}},\"type\":\"barpolar\"}],\"pie\":[{\"automargin\":true,\"type\":\"pie\"}]},\"layout\":{\"autotypenumbers\":\"strict\",\"colorway\":[\"#636efa\",\"#EF553B\",\"#00cc96\",\"#ab63fa\",\"#FFA15A\",\"#19d3f3\",\"#FF6692\",\"#B6E880\",\"#FF97FF\",\"#FECB52\"],\"font\":{\"color\":\"#2a3f5f\"},\"hovermode\":\"closest\",\"hoverlabel\":{\"align\":\"left\"},\"paper_bgcolor\":\"white\",\"plot_bgcolor\":\"#E5ECF6\",\"polar\":{\"bgcolor\":\"#E5ECF6\",\"angularaxis\":{\"gridcolor\":\"white\",\"linecolor\":\"white\",\"ticks\":\"\"},\"radialaxis\":{\"gridcolor\":\"white\",\"linecolor\":\"white\",\"ticks\":\"\"}},\"ternary\":{\"bgcolor\":\"#E5ECF6\",\"aaxis\":{\"gridcolor\":\"white\",\"linecolor\":\"white\",\"ticks\":\"\"},\"baxis\":{\"gridcolor\":\"white\",\"linecolor\":\"white\",\"ticks\":\"\"},\"caxis\":{\"gridcolor\":\"white\",\"linecolor\":\"white\",\"ticks\":\"\"}},\"coloraxis\":{\"colorbar\":{\"outlinewidth\":0,\"ticks\":\"\"}},\"colorscale\":{\"sequential\":[[0.0,\"#0d0887\"],[0.1111111111111111,\"#46039f\"],[0.2222222222222222,\"#7201a8\"],[0.3333333333333333,\"#9c179e\"],[0.4444444444444444,\"#bd3786\"],[0.5555555555555556,\"#d8576b\"],[0.6666666666666666,\"#ed7953\"],[0.7777777777777778,\"#fb9f3a\"],[0.8888888888888888,\"#fdca26\"],[1.0,\"#f0f921\"]],\"sequentialminus\":[[0.0,\"#0d0887\"],[0.1111111111111111,\"#46039f\"],[0.2222222222222222,\"#7201a8\"],[0.3333333333333333,\"#9c179e\"],[0.4444444444444444,\"#bd3786\"],[0.5555555555555556,\"#d8576b\"],[0.6666666666666666,\"#ed7953\"],[0.7777777777777778,\"#fb9f3a\"],[0.8888888888888888,\"#fdca26\"],[1.0,\"#f0f921\"]],\"diverging\":[[0,\"#8e0152\"],[0.1,\"#c51b7d\"],[0.2,\"#de77ae\"],[0.3,\"#f1b6da\"],[0.4,\"#fde0ef\"],[0.5,\"#f7f7f7\"],[0.6,\"#e6f5d0\"],[0.7,\"#b8e186\"],[0.8,\"#7fbc41\"],[0.9,\"#4d9221\"],[1,\"#276419\"]]},\"xaxis\":{\"gridcolor\":\"white\",\"linecolor\":\"white\",\"ticks\":\"\",\"title\":{\"standoff\":15},\"zerolinecolor\":\"white\",\"automargin\":true,\"zerolinewidth\":2},\"yaxis\":{\"gridcolor\":\"white\",\"linecolor\":\"white\",\"ticks\":\"\",\"title\":{\"standoff\":15},\"zerolinecolor\":\"white\",\"automargin\":true,\"zerolinewidth\":2},\"scene\":{\"xaxis\":{\"backgroundcolor\":\"#E5ECF6\",\"gridcolor\":\"white\",\"linecolor\":\"white\",\"showbackground\":true,\"ticks\":\"\",\"zerolinecolor\":\"white\",\"gridwidth\":2},\"yaxis\":{\"backgroundcolor\":\"#E5ECF6\",\"gridcolor\":\"white\",\"linecolor\":\"white\",\"showbackground\":true,\"ticks\":\"\",\"zerolinecolor\":\"white\",\"gridwidth\":2},\"zaxis\":{\"backgroundcolor\":\"#E5ECF6\",\"gridcolor\":\"white\",\"linecolor\":\"white\",\"showbackground\":true,\"ticks\":\"\",\"zerolinecolor\":\"white\",\"gridwidth\":2}},\"shapedefaults\":{\"line\":{\"color\":\"#2a3f5f\"}},\"annotationdefaults\":{\"arrowcolor\":\"#2a3f5f\",\"arrowhead\":0,\"arrowwidth\":1},\"geo\":{\"bgcolor\":\"white\",\"landcolor\":\"#E5ECF6\",\"subunitcolor\":\"white\",\"showland\":true,\"showlakes\":true,\"lakecolor\":\"white\"},\"title\":{\"x\":0.05},\"mapbox\":{\"style\":\"light\"}}},\"xaxis\":{\"anchor\":\"y\",\"domain\":[0.0,1.0],\"title\":{\"text\":\"Number of Action Plan Component\"},\"categoryorder\":\"array\",\"categoryarray\":[\"AP Component's Discussed\",\"1 AP Component Agreed\",\"2 AP Component's Agreed\",\"3 AP Component's Agreed\"]},\"yaxis\":{\"anchor\":\"x\",\"domain\":[0.0,1.0],\"title\":{\"text\":\"Number of Calls\"}},\"legend\":{\"title\":{\"text\":\"AP Components\"},\"tracegroupgap\":0},\"margin\":{\"t\":60},\"barmode\":\"relative\",\"title\":{\"text\":\"A Graph to show how many calls of each Action Plan Component were made\"},\"width\":800},                        {\"responsive\": true}                    )                };                            </script>        </div>\n",
       "</body>\n",
       "</html>"
      ]
     },
     "metadata": {
      "application/vnd.databricks.v1+output": {
       "addedWidgets": {},
       "arguments": {},
       "data": "<html>\n<head><meta charset=\"utf-8\" /></head>\n<body>\n    <div>            <script src=\"https://cdnjs.cloudflare.com/ajax/libs/mathjax/2.7.5/MathJax.js?config=TeX-AMS-MML_SVG\"></script><script type=\"text/javascript\">if (window.MathJax && window.MathJax.Hub && window.MathJax.Hub.Config) {window.MathJax.Hub.Config({SVG: {font: \"STIX-Web\"}});}</script>                <script type=\"text/javascript\">window.PlotlyConfig = {MathJaxConfig: 'local'};</script>\n        <script src=\"https://cdn.plot.ly/plotly-2.12.1.min.js\"></script>                <div id=\"213f8ca7-8f8b-45e9-8775-6db41078bc72\" class=\"plotly-graph-div\" style=\"height:100%; width:800px;\"></div>            <script type=\"text/javascript\">                                    window.PLOTLYENV=window.PLOTLYENV || {};                                    if (document.getElementById(\"213f8ca7-8f8b-45e9-8775-6db41078bc72\")) {                    Plotly.newPlot(                        \"213f8ca7-8f8b-45e9-8775-6db41078bc72\",                        [{\"alignmentgroup\":\"True\",\"hovertemplate\":\"AP Components=%{x}<br>Count=%{y}<extra></extra>\",\"legendgroup\":\"AP Component's Discussed\",\"marker\":{\"color\":\"#B0CF94\",\"pattern\":{\"shape\":\"\"}},\"name\":\"AP Component's Discussed\",\"offsetgroup\":\"AP Component's Discussed\",\"orientation\":\"v\",\"showlegend\":true,\"textposition\":\"auto\",\"x\":[\"AP Component's Discussed\"],\"xaxis\":\"x\",\"y\":[22],\"yaxis\":\"y\",\"type\":\"bar\"},{\"alignmentgroup\":\"True\",\"hovertemplate\":\"AP Components=%{x}<br>Count=%{y}<extra></extra>\",\"legendgroup\":\"1 AP Component Agreed\",\"marker\":{\"color\":\"#76D5CF\",\"pattern\":{\"shape\":\"\"}},\"name\":\"1 AP Component Agreed\",\"offsetgroup\":\"1 AP Component Agreed\",\"orientation\":\"v\",\"showlegend\":true,\"textposition\":\"auto\",\"x\":[\"1 AP Component Agreed\"],\"xaxis\":\"x\",\"y\":[6],\"yaxis\":\"y\",\"type\":\"bar\"},{\"alignmentgroup\":\"True\",\"hovertemplate\":\"AP Components=%{x}<br>Count=%{y}<extra></extra>\",\"legendgroup\":\"2 AP Component's Agreed\",\"marker\":{\"color\":\"#4EA8A2\",\"pattern\":{\"shape\":\"\"}},\"name\":\"2 AP Component's Agreed\",\"offsetgroup\":\"2 AP Component's Agreed\",\"orientation\":\"v\",\"showlegend\":true,\"textposition\":\"auto\",\"x\":[\"2 AP Component's Agreed\"],\"xaxis\":\"x\",\"y\":[1],\"yaxis\":\"y\",\"type\":\"bar\"},{\"alignmentgroup\":\"True\",\"hovertemplate\":\"AP Components=%{x}<br>Count=%{y}<extra></extra>\",\"legendgroup\":\"3 AP Component's Agreed\",\"marker\":{\"color\":\"#267A74\",\"pattern\":{\"shape\":\"\"}},\"name\":\"3 AP Component's Agreed\",\"offsetgroup\":\"3 AP Component's Agreed\",\"orientation\":\"v\",\"showlegend\":true,\"textposition\":\"auto\",\"x\":[\"3 AP Component's Agreed\"],\"xaxis\":\"x\",\"y\":[2],\"yaxis\":\"y\",\"type\":\"bar\"}],                        {\"template\":{\"data\":{\"histogram2dcontour\":[{\"type\":\"histogram2dcontour\",\"colorbar\":{\"outlinewidth\":0,\"ticks\":\"\"},\"colorscale\":[[0.0,\"#0d0887\"],[0.1111111111111111,\"#46039f\"],[0.2222222222222222,\"#7201a8\"],[0.3333333333333333,\"#9c179e\"],[0.4444444444444444,\"#bd3786\"],[0.5555555555555556,\"#d8576b\"],[0.6666666666666666,\"#ed7953\"],[0.7777777777777778,\"#fb9f3a\"],[0.8888888888888888,\"#fdca26\"],[1.0,\"#f0f921\"]]}],\"choropleth\":[{\"type\":\"choropleth\",\"colorbar\":{\"outlinewidth\":0,\"ticks\":\"\"}}],\"histogram2d\":[{\"type\":\"histogram2d\",\"colorbar\":{\"outlinewidth\":0,\"ticks\":\"\"},\"colorscale\":[[0.0,\"#0d0887\"],[0.1111111111111111,\"#46039f\"],[0.2222222222222222,\"#7201a8\"],[0.3333333333333333,\"#9c179e\"],[0.4444444444444444,\"#bd3786\"],[0.5555555555555556,\"#d8576b\"],[0.6666666666666666,\"#ed7953\"],[0.7777777777777778,\"#fb9f3a\"],[0.8888888888888888,\"#fdca26\"],[1.0,\"#f0f921\"]]}],\"heatmap\":[{\"type\":\"heatmap\",\"colorbar\":{\"outlinewidth\":0,\"ticks\":\"\"},\"colorscale\":[[0.0,\"#0d0887\"],[0.1111111111111111,\"#46039f\"],[0.2222222222222222,\"#7201a8\"],[0.3333333333333333,\"#9c179e\"],[0.4444444444444444,\"#bd3786\"],[0.5555555555555556,\"#d8576b\"],[0.6666666666666666,\"#ed7953\"],[0.7777777777777778,\"#fb9f3a\"],[0.8888888888888888,\"#fdca26\"],[1.0,\"#f0f921\"]]}],\"heatmapgl\":[{\"type\":\"heatmapgl\",\"colorbar\":{\"outlinewidth\":0,\"ticks\":\"\"},\"colorscale\":[[0.0,\"#0d0887\"],[0.1111111111111111,\"#46039f\"],[0.2222222222222222,\"#7201a8\"],[0.3333333333333333,\"#9c179e\"],[0.4444444444444444,\"#bd3786\"],[0.5555555555555556,\"#d8576b\"],[0.6666666666666666,\"#ed7953\"],[0.7777777777777778,\"#fb9f3a\"],[0.8888888888888888,\"#fdca26\"],[1.0,\"#f0f921\"]]}],\"contourcarpet\":[{\"type\":\"contourcarpet\",\"colorbar\":{\"outlinewidth\":0,\"ticks\":\"\"}}],\"contour\":[{\"type\":\"contour\",\"colorbar\":{\"outlinewidth\":0,\"ticks\":\"\"},\"colorscale\":[[0.0,\"#0d0887\"],[0.1111111111111111,\"#46039f\"],[0.2222222222222222,\"#7201a8\"],[0.3333333333333333,\"#9c179e\"],[0.4444444444444444,\"#bd3786\"],[0.5555555555555556,\"#d8576b\"],[0.6666666666666666,\"#ed7953\"],[0.7777777777777778,\"#fb9f3a\"],[0.8888888888888888,\"#fdca26\"],[1.0,\"#f0f921\"]]}],\"surface\":[{\"type\":\"surface\",\"colorbar\":{\"outlinewidth\":0,\"ticks\":\"\"},\"colorscale\":[[0.0,\"#0d0887\"],[0.1111111111111111,\"#46039f\"],[0.2222222222222222,\"#7201a8\"],[0.3333333333333333,\"#9c179e\"],[0.4444444444444444,\"#bd3786\"],[0.5555555555555556,\"#d8576b\"],[0.6666666666666666,\"#ed7953\"],[0.7777777777777778,\"#fb9f3a\"],[0.8888888888888888,\"#fdca26\"],[1.0,\"#f0f921\"]]}],\"mesh3d\":[{\"type\":\"mesh3d\",\"colorbar\":{\"outlinewidth\":0,\"ticks\":\"\"}}],\"scatter\":[{\"fillpattern\":{\"fillmode\":\"overlay\",\"size\":10,\"solidity\":0.2},\"type\":\"scatter\"}],\"parcoords\":[{\"type\":\"parcoords\",\"line\":{\"colorbar\":{\"outlinewidth\":0,\"ticks\":\"\"}}}],\"scatterpolargl\":[{\"type\":\"scatterpolargl\",\"marker\":{\"colorbar\":{\"outlinewidth\":0,\"ticks\":\"\"}}}],\"bar\":[{\"error_x\":{\"color\":\"#2a3f5f\"},\"error_y\":{\"color\":\"#2a3f5f\"},\"marker\":{\"line\":{\"color\":\"#E5ECF6\",\"width\":0.5},\"pattern\":{\"fillmode\":\"overlay\",\"size\":10,\"solidity\":0.2}},\"type\":\"bar\"}],\"scattergeo\":[{\"type\":\"scattergeo\",\"marker\":{\"colorbar\":{\"outlinewidth\":0,\"ticks\":\"\"}}}],\"scatterpolar\":[{\"type\":\"scatterpolar\",\"marker\":{\"colorbar\":{\"outlinewidth\":0,\"ticks\":\"\"}}}],\"histogram\":[{\"marker\":{\"pattern\":{\"fillmode\":\"overlay\",\"size\":10,\"solidity\":0.2}},\"type\":\"histogram\"}],\"scattergl\":[{\"type\":\"scattergl\",\"marker\":{\"colorbar\":{\"outlinewidth\":0,\"ticks\":\"\"}}}],\"scatter3d\":[{\"type\":\"scatter3d\",\"line\":{\"colorbar\":{\"outlinewidth\":0,\"ticks\":\"\"}},\"marker\":{\"colorbar\":{\"outlinewidth\":0,\"ticks\":\"\"}}}],\"scattermapbox\":[{\"type\":\"scattermapbox\",\"marker\":{\"colorbar\":{\"outlinewidth\":0,\"ticks\":\"\"}}}],\"scatterternary\":[{\"type\":\"scatterternary\",\"marker\":{\"colorbar\":{\"outlinewidth\":0,\"ticks\":\"\"}}}],\"scattercarpet\":[{\"type\":\"scattercarpet\",\"marker\":{\"colorbar\":{\"outlinewidth\":0,\"ticks\":\"\"}}}],\"carpet\":[{\"aaxis\":{\"endlinecolor\":\"#2a3f5f\",\"gridcolor\":\"white\",\"linecolor\":\"white\",\"minorgridcolor\":\"white\",\"startlinecolor\":\"#2a3f5f\"},\"baxis\":{\"endlinecolor\":\"#2a3f5f\",\"gridcolor\":\"white\",\"linecolor\":\"white\",\"minorgridcolor\":\"white\",\"startlinecolor\":\"#2a3f5f\"},\"type\":\"carpet\"}],\"table\":[{\"cells\":{\"fill\":{\"color\":\"#EBF0F8\"},\"line\":{\"color\":\"white\"}},\"header\":{\"fill\":{\"color\":\"#C8D4E3\"},\"line\":{\"color\":\"white\"}},\"type\":\"table\"}],\"barpolar\":[{\"marker\":{\"line\":{\"color\":\"#E5ECF6\",\"width\":0.5},\"pattern\":{\"fillmode\":\"overlay\",\"size\":10,\"solidity\":0.2}},\"type\":\"barpolar\"}],\"pie\":[{\"automargin\":true,\"type\":\"pie\"}]},\"layout\":{\"autotypenumbers\":\"strict\",\"colorway\":[\"#636efa\",\"#EF553B\",\"#00cc96\",\"#ab63fa\",\"#FFA15A\",\"#19d3f3\",\"#FF6692\",\"#B6E880\",\"#FF97FF\",\"#FECB52\"],\"font\":{\"color\":\"#2a3f5f\"},\"hovermode\":\"closest\",\"hoverlabel\":{\"align\":\"left\"},\"paper_bgcolor\":\"white\",\"plot_bgcolor\":\"#E5ECF6\",\"polar\":{\"bgcolor\":\"#E5ECF6\",\"angularaxis\":{\"gridcolor\":\"white\",\"linecolor\":\"white\",\"ticks\":\"\"},\"radialaxis\":{\"gridcolor\":\"white\",\"linecolor\":\"white\",\"ticks\":\"\"}},\"ternary\":{\"bgcolor\":\"#E5ECF6\",\"aaxis\":{\"gridcolor\":\"white\",\"linecolor\":\"white\",\"ticks\":\"\"},\"baxis\":{\"gridcolor\":\"white\",\"linecolor\":\"white\",\"ticks\":\"\"},\"caxis\":{\"gridcolor\":\"white\",\"linecolor\":\"white\",\"ticks\":\"\"}},\"coloraxis\":{\"colorbar\":{\"outlinewidth\":0,\"ticks\":\"\"}},\"colorscale\":{\"sequential\":[[0.0,\"#0d0887\"],[0.1111111111111111,\"#46039f\"],[0.2222222222222222,\"#7201a8\"],[0.3333333333333333,\"#9c179e\"],[0.4444444444444444,\"#bd3786\"],[0.5555555555555556,\"#d8576b\"],[0.6666666666666666,\"#ed7953\"],[0.7777777777777778,\"#fb9f3a\"],[0.8888888888888888,\"#fdca26\"],[1.0,\"#f0f921\"]],\"sequentialminus\":[[0.0,\"#0d0887\"],[0.1111111111111111,\"#46039f\"],[0.2222222222222222,\"#7201a8\"],[0.3333333333333333,\"#9c179e\"],[0.4444444444444444,\"#bd3786\"],[0.5555555555555556,\"#d8576b\"],[0.6666666666666666,\"#ed7953\"],[0.7777777777777778,\"#fb9f3a\"],[0.8888888888888888,\"#fdca26\"],[1.0,\"#f0f921\"]],\"diverging\":[[0,\"#8e0152\"],[0.1,\"#c51b7d\"],[0.2,\"#de77ae\"],[0.3,\"#f1b6da\"],[0.4,\"#fde0ef\"],[0.5,\"#f7f7f7\"],[0.6,\"#e6f5d0\"],[0.7,\"#b8e186\"],[0.8,\"#7fbc41\"],[0.9,\"#4d9221\"],[1,\"#276419\"]]},\"xaxis\":{\"gridcolor\":\"white\",\"linecolor\":\"white\",\"ticks\":\"\",\"title\":{\"standoff\":15},\"zerolinecolor\":\"white\",\"automargin\":true,\"zerolinewidth\":2},\"yaxis\":{\"gridcolor\":\"white\",\"linecolor\":\"white\",\"ticks\":\"\",\"title\":{\"standoff\":15},\"zerolinecolor\":\"white\",\"automargin\":true,\"zerolinewidth\":2},\"scene\":{\"xaxis\":{\"backgroundcolor\":\"#E5ECF6\",\"gridcolor\":\"white\",\"linecolor\":\"white\",\"showbackground\":true,\"ticks\":\"\",\"zerolinecolor\":\"white\",\"gridwidth\":2},\"yaxis\":{\"backgroundcolor\":\"#E5ECF6\",\"gridcolor\":\"white\",\"linecolor\":\"white\",\"showbackground\":true,\"ticks\":\"\",\"zerolinecolor\":\"white\",\"gridwidth\":2},\"zaxis\":{\"backgroundcolor\":\"#E5ECF6\",\"gridcolor\":\"white\",\"linecolor\":\"white\",\"showbackground\":true,\"ticks\":\"\",\"zerolinecolor\":\"white\",\"gridwidth\":2}},\"shapedefaults\":{\"line\":{\"color\":\"#2a3f5f\"}},\"annotationdefaults\":{\"arrowcolor\":\"#2a3f5f\",\"arrowhead\":0,\"arrowwidth\":1},\"geo\":{\"bgcolor\":\"white\",\"landcolor\":\"#E5ECF6\",\"subunitcolor\":\"white\",\"showland\":true,\"showlakes\":true,\"lakecolor\":\"white\"},\"title\":{\"x\":0.05},\"mapbox\":{\"style\":\"light\"}}},\"xaxis\":{\"anchor\":\"y\",\"domain\":[0.0,1.0],\"title\":{\"text\":\"Number of Action Plan Component\"},\"categoryorder\":\"array\",\"categoryarray\":[\"AP Component's Discussed\",\"1 AP Component Agreed\",\"2 AP Component's Agreed\",\"3 AP Component's Agreed\"]},\"yaxis\":{\"anchor\":\"x\",\"domain\":[0.0,1.0],\"title\":{\"text\":\"Number of Calls\"}},\"legend\":{\"title\":{\"text\":\"AP Components\"},\"tracegroupgap\":0},\"margin\":{\"t\":60},\"barmode\":\"relative\",\"title\":{\"text\":\"A Graph to show how many calls of each Action Plan Component were made\"},\"width\":800},                        {\"responsive\": true}                    )                };                            </script>        </div>\n</body>\n</html>",
       "datasetInfos": [],
       "metadata": {},
       "removedWidgets": [],
       "textData": null,
       "type": "htmlSandbox"
      }
     },
     "output_type": "display_data"
    },
    {
     "output_type": "display_data",
     "data": {
      "text/html": [
       "<html>\n",
       "<head><meta charset=\"utf-8\" /></head>\n",
       "<body>\n",
       "    <div>            <script src=\"https://cdnjs.cloudflare.com/ajax/libs/mathjax/2.7.5/MathJax.js?config=TeX-AMS-MML_SVG\"></script><script type=\"text/javascript\">if (window.MathJax && window.MathJax.Hub && window.MathJax.Hub.Config) {window.MathJax.Hub.Config({SVG: {font: \"STIX-Web\"}});}</script>                <script type=\"text/javascript\">window.PlotlyConfig = {MathJaxConfig: 'local'};</script>\n",
       "        <script src=\"https://cdn.plot.ly/plotly-2.12.1.min.js\"></script>                <div id=\"79ad3c0d-c781-4079-b4c6-d7a20e2f501e\" class=\"plotly-graph-div\" style=\"height:100%; width:800px;\"></div>            <script type=\"text/javascript\">                                    window.PLOTLYENV=window.PLOTLYENV || {};                                    if (document.getElementById(\"79ad3c0d-c781-4079-b4c6-d7a20e2f501e\")) {                    Plotly.newPlot(                        \"79ad3c0d-c781-4079-b4c6-d7a20e2f501e\",                        [{\"alignmentgroup\":\"True\",\"hovertemplate\":\"Result=GSO<br>Action=%{x}<br>Counts=%{y}<extra></extra>\",\"legendgroup\":\"GSO\",\"marker\":{\"color\":\"#32A29B\",\"pattern\":{\"shape\":\"\"}},\"name\":\"GSO\",\"offsetgroup\":\"GSO\",\"orientation\":\"v\",\"showlegend\":true,\"textposition\":\"auto\",\"x\":[\"Selling Outcome\"],\"xaxis\":\"x\",\"y\":[9],\"yaxis\":\"y\",\"type\":\"bar\"},{\"alignmentgroup\":\"True\",\"hovertemplate\":\"Result=Discussed<br>Action=%{x}<br>Counts=%{y}<extra></extra>\",\"legendgroup\":\"Discussed\",\"marker\":{\"color\":\"#EAC959\",\"pattern\":{\"shape\":\"\"}},\"name\":\"Discussed\",\"offsetgroup\":\"Discussed\",\"orientation\":\"v\",\"showlegend\":true,\"textposition\":\"auto\",\"x\":[\"Selling Outcome\"],\"xaxis\":\"x\",\"y\":[21],\"yaxis\":\"y\",\"type\":\"bar\"},{\"alignmentgroup\":\"True\",\"hovertemplate\":\"Result=Not Discussed<br>Action=%{x}<br>Counts=%{y}<extra></extra>\",\"legendgroup\":\"Not Discussed\",\"marker\":{\"color\":\"#E3E3E5\",\"pattern\":{\"shape\":\"\"}},\"name\":\"Not Discussed\",\"offsetgroup\":\"Not Discussed\",\"orientation\":\"v\",\"showlegend\":true,\"textposition\":\"auto\",\"x\":[\"Selling Outcome\"],\"xaxis\":\"x\",\"y\":[1],\"yaxis\":\"y\",\"type\":\"bar\"}],                        {\"template\":{\"data\":{\"histogram2dcontour\":[{\"type\":\"histogram2dcontour\",\"colorbar\":{\"outlinewidth\":0,\"ticks\":\"\"},\"colorscale\":[[0.0,\"#0d0887\"],[0.1111111111111111,\"#46039f\"],[0.2222222222222222,\"#7201a8\"],[0.3333333333333333,\"#9c179e\"],[0.4444444444444444,\"#bd3786\"],[0.5555555555555556,\"#d8576b\"],[0.6666666666666666,\"#ed7953\"],[0.7777777777777778,\"#fb9f3a\"],[0.8888888888888888,\"#fdca26\"],[1.0,\"#f0f921\"]]}],\"choropleth\":[{\"type\":\"choropleth\",\"colorbar\":{\"outlinewidth\":0,\"ticks\":\"\"}}],\"histogram2d\":[{\"type\":\"histogram2d\",\"colorbar\":{\"outlinewidth\":0,\"ticks\":\"\"},\"colorscale\":[[0.0,\"#0d0887\"],[0.1111111111111111,\"#46039f\"],[0.2222222222222222,\"#7201a8\"],[0.3333333333333333,\"#9c179e\"],[0.4444444444444444,\"#bd3786\"],[0.5555555555555556,\"#d8576b\"],[0.6666666666666666,\"#ed7953\"],[0.7777777777777778,\"#fb9f3a\"],[0.8888888888888888,\"#fdca26\"],[1.0,\"#f0f921\"]]}],\"heatmap\":[{\"type\":\"heatmap\",\"colorbar\":{\"outlinewidth\":0,\"ticks\":\"\"},\"colorscale\":[[0.0,\"#0d0887\"],[0.1111111111111111,\"#46039f\"],[0.2222222222222222,\"#7201a8\"],[0.3333333333333333,\"#9c179e\"],[0.4444444444444444,\"#bd3786\"],[0.5555555555555556,\"#d8576b\"],[0.6666666666666666,\"#ed7953\"],[0.7777777777777778,\"#fb9f3a\"],[0.8888888888888888,\"#fdca26\"],[1.0,\"#f0f921\"]]}],\"heatmapgl\":[{\"type\":\"heatmapgl\",\"colorbar\":{\"outlinewidth\":0,\"ticks\":\"\"},\"colorscale\":[[0.0,\"#0d0887\"],[0.1111111111111111,\"#46039f\"],[0.2222222222222222,\"#7201a8\"],[0.3333333333333333,\"#9c179e\"],[0.4444444444444444,\"#bd3786\"],[0.5555555555555556,\"#d8576b\"],[0.6666666666666666,\"#ed7953\"],[0.7777777777777778,\"#fb9f3a\"],[0.8888888888888888,\"#fdca26\"],[1.0,\"#f0f921\"]]}],\"contourcarpet\":[{\"type\":\"contourcarpet\",\"colorbar\":{\"outlinewidth\":0,\"ticks\":\"\"}}],\"contour\":[{\"type\":\"contour\",\"colorbar\":{\"outlinewidth\":0,\"ticks\":\"\"},\"colorscale\":[[0.0,\"#0d0887\"],[0.1111111111111111,\"#46039f\"],[0.2222222222222222,\"#7201a8\"],[0.3333333333333333,\"#9c179e\"],[0.4444444444444444,\"#bd3786\"],[0.5555555555555556,\"#d8576b\"],[0.6666666666666666,\"#ed7953\"],[0.7777777777777778,\"#fb9f3a\"],[0.8888888888888888,\"#fdca26\"],[1.0,\"#f0f921\"]]}],\"surface\":[{\"type\":\"surface\",\"colorbar\":{\"outlinewidth\":0,\"ticks\":\"\"},\"colorscale\":[[0.0,\"#0d0887\"],[0.1111111111111111,\"#46039f\"],[0.2222222222222222,\"#7201a8\"],[0.3333333333333333,\"#9c179e\"],[0.4444444444444444,\"#bd3786\"],[0.5555555555555556,\"#d8576b\"],[0.6666666666666666,\"#ed7953\"],[0.7777777777777778,\"#fb9f3a\"],[0.8888888888888888,\"#fdca26\"],[1.0,\"#f0f921\"]]}],\"mesh3d\":[{\"type\":\"mesh3d\",\"colorbar\":{\"outlinewidth\":0,\"ticks\":\"\"}}],\"scatter\":[{\"fillpattern\":{\"fillmode\":\"overlay\",\"size\":10,\"solidity\":0.2},\"type\":\"scatter\"}],\"parcoords\":[{\"type\":\"parcoords\",\"line\":{\"colorbar\":{\"outlinewidth\":0,\"ticks\":\"\"}}}],\"scatterpolargl\":[{\"type\":\"scatterpolargl\",\"marker\":{\"colorbar\":{\"outlinewidth\":0,\"ticks\":\"\"}}}],\"bar\":[{\"error_x\":{\"color\":\"#2a3f5f\"},\"error_y\":{\"color\":\"#2a3f5f\"},\"marker\":{\"line\":{\"color\":\"#E5ECF6\",\"width\":0.5},\"pattern\":{\"fillmode\":\"overlay\",\"size\":10,\"solidity\":0.2}},\"type\":\"bar\"}],\"scattergeo\":[{\"type\":\"scattergeo\",\"marker\":{\"colorbar\":{\"outlinewidth\":0,\"ticks\":\"\"}}}],\"scatterpolar\":[{\"type\":\"scatterpolar\",\"marker\":{\"colorbar\":{\"outlinewidth\":0,\"ticks\":\"\"}}}],\"histogram\":[{\"marker\":{\"pattern\":{\"fillmode\":\"overlay\",\"size\":10,\"solidity\":0.2}},\"type\":\"histogram\"}],\"scattergl\":[{\"type\":\"scattergl\",\"marker\":{\"colorbar\":{\"outlinewidth\":0,\"ticks\":\"\"}}}],\"scatter3d\":[{\"type\":\"scatter3d\",\"line\":{\"colorbar\":{\"outlinewidth\":0,\"ticks\":\"\"}},\"marker\":{\"colorbar\":{\"outlinewidth\":0,\"ticks\":\"\"}}}],\"scattermapbox\":[{\"type\":\"scattermapbox\",\"marker\":{\"colorbar\":{\"outlinewidth\":0,\"ticks\":\"\"}}}],\"scatterternary\":[{\"type\":\"scatterternary\",\"marker\":{\"colorbar\":{\"outlinewidth\":0,\"ticks\":\"\"}}}],\"scattercarpet\":[{\"type\":\"scattercarpet\",\"marker\":{\"colorbar\":{\"outlinewidth\":0,\"ticks\":\"\"}}}],\"carpet\":[{\"aaxis\":{\"endlinecolor\":\"#2a3f5f\",\"gridcolor\":\"white\",\"linecolor\":\"white\",\"minorgridcolor\":\"white\",\"startlinecolor\":\"#2a3f5f\"},\"baxis\":{\"endlinecolor\":\"#2a3f5f\",\"gridcolor\":\"white\",\"linecolor\":\"white\",\"minorgridcolor\":\"white\",\"startlinecolor\":\"#2a3f5f\"},\"type\":\"carpet\"}],\"table\":[{\"cells\":{\"fill\":{\"color\":\"#EBF0F8\"},\"line\":{\"color\":\"white\"}},\"header\":{\"fill\":{\"color\":\"#C8D4E3\"},\"line\":{\"color\":\"white\"}},\"type\":\"table\"}],\"barpolar\":[{\"marker\":{\"line\":{\"color\":\"#E5ECF6\",\"width\":0.5},\"pattern\":{\"fillmode\":\"overlay\",\"size\":10,\"solidity\":0.2}},\"type\":\"barpolar\"}],\"pie\":[{\"automargin\":true,\"type\":\"pie\"}]},\"layout\":{\"autotypenumbers\":\"strict\",\"colorway\":[\"#636efa\",\"#EF553B\",\"#00cc96\",\"#ab63fa\",\"#FFA15A\",\"#19d3f3\",\"#FF6692\",\"#B6E880\",\"#FF97FF\",\"#FECB52\"],\"font\":{\"color\":\"#2a3f5f\"},\"hovermode\":\"closest\",\"hoverlabel\":{\"align\":\"left\"},\"paper_bgcolor\":\"white\",\"plot_bgcolor\":\"#E5ECF6\",\"polar\":{\"bgcolor\":\"#E5ECF6\",\"angularaxis\":{\"gridcolor\":\"white\",\"linecolor\":\"white\",\"ticks\":\"\"},\"radialaxis\":{\"gridcolor\":\"white\",\"linecolor\":\"white\",\"ticks\":\"\"}},\"ternary\":{\"bgcolor\":\"#E5ECF6\",\"aaxis\":{\"gridcolor\":\"white\",\"linecolor\":\"white\",\"ticks\":\"\"},\"baxis\":{\"gridcolor\":\"white\",\"linecolor\":\"white\",\"ticks\":\"\"},\"caxis\":{\"gridcolor\":\"white\",\"linecolor\":\"white\",\"ticks\":\"\"}},\"coloraxis\":{\"colorbar\":{\"outlinewidth\":0,\"ticks\":\"\"}},\"colorscale\":{\"sequential\":[[0.0,\"#0d0887\"],[0.1111111111111111,\"#46039f\"],[0.2222222222222222,\"#7201a8\"],[0.3333333333333333,\"#9c179e\"],[0.4444444444444444,\"#bd3786\"],[0.5555555555555556,\"#d8576b\"],[0.6666666666666666,\"#ed7953\"],[0.7777777777777778,\"#fb9f3a\"],[0.8888888888888888,\"#fdca26\"],[1.0,\"#f0f921\"]],\"sequentialminus\":[[0.0,\"#0d0887\"],[0.1111111111111111,\"#46039f\"],[0.2222222222222222,\"#7201a8\"],[0.3333333333333333,\"#9c179e\"],[0.4444444444444444,\"#bd3786\"],[0.5555555555555556,\"#d8576b\"],[0.6666666666666666,\"#ed7953\"],[0.7777777777777778,\"#fb9f3a\"],[0.8888888888888888,\"#fdca26\"],[1.0,\"#f0f921\"]],\"diverging\":[[0,\"#8e0152\"],[0.1,\"#c51b7d\"],[0.2,\"#de77ae\"],[0.3,\"#f1b6da\"],[0.4,\"#fde0ef\"],[0.5,\"#f7f7f7\"],[0.6,\"#e6f5d0\"],[0.7,\"#b8e186\"],[0.8,\"#7fbc41\"],[0.9,\"#4d9221\"],[1,\"#276419\"]]},\"xaxis\":{\"gridcolor\":\"white\",\"linecolor\":\"white\",\"ticks\":\"\",\"title\":{\"standoff\":15},\"zerolinecolor\":\"white\",\"automargin\":true,\"zerolinewidth\":2},\"yaxis\":{\"gridcolor\":\"white\",\"linecolor\":\"white\",\"ticks\":\"\",\"title\":{\"standoff\":15},\"zerolinecolor\":\"white\",\"automargin\":true,\"zerolinewidth\":2},\"scene\":{\"xaxis\":{\"backgroundcolor\":\"#E5ECF6\",\"gridcolor\":\"white\",\"linecolor\":\"white\",\"showbackground\":true,\"ticks\":\"\",\"zerolinecolor\":\"white\",\"gridwidth\":2},\"yaxis\":{\"backgroundcolor\":\"#E5ECF6\",\"gridcolor\":\"white\",\"linecolor\":\"white\",\"showbackground\":true,\"ticks\":\"\",\"zerolinecolor\":\"white\",\"gridwidth\":2},\"zaxis\":{\"backgroundcolor\":\"#E5ECF6\",\"gridcolor\":\"white\",\"linecolor\":\"white\",\"showbackground\":true,\"ticks\":\"\",\"zerolinecolor\":\"white\",\"gridwidth\":2}},\"shapedefaults\":{\"line\":{\"color\":\"#2a3f5f\"}},\"annotationdefaults\":{\"arrowcolor\":\"#2a3f5f\",\"arrowhead\":0,\"arrowwidth\":1},\"geo\":{\"bgcolor\":\"white\",\"landcolor\":\"#E5ECF6\",\"subunitcolor\":\"white\",\"showland\":true,\"showlakes\":true,\"lakecolor\":\"white\"},\"title\":{\"x\":0.05},\"mapbox\":{\"style\":\"light\"}}},\"xaxis\":{\"anchor\":\"y\",\"domain\":[0.0,1.0],\"title\":{\"text\":\"\"}},\"yaxis\":{\"anchor\":\"x\",\"domain\":[0.0,1.0],\"title\":{\"text\":\"Number of Calls\"}},\"legend\":{\"title\":{\"text\":\"Selling Outcome\"},\"tracegroupgap\":0},\"margin\":{\"t\":60},\"barmode\":\"relative\",\"title\":{\"text\":\"A Graph to show how many calls resulted in a each Selling Outcome\"},\"bargap\":0.8,\"width\":800},                        {\"responsive\": true}                    )                };                            </script>        </div>\n",
       "</body>\n",
       "</html>"
      ]
     },
     "metadata": {
      "application/vnd.databricks.v1+output": {
       "addedWidgets": {},
       "arguments": {},
       "data": "<html>\n<head><meta charset=\"utf-8\" /></head>\n<body>\n    <div>            <script src=\"https://cdnjs.cloudflare.com/ajax/libs/mathjax/2.7.5/MathJax.js?config=TeX-AMS-MML_SVG\"></script><script type=\"text/javascript\">if (window.MathJax && window.MathJax.Hub && window.MathJax.Hub.Config) {window.MathJax.Hub.Config({SVG: {font: \"STIX-Web\"}});}</script>                <script type=\"text/javascript\">window.PlotlyConfig = {MathJaxConfig: 'local'};</script>\n        <script src=\"https://cdn.plot.ly/plotly-2.12.1.min.js\"></script>                <div id=\"79ad3c0d-c781-4079-b4c6-d7a20e2f501e\" class=\"plotly-graph-div\" style=\"height:100%; width:800px;\"></div>            <script type=\"text/javascript\">                                    window.PLOTLYENV=window.PLOTLYENV || {};                                    if (document.getElementById(\"79ad3c0d-c781-4079-b4c6-d7a20e2f501e\")) {                    Plotly.newPlot(                        \"79ad3c0d-c781-4079-b4c6-d7a20e2f501e\",                        [{\"alignmentgroup\":\"True\",\"hovertemplate\":\"Result=GSO<br>Action=%{x}<br>Counts=%{y}<extra></extra>\",\"legendgroup\":\"GSO\",\"marker\":{\"color\":\"#32A29B\",\"pattern\":{\"shape\":\"\"}},\"name\":\"GSO\",\"offsetgroup\":\"GSO\",\"orientation\":\"v\",\"showlegend\":true,\"textposition\":\"auto\",\"x\":[\"Selling Outcome\"],\"xaxis\":\"x\",\"y\":[9],\"yaxis\":\"y\",\"type\":\"bar\"},{\"alignmentgroup\":\"True\",\"hovertemplate\":\"Result=Discussed<br>Action=%{x}<br>Counts=%{y}<extra></extra>\",\"legendgroup\":\"Discussed\",\"marker\":{\"color\":\"#EAC959\",\"pattern\":{\"shape\":\"\"}},\"name\":\"Discussed\",\"offsetgroup\":\"Discussed\",\"orientation\":\"v\",\"showlegend\":true,\"textposition\":\"auto\",\"x\":[\"Selling Outcome\"],\"xaxis\":\"x\",\"y\":[21],\"yaxis\":\"y\",\"type\":\"bar\"},{\"alignmentgroup\":\"True\",\"hovertemplate\":\"Result=Not Discussed<br>Action=%{x}<br>Counts=%{y}<extra></extra>\",\"legendgroup\":\"Not Discussed\",\"marker\":{\"color\":\"#E3E3E5\",\"pattern\":{\"shape\":\"\"}},\"name\":\"Not Discussed\",\"offsetgroup\":\"Not Discussed\",\"orientation\":\"v\",\"showlegend\":true,\"textposition\":\"auto\",\"x\":[\"Selling Outcome\"],\"xaxis\":\"x\",\"y\":[1],\"yaxis\":\"y\",\"type\":\"bar\"}],                        {\"template\":{\"data\":{\"histogram2dcontour\":[{\"type\":\"histogram2dcontour\",\"colorbar\":{\"outlinewidth\":0,\"ticks\":\"\"},\"colorscale\":[[0.0,\"#0d0887\"],[0.1111111111111111,\"#46039f\"],[0.2222222222222222,\"#7201a8\"],[0.3333333333333333,\"#9c179e\"],[0.4444444444444444,\"#bd3786\"],[0.5555555555555556,\"#d8576b\"],[0.6666666666666666,\"#ed7953\"],[0.7777777777777778,\"#fb9f3a\"],[0.8888888888888888,\"#fdca26\"],[1.0,\"#f0f921\"]]}],\"choropleth\":[{\"type\":\"choropleth\",\"colorbar\":{\"outlinewidth\":0,\"ticks\":\"\"}}],\"histogram2d\":[{\"type\":\"histogram2d\",\"colorbar\":{\"outlinewidth\":0,\"ticks\":\"\"},\"colorscale\":[[0.0,\"#0d0887\"],[0.1111111111111111,\"#46039f\"],[0.2222222222222222,\"#7201a8\"],[0.3333333333333333,\"#9c179e\"],[0.4444444444444444,\"#bd3786\"],[0.5555555555555556,\"#d8576b\"],[0.6666666666666666,\"#ed7953\"],[0.7777777777777778,\"#fb9f3a\"],[0.8888888888888888,\"#fdca26\"],[1.0,\"#f0f921\"]]}],\"heatmap\":[{\"type\":\"heatmap\",\"colorbar\":{\"outlinewidth\":0,\"ticks\":\"\"},\"colorscale\":[[0.0,\"#0d0887\"],[0.1111111111111111,\"#46039f\"],[0.2222222222222222,\"#7201a8\"],[0.3333333333333333,\"#9c179e\"],[0.4444444444444444,\"#bd3786\"],[0.5555555555555556,\"#d8576b\"],[0.6666666666666666,\"#ed7953\"],[0.7777777777777778,\"#fb9f3a\"],[0.8888888888888888,\"#fdca26\"],[1.0,\"#f0f921\"]]}],\"heatmapgl\":[{\"type\":\"heatmapgl\",\"colorbar\":{\"outlinewidth\":0,\"ticks\":\"\"},\"colorscale\":[[0.0,\"#0d0887\"],[0.1111111111111111,\"#46039f\"],[0.2222222222222222,\"#7201a8\"],[0.3333333333333333,\"#9c179e\"],[0.4444444444444444,\"#bd3786\"],[0.5555555555555556,\"#d8576b\"],[0.6666666666666666,\"#ed7953\"],[0.7777777777777778,\"#fb9f3a\"],[0.8888888888888888,\"#fdca26\"],[1.0,\"#f0f921\"]]}],\"contourcarpet\":[{\"type\":\"contourcarpet\",\"colorbar\":{\"outlinewidth\":0,\"ticks\":\"\"}}],\"contour\":[{\"type\":\"contour\",\"colorbar\":{\"outlinewidth\":0,\"ticks\":\"\"},\"colorscale\":[[0.0,\"#0d0887\"],[0.1111111111111111,\"#46039f\"],[0.2222222222222222,\"#7201a8\"],[0.3333333333333333,\"#9c179e\"],[0.4444444444444444,\"#bd3786\"],[0.5555555555555556,\"#d8576b\"],[0.6666666666666666,\"#ed7953\"],[0.7777777777777778,\"#fb9f3a\"],[0.8888888888888888,\"#fdca26\"],[1.0,\"#f0f921\"]]}],\"surface\":[{\"type\":\"surface\",\"colorbar\":{\"outlinewidth\":0,\"ticks\":\"\"},\"colorscale\":[[0.0,\"#0d0887\"],[0.1111111111111111,\"#46039f\"],[0.2222222222222222,\"#7201a8\"],[0.3333333333333333,\"#9c179e\"],[0.4444444444444444,\"#bd3786\"],[0.5555555555555556,\"#d8576b\"],[0.6666666666666666,\"#ed7953\"],[0.7777777777777778,\"#fb9f3a\"],[0.8888888888888888,\"#fdca26\"],[1.0,\"#f0f921\"]]}],\"mesh3d\":[{\"type\":\"mesh3d\",\"colorbar\":{\"outlinewidth\":0,\"ticks\":\"\"}}],\"scatter\":[{\"fillpattern\":{\"fillmode\":\"overlay\",\"size\":10,\"solidity\":0.2},\"type\":\"scatter\"}],\"parcoords\":[{\"type\":\"parcoords\",\"line\":{\"colorbar\":{\"outlinewidth\":0,\"ticks\":\"\"}}}],\"scatterpolargl\":[{\"type\":\"scatterpolargl\",\"marker\":{\"colorbar\":{\"outlinewidth\":0,\"ticks\":\"\"}}}],\"bar\":[{\"error_x\":{\"color\":\"#2a3f5f\"},\"error_y\":{\"color\":\"#2a3f5f\"},\"marker\":{\"line\":{\"color\":\"#E5ECF6\",\"width\":0.5},\"pattern\":{\"fillmode\":\"overlay\",\"size\":10,\"solidity\":0.2}},\"type\":\"bar\"}],\"scattergeo\":[{\"type\":\"scattergeo\",\"marker\":{\"colorbar\":{\"outlinewidth\":0,\"ticks\":\"\"}}}],\"scatterpolar\":[{\"type\":\"scatterpolar\",\"marker\":{\"colorbar\":{\"outlinewidth\":0,\"ticks\":\"\"}}}],\"histogram\":[{\"marker\":{\"pattern\":{\"fillmode\":\"overlay\",\"size\":10,\"solidity\":0.2}},\"type\":\"histogram\"}],\"scattergl\":[{\"type\":\"scattergl\",\"marker\":{\"colorbar\":{\"outlinewidth\":0,\"ticks\":\"\"}}}],\"scatter3d\":[{\"type\":\"scatter3d\",\"line\":{\"colorbar\":{\"outlinewidth\":0,\"ticks\":\"\"}},\"marker\":{\"colorbar\":{\"outlinewidth\":0,\"ticks\":\"\"}}}],\"scattermapbox\":[{\"type\":\"scattermapbox\",\"marker\":{\"colorbar\":{\"outlinewidth\":0,\"ticks\":\"\"}}}],\"scatterternary\":[{\"type\":\"scatterternary\",\"marker\":{\"colorbar\":{\"outlinewidth\":0,\"ticks\":\"\"}}}],\"scattercarpet\":[{\"type\":\"scattercarpet\",\"marker\":{\"colorbar\":{\"outlinewidth\":0,\"ticks\":\"\"}}}],\"carpet\":[{\"aaxis\":{\"endlinecolor\":\"#2a3f5f\",\"gridcolor\":\"white\",\"linecolor\":\"white\",\"minorgridcolor\":\"white\",\"startlinecolor\":\"#2a3f5f\"},\"baxis\":{\"endlinecolor\":\"#2a3f5f\",\"gridcolor\":\"white\",\"linecolor\":\"white\",\"minorgridcolor\":\"white\",\"startlinecolor\":\"#2a3f5f\"},\"type\":\"carpet\"}],\"table\":[{\"cells\":{\"fill\":{\"color\":\"#EBF0F8\"},\"line\":{\"color\":\"white\"}},\"header\":{\"fill\":{\"color\":\"#C8D4E3\"},\"line\":{\"color\":\"white\"}},\"type\":\"table\"}],\"barpolar\":[{\"marker\":{\"line\":{\"color\":\"#E5ECF6\",\"width\":0.5},\"pattern\":{\"fillmode\":\"overlay\",\"size\":10,\"solidity\":0.2}},\"type\":\"barpolar\"}],\"pie\":[{\"automargin\":true,\"type\":\"pie\"}]},\"layout\":{\"autotypenumbers\":\"strict\",\"colorway\":[\"#636efa\",\"#EF553B\",\"#00cc96\",\"#ab63fa\",\"#FFA15A\",\"#19d3f3\",\"#FF6692\",\"#B6E880\",\"#FF97FF\",\"#FECB52\"],\"font\":{\"color\":\"#2a3f5f\"},\"hovermode\":\"closest\",\"hoverlabel\":{\"align\":\"left\"},\"paper_bgcolor\":\"white\",\"plot_bgcolor\":\"#E5ECF6\",\"polar\":{\"bgcolor\":\"#E5ECF6\",\"angularaxis\":{\"gridcolor\":\"white\",\"linecolor\":\"white\",\"ticks\":\"\"},\"radialaxis\":{\"gridcolor\":\"white\",\"linecolor\":\"white\",\"ticks\":\"\"}},\"ternary\":{\"bgcolor\":\"#E5ECF6\",\"aaxis\":{\"gridcolor\":\"white\",\"linecolor\":\"white\",\"ticks\":\"\"},\"baxis\":{\"gridcolor\":\"white\",\"linecolor\":\"white\",\"ticks\":\"\"},\"caxis\":{\"gridcolor\":\"white\",\"linecolor\":\"white\",\"ticks\":\"\"}},\"coloraxis\":{\"colorbar\":{\"outlinewidth\":0,\"ticks\":\"\"}},\"colorscale\":{\"sequential\":[[0.0,\"#0d0887\"],[0.1111111111111111,\"#46039f\"],[0.2222222222222222,\"#7201a8\"],[0.3333333333333333,\"#9c179e\"],[0.4444444444444444,\"#bd3786\"],[0.5555555555555556,\"#d8576b\"],[0.6666666666666666,\"#ed7953\"],[0.7777777777777778,\"#fb9f3a\"],[0.8888888888888888,\"#fdca26\"],[1.0,\"#f0f921\"]],\"sequentialminus\":[[0.0,\"#0d0887\"],[0.1111111111111111,\"#46039f\"],[0.2222222222222222,\"#7201a8\"],[0.3333333333333333,\"#9c179e\"],[0.4444444444444444,\"#bd3786\"],[0.5555555555555556,\"#d8576b\"],[0.6666666666666666,\"#ed7953\"],[0.7777777777777778,\"#fb9f3a\"],[0.8888888888888888,\"#fdca26\"],[1.0,\"#f0f921\"]],\"diverging\":[[0,\"#8e0152\"],[0.1,\"#c51b7d\"],[0.2,\"#de77ae\"],[0.3,\"#f1b6da\"],[0.4,\"#fde0ef\"],[0.5,\"#f7f7f7\"],[0.6,\"#e6f5d0\"],[0.7,\"#b8e186\"],[0.8,\"#7fbc41\"],[0.9,\"#4d9221\"],[1,\"#276419\"]]},\"xaxis\":{\"gridcolor\":\"white\",\"linecolor\":\"white\",\"ticks\":\"\",\"title\":{\"standoff\":15},\"zerolinecolor\":\"white\",\"automargin\":true,\"zerolinewidth\":2},\"yaxis\":{\"gridcolor\":\"white\",\"linecolor\":\"white\",\"ticks\":\"\",\"title\":{\"standoff\":15},\"zerolinecolor\":\"white\",\"automargin\":true,\"zerolinewidth\":2},\"scene\":{\"xaxis\":{\"backgroundcolor\":\"#E5ECF6\",\"gridcolor\":\"white\",\"linecolor\":\"white\",\"showbackground\":true,\"ticks\":\"\",\"zerolinecolor\":\"white\",\"gridwidth\":2},\"yaxis\":{\"backgroundcolor\":\"#E5ECF6\",\"gridcolor\":\"white\",\"linecolor\":\"white\",\"showbackground\":true,\"ticks\":\"\",\"zerolinecolor\":\"white\",\"gridwidth\":2},\"zaxis\":{\"backgroundcolor\":\"#E5ECF6\",\"gridcolor\":\"white\",\"linecolor\":\"white\",\"showbackground\":true,\"ticks\":\"\",\"zerolinecolor\":\"white\",\"gridwidth\":2}},\"shapedefaults\":{\"line\":{\"color\":\"#2a3f5f\"}},\"annotationdefaults\":{\"arrowcolor\":\"#2a3f5f\",\"arrowhead\":0,\"arrowwidth\":1},\"geo\":{\"bgcolor\":\"white\",\"landcolor\":\"#E5ECF6\",\"subunitcolor\":\"white\",\"showland\":true,\"showlakes\":true,\"lakecolor\":\"white\"},\"title\":{\"x\":0.05},\"mapbox\":{\"style\":\"light\"}}},\"xaxis\":{\"anchor\":\"y\",\"domain\":[0.0,1.0],\"title\":{\"text\":\"\"}},\"yaxis\":{\"anchor\":\"x\",\"domain\":[0.0,1.0],\"title\":{\"text\":\"Number of Calls\"}},\"legend\":{\"title\":{\"text\":\"Selling Outcome\"},\"tracegroupgap\":0},\"margin\":{\"t\":60},\"barmode\":\"relative\",\"title\":{\"text\":\"A Graph to show how many calls resulted in a each Selling Outcome\"},\"bargap\":0.8,\"width\":800},                        {\"responsive\": true}                    )                };                            </script>        </div>\n</body>\n</html>",
       "datasetInfos": [],
       "metadata": {},
       "removedWidgets": [],
       "textData": null,
       "type": "htmlSandbox"
      }
     },
     "output_type": "display_data"
    },
    {
     "output_type": "display_data",
     "data": {
      "text/html": [
       "<html>\n",
       "<head><meta charset=\"utf-8\" /></head>\n",
       "<body>\n",
       "    <div>            <script src=\"https://cdnjs.cloudflare.com/ajax/libs/mathjax/2.7.5/MathJax.js?config=TeX-AMS-MML_SVG\"></script><script type=\"text/javascript\">if (window.MathJax && window.MathJax.Hub && window.MathJax.Hub.Config) {window.MathJax.Hub.Config({SVG: {font: \"STIX-Web\"}});}</script>                <script type=\"text/javascript\">window.PlotlyConfig = {MathJaxConfig: 'local'};</script>\n",
       "        <script src=\"https://cdn.plot.ly/plotly-2.12.1.min.js\"></script>                <div id=\"b94ec080-0465-45b5-a4fc-2aea5ba68a98\" class=\"plotly-graph-div\" style=\"height:100%; width:800px;\"></div>            <script type=\"text/javascript\">                                    window.PLOTLYENV=window.PLOTLYENV || {};                                    if (document.getElementById(\"b94ec080-0465-45b5-a4fc-2aea5ba68a98\")) {                    Plotly.newPlot(                        \"b94ec080-0465-45b5-a4fc-2aea5ba68a98\",                        [{\"alignmentgroup\":\"True\",\"hovertemplate\":\"Result=GSO<br>Counts=%{text}<br>Action=%{y}<extra></extra>\",\"legendgroup\":\"GSO\",\"marker\":{\"color\":\"#32A29B\",\"pattern\":{\"shape\":\"\"}},\"name\":\"GSO\",\"offsetgroup\":\"GSO\",\"orientation\":\"h\",\"showlegend\":true,\"text\":[2.0,5.0,4.0,3.0],\"textposition\":\"auto\",\"x\":[2,5,4,3],\"xaxis\":\"x\",\"y\":[\"Identify Eligible Patients\",\"Recall Eligible Patients\",\"Set up Shingrix Clinic\",\"Order Shingles Doses\"],\"yaxis\":\"y\",\"type\":\"bar\"},{\"alignmentgroup\":\"True\",\"hovertemplate\":\"Result=Discussed<br>Counts=%{text}<br>Action=%{y}<extra></extra>\",\"legendgroup\":\"Discussed\",\"marker\":{\"color\":\"#EAC959\",\"pattern\":{\"shape\":\"\"}},\"name\":\"Discussed\",\"offsetgroup\":\"Discussed\",\"orientation\":\"h\",\"showlegend\":true,\"text\":[28.0,22.0,16.0,11.0],\"textposition\":\"auto\",\"x\":[28,22,16,11],\"xaxis\":\"x\",\"y\":[\"Identify Eligible Patients\",\"Recall Eligible Patients\",\"Set up Shingrix Clinic\",\"Order Shingles Doses\"],\"yaxis\":\"y\",\"type\":\"bar\"},{\"alignmentgroup\":\"True\",\"hovertemplate\":\"Result=Not Discussed<br>Counts=%{text}<br>Action=%{y}<extra></extra>\",\"legendgroup\":\"Not Discussed\",\"marker\":{\"color\":\"#E3E3E5\",\"pattern\":{\"shape\":\"\"}},\"name\":\"Not Discussed\",\"offsetgroup\":\"Not Discussed\",\"orientation\":\"h\",\"showlegend\":true,\"text\":[1.0,4.0,11.0,17.0],\"textposition\":\"auto\",\"x\":[1,4,11,17],\"xaxis\":\"x\",\"y\":[\"Identify Eligible Patients\",\"Recall Eligible Patients\",\"Set up Shingrix Clinic\",\"Order Shingles Doses\"],\"yaxis\":\"y\",\"type\":\"bar\"}],                        {\"template\":{\"data\":{\"histogram2dcontour\":[{\"type\":\"histogram2dcontour\",\"colorbar\":{\"outlinewidth\":0,\"ticks\":\"\"},\"colorscale\":[[0.0,\"#0d0887\"],[0.1111111111111111,\"#46039f\"],[0.2222222222222222,\"#7201a8\"],[0.3333333333333333,\"#9c179e\"],[0.4444444444444444,\"#bd3786\"],[0.5555555555555556,\"#d8576b\"],[0.6666666666666666,\"#ed7953\"],[0.7777777777777778,\"#fb9f3a\"],[0.8888888888888888,\"#fdca26\"],[1.0,\"#f0f921\"]]}],\"choropleth\":[{\"type\":\"choropleth\",\"colorbar\":{\"outlinewidth\":0,\"ticks\":\"\"}}],\"histogram2d\":[{\"type\":\"histogram2d\",\"colorbar\":{\"outlinewidth\":0,\"ticks\":\"\"},\"colorscale\":[[0.0,\"#0d0887\"],[0.1111111111111111,\"#46039f\"],[0.2222222222222222,\"#7201a8\"],[0.3333333333333333,\"#9c179e\"],[0.4444444444444444,\"#bd3786\"],[0.5555555555555556,\"#d8576b\"],[0.6666666666666666,\"#ed7953\"],[0.7777777777777778,\"#fb9f3a\"],[0.8888888888888888,\"#fdca26\"],[1.0,\"#f0f921\"]]}],\"heatmap\":[{\"type\":\"heatmap\",\"colorbar\":{\"outlinewidth\":0,\"ticks\":\"\"},\"colorscale\":[[0.0,\"#0d0887\"],[0.1111111111111111,\"#46039f\"],[0.2222222222222222,\"#7201a8\"],[0.3333333333333333,\"#9c179e\"],[0.4444444444444444,\"#bd3786\"],[0.5555555555555556,\"#d8576b\"],[0.6666666666666666,\"#ed7953\"],[0.7777777777777778,\"#fb9f3a\"],[0.8888888888888888,\"#fdca26\"],[1.0,\"#f0f921\"]]}],\"heatmapgl\":[{\"type\":\"heatmapgl\",\"colorbar\":{\"outlinewidth\":0,\"ticks\":\"\"},\"colorscale\":[[0.0,\"#0d0887\"],[0.1111111111111111,\"#46039f\"],[0.2222222222222222,\"#7201a8\"],[0.3333333333333333,\"#9c179e\"],[0.4444444444444444,\"#bd3786\"],[0.5555555555555556,\"#d8576b\"],[0.6666666666666666,\"#ed7953\"],[0.7777777777777778,\"#fb9f3a\"],[0.8888888888888888,\"#fdca26\"],[1.0,\"#f0f921\"]]}],\"contourcarpet\":[{\"type\":\"contourcarpet\",\"colorbar\":{\"outlinewidth\":0,\"ticks\":\"\"}}],\"contour\":[{\"type\":\"contour\",\"colorbar\":{\"outlinewidth\":0,\"ticks\":\"\"},\"colorscale\":[[0.0,\"#0d0887\"],[0.1111111111111111,\"#46039f\"],[0.2222222222222222,\"#7201a8\"],[0.3333333333333333,\"#9c179e\"],[0.4444444444444444,\"#bd3786\"],[0.5555555555555556,\"#d8576b\"],[0.6666666666666666,\"#ed7953\"],[0.7777777777777778,\"#fb9f3a\"],[0.8888888888888888,\"#fdca26\"],[1.0,\"#f0f921\"]]}],\"surface\":[{\"type\":\"surface\",\"colorbar\":{\"outlinewidth\":0,\"ticks\":\"\"},\"colorscale\":[[0.0,\"#0d0887\"],[0.1111111111111111,\"#46039f\"],[0.2222222222222222,\"#7201a8\"],[0.3333333333333333,\"#9c179e\"],[0.4444444444444444,\"#bd3786\"],[0.5555555555555556,\"#d8576b\"],[0.6666666666666666,\"#ed7953\"],[0.7777777777777778,\"#fb9f3a\"],[0.8888888888888888,\"#fdca26\"],[1.0,\"#f0f921\"]]}],\"mesh3d\":[{\"type\":\"mesh3d\",\"colorbar\":{\"outlinewidth\":0,\"ticks\":\"\"}}],\"scatter\":[{\"fillpattern\":{\"fillmode\":\"overlay\",\"size\":10,\"solidity\":0.2},\"type\":\"scatter\"}],\"parcoords\":[{\"type\":\"parcoords\",\"line\":{\"colorbar\":{\"outlinewidth\":0,\"ticks\":\"\"}}}],\"scatterpolargl\":[{\"type\":\"scatterpolargl\",\"marker\":{\"colorbar\":{\"outlinewidth\":0,\"ticks\":\"\"}}}],\"bar\":[{\"error_x\":{\"color\":\"#2a3f5f\"},\"error_y\":{\"color\":\"#2a3f5f\"},\"marker\":{\"line\":{\"color\":\"#E5ECF6\",\"width\":0.5},\"pattern\":{\"fillmode\":\"overlay\",\"size\":10,\"solidity\":0.2}},\"type\":\"bar\"}],\"scattergeo\":[{\"type\":\"scattergeo\",\"marker\":{\"colorbar\":{\"outlinewidth\":0,\"ticks\":\"\"}}}],\"scatterpolar\":[{\"type\":\"scatterpolar\",\"marker\":{\"colorbar\":{\"outlinewidth\":0,\"ticks\":\"\"}}}],\"histogram\":[{\"marker\":{\"pattern\":{\"fillmode\":\"overlay\",\"size\":10,\"solidity\":0.2}},\"type\":\"histogram\"}],\"scattergl\":[{\"type\":\"scattergl\",\"marker\":{\"colorbar\":{\"outlinewidth\":0,\"ticks\":\"\"}}}],\"scatter3d\":[{\"type\":\"scatter3d\",\"line\":{\"colorbar\":{\"outlinewidth\":0,\"ticks\":\"\"}},\"marker\":{\"colorbar\":{\"outlinewidth\":0,\"ticks\":\"\"}}}],\"scattermapbox\":[{\"type\":\"scattermapbox\",\"marker\":{\"colorbar\":{\"outlinewidth\":0,\"ticks\":\"\"}}}],\"scatterternary\":[{\"type\":\"scatterternary\",\"marker\":{\"colorbar\":{\"outlinewidth\":0,\"ticks\":\"\"}}}],\"scattercarpet\":[{\"type\":\"scattercarpet\",\"marker\":{\"colorbar\":{\"outlinewidth\":0,\"ticks\":\"\"}}}],\"carpet\":[{\"aaxis\":{\"endlinecolor\":\"#2a3f5f\",\"gridcolor\":\"white\",\"linecolor\":\"white\",\"minorgridcolor\":\"white\",\"startlinecolor\":\"#2a3f5f\"},\"baxis\":{\"endlinecolor\":\"#2a3f5f\",\"gridcolor\":\"white\",\"linecolor\":\"white\",\"minorgridcolor\":\"white\",\"startlinecolor\":\"#2a3f5f\"},\"type\":\"carpet\"}],\"table\":[{\"cells\":{\"fill\":{\"color\":\"#EBF0F8\"},\"line\":{\"color\":\"white\"}},\"header\":{\"fill\":{\"color\":\"#C8D4E3\"},\"line\":{\"color\":\"white\"}},\"type\":\"table\"}],\"barpolar\":[{\"marker\":{\"line\":{\"color\":\"#E5ECF6\",\"width\":0.5},\"pattern\":{\"fillmode\":\"overlay\",\"size\":10,\"solidity\":0.2}},\"type\":\"barpolar\"}],\"pie\":[{\"automargin\":true,\"type\":\"pie\"}]},\"layout\":{\"autotypenumbers\":\"strict\",\"colorway\":[\"#636efa\",\"#EF553B\",\"#00cc96\",\"#ab63fa\",\"#FFA15A\",\"#19d3f3\",\"#FF6692\",\"#B6E880\",\"#FF97FF\",\"#FECB52\"],\"font\":{\"color\":\"#2a3f5f\"},\"hovermode\":\"closest\",\"hoverlabel\":{\"align\":\"left\"},\"paper_bgcolor\":\"white\",\"plot_bgcolor\":\"#E5ECF6\",\"polar\":{\"bgcolor\":\"#E5ECF6\",\"angularaxis\":{\"gridcolor\":\"white\",\"linecolor\":\"white\",\"ticks\":\"\"},\"radialaxis\":{\"gridcolor\":\"white\",\"linecolor\":\"white\",\"ticks\":\"\"}},\"ternary\":{\"bgcolor\":\"#E5ECF6\",\"aaxis\":{\"gridcolor\":\"white\",\"linecolor\":\"white\",\"ticks\":\"\"},\"baxis\":{\"gridcolor\":\"white\",\"linecolor\":\"white\",\"ticks\":\"\"},\"caxis\":{\"gridcolor\":\"white\",\"linecolor\":\"white\",\"ticks\":\"\"}},\"coloraxis\":{\"colorbar\":{\"outlinewidth\":0,\"ticks\":\"\"}},\"colorscale\":{\"sequential\":[[0.0,\"#0d0887\"],[0.1111111111111111,\"#46039f\"],[0.2222222222222222,\"#7201a8\"],[0.3333333333333333,\"#9c179e\"],[0.4444444444444444,\"#bd3786\"],[0.5555555555555556,\"#d8576b\"],[0.6666666666666666,\"#ed7953\"],[0.7777777777777778,\"#fb9f3a\"],[0.8888888888888888,\"#fdca26\"],[1.0,\"#f0f921\"]],\"sequentialminus\":[[0.0,\"#0d0887\"],[0.1111111111111111,\"#46039f\"],[0.2222222222222222,\"#7201a8\"],[0.3333333333333333,\"#9c179e\"],[0.4444444444444444,\"#bd3786\"],[0.5555555555555556,\"#d8576b\"],[0.6666666666666666,\"#ed7953\"],[0.7777777777777778,\"#fb9f3a\"],[0.8888888888888888,\"#fdca26\"],[1.0,\"#f0f921\"]],\"diverging\":[[0,\"#8e0152\"],[0.1,\"#c51b7d\"],[0.2,\"#de77ae\"],[0.3,\"#f1b6da\"],[0.4,\"#fde0ef\"],[0.5,\"#f7f7f7\"],[0.6,\"#e6f5d0\"],[0.7,\"#b8e186\"],[0.8,\"#7fbc41\"],[0.9,\"#4d9221\"],[1,\"#276419\"]]},\"xaxis\":{\"gridcolor\":\"white\",\"linecolor\":\"white\",\"ticks\":\"\",\"title\":{\"standoff\":15},\"zerolinecolor\":\"white\",\"automargin\":true,\"zerolinewidth\":2},\"yaxis\":{\"gridcolor\":\"white\",\"linecolor\":\"white\",\"ticks\":\"\",\"title\":{\"standoff\":15},\"zerolinecolor\":\"white\",\"automargin\":true,\"zerolinewidth\":2},\"scene\":{\"xaxis\":{\"backgroundcolor\":\"#E5ECF6\",\"gridcolor\":\"white\",\"linecolor\":\"white\",\"showbackground\":true,\"ticks\":\"\",\"zerolinecolor\":\"white\",\"gridwidth\":2},\"yaxis\":{\"backgroundcolor\":\"#E5ECF6\",\"gridcolor\":\"white\",\"linecolor\":\"white\",\"showbackground\":true,\"ticks\":\"\",\"zerolinecolor\":\"white\",\"gridwidth\":2},\"zaxis\":{\"backgroundcolor\":\"#E5ECF6\",\"gridcolor\":\"white\",\"linecolor\":\"white\",\"showbackground\":true,\"ticks\":\"\",\"zerolinecolor\":\"white\",\"gridwidth\":2}},\"shapedefaults\":{\"line\":{\"color\":\"#2a3f5f\"}},\"annotationdefaults\":{\"arrowcolor\":\"#2a3f5f\",\"arrowhead\":0,\"arrowwidth\":1},\"geo\":{\"bgcolor\":\"white\",\"landcolor\":\"#E5ECF6\",\"subunitcolor\":\"white\",\"showland\":true,\"showlakes\":true,\"lakecolor\":\"white\"},\"title\":{\"x\":0.05},\"mapbox\":{\"style\":\"light\"}}},\"xaxis\":{\"anchor\":\"y\",\"domain\":[0.0,1.0],\"title\":{\"text\":\"Number of Calls\"}},\"yaxis\":{\"anchor\":\"x\",\"domain\":[0.0,1.0],\"title\":{\"text\":\"Action Plan Component\"},\"categoryorder\":\"array\",\"categoryarray\":[\"Counts\",\"Action\",\"Result\"]},\"legend\":{\"title\":{\"text\":\"Selling Outcome\"},\"tracegroupgap\":0},\"margin\":{\"t\":60},\"barmode\":\"stack\",\"title\":{\"text\":\"A Graph to show how many calls of each Action Plan Component resulted in a each Selling Outcome\",\"font\":{\"size\":13}},\"width\":800},                        {\"responsive\": true}                    )                };                            </script>        </div>\n",
       "</body>\n",
       "</html>"
      ]
     },
     "metadata": {
      "application/vnd.databricks.v1+output": {
       "addedWidgets": {},
       "arguments": {},
       "data": "<html>\n<head><meta charset=\"utf-8\" /></head>\n<body>\n    <div>            <script src=\"https://cdnjs.cloudflare.com/ajax/libs/mathjax/2.7.5/MathJax.js?config=TeX-AMS-MML_SVG\"></script><script type=\"text/javascript\">if (window.MathJax && window.MathJax.Hub && window.MathJax.Hub.Config) {window.MathJax.Hub.Config({SVG: {font: \"STIX-Web\"}});}</script>                <script type=\"text/javascript\">window.PlotlyConfig = {MathJaxConfig: 'local'};</script>\n        <script src=\"https://cdn.plot.ly/plotly-2.12.1.min.js\"></script>                <div id=\"b94ec080-0465-45b5-a4fc-2aea5ba68a98\" class=\"plotly-graph-div\" style=\"height:100%; width:800px;\"></div>            <script type=\"text/javascript\">                                    window.PLOTLYENV=window.PLOTLYENV || {};                                    if (document.getElementById(\"b94ec080-0465-45b5-a4fc-2aea5ba68a98\")) {                    Plotly.newPlot(                        \"b94ec080-0465-45b5-a4fc-2aea5ba68a98\",                        [{\"alignmentgroup\":\"True\",\"hovertemplate\":\"Result=GSO<br>Counts=%{text}<br>Action=%{y}<extra></extra>\",\"legendgroup\":\"GSO\",\"marker\":{\"color\":\"#32A29B\",\"pattern\":{\"shape\":\"\"}},\"name\":\"GSO\",\"offsetgroup\":\"GSO\",\"orientation\":\"h\",\"showlegend\":true,\"text\":[2.0,5.0,4.0,3.0],\"textposition\":\"auto\",\"x\":[2,5,4,3],\"xaxis\":\"x\",\"y\":[\"Identify Eligible Patients\",\"Recall Eligible Patients\",\"Set up Shingrix Clinic\",\"Order Shingles Doses\"],\"yaxis\":\"y\",\"type\":\"bar\"},{\"alignmentgroup\":\"True\",\"hovertemplate\":\"Result=Discussed<br>Counts=%{text}<br>Action=%{y}<extra></extra>\",\"legendgroup\":\"Discussed\",\"marker\":{\"color\":\"#EAC959\",\"pattern\":{\"shape\":\"\"}},\"name\":\"Discussed\",\"offsetgroup\":\"Discussed\",\"orientation\":\"h\",\"showlegend\":true,\"text\":[28.0,22.0,16.0,11.0],\"textposition\":\"auto\",\"x\":[28,22,16,11],\"xaxis\":\"x\",\"y\":[\"Identify Eligible Patients\",\"Recall Eligible Patients\",\"Set up Shingrix Clinic\",\"Order Shingles Doses\"],\"yaxis\":\"y\",\"type\":\"bar\"},{\"alignmentgroup\":\"True\",\"hovertemplate\":\"Result=Not Discussed<br>Counts=%{text}<br>Action=%{y}<extra></extra>\",\"legendgroup\":\"Not Discussed\",\"marker\":{\"color\":\"#E3E3E5\",\"pattern\":{\"shape\":\"\"}},\"name\":\"Not Discussed\",\"offsetgroup\":\"Not Discussed\",\"orientation\":\"h\",\"showlegend\":true,\"text\":[1.0,4.0,11.0,17.0],\"textposition\":\"auto\",\"x\":[1,4,11,17],\"xaxis\":\"x\",\"y\":[\"Identify Eligible Patients\",\"Recall Eligible Patients\",\"Set up Shingrix Clinic\",\"Order Shingles Doses\"],\"yaxis\":\"y\",\"type\":\"bar\"}],                        {\"template\":{\"data\":{\"histogram2dcontour\":[{\"type\":\"histogram2dcontour\",\"colorbar\":{\"outlinewidth\":0,\"ticks\":\"\"},\"colorscale\":[[0.0,\"#0d0887\"],[0.1111111111111111,\"#46039f\"],[0.2222222222222222,\"#7201a8\"],[0.3333333333333333,\"#9c179e\"],[0.4444444444444444,\"#bd3786\"],[0.5555555555555556,\"#d8576b\"],[0.6666666666666666,\"#ed7953\"],[0.7777777777777778,\"#fb9f3a\"],[0.8888888888888888,\"#fdca26\"],[1.0,\"#f0f921\"]]}],\"choropleth\":[{\"type\":\"choropleth\",\"colorbar\":{\"outlinewidth\":0,\"ticks\":\"\"}}],\"histogram2d\":[{\"type\":\"histogram2d\",\"colorbar\":{\"outlinewidth\":0,\"ticks\":\"\"},\"colorscale\":[[0.0,\"#0d0887\"],[0.1111111111111111,\"#46039f\"],[0.2222222222222222,\"#7201a8\"],[0.3333333333333333,\"#9c179e\"],[0.4444444444444444,\"#bd3786\"],[0.5555555555555556,\"#d8576b\"],[0.6666666666666666,\"#ed7953\"],[0.7777777777777778,\"#fb9f3a\"],[0.8888888888888888,\"#fdca26\"],[1.0,\"#f0f921\"]]}],\"heatmap\":[{\"type\":\"heatmap\",\"colorbar\":{\"outlinewidth\":0,\"ticks\":\"\"},\"colorscale\":[[0.0,\"#0d0887\"],[0.1111111111111111,\"#46039f\"],[0.2222222222222222,\"#7201a8\"],[0.3333333333333333,\"#9c179e\"],[0.4444444444444444,\"#bd3786\"],[0.5555555555555556,\"#d8576b\"],[0.6666666666666666,\"#ed7953\"],[0.7777777777777778,\"#fb9f3a\"],[0.8888888888888888,\"#fdca26\"],[1.0,\"#f0f921\"]]}],\"heatmapgl\":[{\"type\":\"heatmapgl\",\"colorbar\":{\"outlinewidth\":0,\"ticks\":\"\"},\"colorscale\":[[0.0,\"#0d0887\"],[0.1111111111111111,\"#46039f\"],[0.2222222222222222,\"#7201a8\"],[0.3333333333333333,\"#9c179e\"],[0.4444444444444444,\"#bd3786\"],[0.5555555555555556,\"#d8576b\"],[0.6666666666666666,\"#ed7953\"],[0.7777777777777778,\"#fb9f3a\"],[0.8888888888888888,\"#fdca26\"],[1.0,\"#f0f921\"]]}],\"contourcarpet\":[{\"type\":\"contourcarpet\",\"colorbar\":{\"outlinewidth\":0,\"ticks\":\"\"}}],\"contour\":[{\"type\":\"contour\",\"colorbar\":{\"outlinewidth\":0,\"ticks\":\"\"},\"colorscale\":[[0.0,\"#0d0887\"],[0.1111111111111111,\"#46039f\"],[0.2222222222222222,\"#7201a8\"],[0.3333333333333333,\"#9c179e\"],[0.4444444444444444,\"#bd3786\"],[0.5555555555555556,\"#d8576b\"],[0.6666666666666666,\"#ed7953\"],[0.7777777777777778,\"#fb9f3a\"],[0.8888888888888888,\"#fdca26\"],[1.0,\"#f0f921\"]]}],\"surface\":[{\"type\":\"surface\",\"colorbar\":{\"outlinewidth\":0,\"ticks\":\"\"},\"colorscale\":[[0.0,\"#0d0887\"],[0.1111111111111111,\"#46039f\"],[0.2222222222222222,\"#7201a8\"],[0.3333333333333333,\"#9c179e\"],[0.4444444444444444,\"#bd3786\"],[0.5555555555555556,\"#d8576b\"],[0.6666666666666666,\"#ed7953\"],[0.7777777777777778,\"#fb9f3a\"],[0.8888888888888888,\"#fdca26\"],[1.0,\"#f0f921\"]]}],\"mesh3d\":[{\"type\":\"mesh3d\",\"colorbar\":{\"outlinewidth\":0,\"ticks\":\"\"}}],\"scatter\":[{\"fillpattern\":{\"fillmode\":\"overlay\",\"size\":10,\"solidity\":0.2},\"type\":\"scatter\"}],\"parcoords\":[{\"type\":\"parcoords\",\"line\":{\"colorbar\":{\"outlinewidth\":0,\"ticks\":\"\"}}}],\"scatterpolargl\":[{\"type\":\"scatterpolargl\",\"marker\":{\"colorbar\":{\"outlinewidth\":0,\"ticks\":\"\"}}}],\"bar\":[{\"error_x\":{\"color\":\"#2a3f5f\"},\"error_y\":{\"color\":\"#2a3f5f\"},\"marker\":{\"line\":{\"color\":\"#E5ECF6\",\"width\":0.5},\"pattern\":{\"fillmode\":\"overlay\",\"size\":10,\"solidity\":0.2}},\"type\":\"bar\"}],\"scattergeo\":[{\"type\":\"scattergeo\",\"marker\":{\"colorbar\":{\"outlinewidth\":0,\"ticks\":\"\"}}}],\"scatterpolar\":[{\"type\":\"scatterpolar\",\"marker\":{\"colorbar\":{\"outlinewidth\":0,\"ticks\":\"\"}}}],\"histogram\":[{\"marker\":{\"pattern\":{\"fillmode\":\"overlay\",\"size\":10,\"solidity\":0.2}},\"type\":\"histogram\"}],\"scattergl\":[{\"type\":\"scattergl\",\"marker\":{\"colorbar\":{\"outlinewidth\":0,\"ticks\":\"\"}}}],\"scatter3d\":[{\"type\":\"scatter3d\",\"line\":{\"colorbar\":{\"outlinewidth\":0,\"ticks\":\"\"}},\"marker\":{\"colorbar\":{\"outlinewidth\":0,\"ticks\":\"\"}}}],\"scattermapbox\":[{\"type\":\"scattermapbox\",\"marker\":{\"colorbar\":{\"outlinewidth\":0,\"ticks\":\"\"}}}],\"scatterternary\":[{\"type\":\"scatterternary\",\"marker\":{\"colorbar\":{\"outlinewidth\":0,\"ticks\":\"\"}}}],\"scattercarpet\":[{\"type\":\"scattercarpet\",\"marker\":{\"colorbar\":{\"outlinewidth\":0,\"ticks\":\"\"}}}],\"carpet\":[{\"aaxis\":{\"endlinecolor\":\"#2a3f5f\",\"gridcolor\":\"white\",\"linecolor\":\"white\",\"minorgridcolor\":\"white\",\"startlinecolor\":\"#2a3f5f\"},\"baxis\":{\"endlinecolor\":\"#2a3f5f\",\"gridcolor\":\"white\",\"linecolor\":\"white\",\"minorgridcolor\":\"white\",\"startlinecolor\":\"#2a3f5f\"},\"type\":\"carpet\"}],\"table\":[{\"cells\":{\"fill\":{\"color\":\"#EBF0F8\"},\"line\":{\"color\":\"white\"}},\"header\":{\"fill\":{\"color\":\"#C8D4E3\"},\"line\":{\"color\":\"white\"}},\"type\":\"table\"}],\"barpolar\":[{\"marker\":{\"line\":{\"color\":\"#E5ECF6\",\"width\":0.5},\"pattern\":{\"fillmode\":\"overlay\",\"size\":10,\"solidity\":0.2}},\"type\":\"barpolar\"}],\"pie\":[{\"automargin\":true,\"type\":\"pie\"}]},\"layout\":{\"autotypenumbers\":\"strict\",\"colorway\":[\"#636efa\",\"#EF553B\",\"#00cc96\",\"#ab63fa\",\"#FFA15A\",\"#19d3f3\",\"#FF6692\",\"#B6E880\",\"#FF97FF\",\"#FECB52\"],\"font\":{\"color\":\"#2a3f5f\"},\"hovermode\":\"closest\",\"hoverlabel\":{\"align\":\"left\"},\"paper_bgcolor\":\"white\",\"plot_bgcolor\":\"#E5ECF6\",\"polar\":{\"bgcolor\":\"#E5ECF6\",\"angularaxis\":{\"gridcolor\":\"white\",\"linecolor\":\"white\",\"ticks\":\"\"},\"radialaxis\":{\"gridcolor\":\"white\",\"linecolor\":\"white\",\"ticks\":\"\"}},\"ternary\":{\"bgcolor\":\"#E5ECF6\",\"aaxis\":{\"gridcolor\":\"white\",\"linecolor\":\"white\",\"ticks\":\"\"},\"baxis\":{\"gridcolor\":\"white\",\"linecolor\":\"white\",\"ticks\":\"\"},\"caxis\":{\"gridcolor\":\"white\",\"linecolor\":\"white\",\"ticks\":\"\"}},\"coloraxis\":{\"colorbar\":{\"outlinewidth\":0,\"ticks\":\"\"}},\"colorscale\":{\"sequential\":[[0.0,\"#0d0887\"],[0.1111111111111111,\"#46039f\"],[0.2222222222222222,\"#7201a8\"],[0.3333333333333333,\"#9c179e\"],[0.4444444444444444,\"#bd3786\"],[0.5555555555555556,\"#d8576b\"],[0.6666666666666666,\"#ed7953\"],[0.7777777777777778,\"#fb9f3a\"],[0.8888888888888888,\"#fdca26\"],[1.0,\"#f0f921\"]],\"sequentialminus\":[[0.0,\"#0d0887\"],[0.1111111111111111,\"#46039f\"],[0.2222222222222222,\"#7201a8\"],[0.3333333333333333,\"#9c179e\"],[0.4444444444444444,\"#bd3786\"],[0.5555555555555556,\"#d8576b\"],[0.6666666666666666,\"#ed7953\"],[0.7777777777777778,\"#fb9f3a\"],[0.8888888888888888,\"#fdca26\"],[1.0,\"#f0f921\"]],\"diverging\":[[0,\"#8e0152\"],[0.1,\"#c51b7d\"],[0.2,\"#de77ae\"],[0.3,\"#f1b6da\"],[0.4,\"#fde0ef\"],[0.5,\"#f7f7f7\"],[0.6,\"#e6f5d0\"],[0.7,\"#b8e186\"],[0.8,\"#7fbc41\"],[0.9,\"#4d9221\"],[1,\"#276419\"]]},\"xaxis\":{\"gridcolor\":\"white\",\"linecolor\":\"white\",\"ticks\":\"\",\"title\":{\"standoff\":15},\"zerolinecolor\":\"white\",\"automargin\":true,\"zerolinewidth\":2},\"yaxis\":{\"gridcolor\":\"white\",\"linecolor\":\"white\",\"ticks\":\"\",\"title\":{\"standoff\":15},\"zerolinecolor\":\"white\",\"automargin\":true,\"zerolinewidth\":2},\"scene\":{\"xaxis\":{\"backgroundcolor\":\"#E5ECF6\",\"gridcolor\":\"white\",\"linecolor\":\"white\",\"showbackground\":true,\"ticks\":\"\",\"zerolinecolor\":\"white\",\"gridwidth\":2},\"yaxis\":{\"backgroundcolor\":\"#E5ECF6\",\"gridcolor\":\"white\",\"linecolor\":\"white\",\"showbackground\":true,\"ticks\":\"\",\"zerolinecolor\":\"white\",\"gridwidth\":2},\"zaxis\":{\"backgroundcolor\":\"#E5ECF6\",\"gridcolor\":\"white\",\"linecolor\":\"white\",\"showbackground\":true,\"ticks\":\"\",\"zerolinecolor\":\"white\",\"gridwidth\":2}},\"shapedefaults\":{\"line\":{\"color\":\"#2a3f5f\"}},\"annotationdefaults\":{\"arrowcolor\":\"#2a3f5f\",\"arrowhead\":0,\"arrowwidth\":1},\"geo\":{\"bgcolor\":\"white\",\"landcolor\":\"#E5ECF6\",\"subunitcolor\":\"white\",\"showland\":true,\"showlakes\":true,\"lakecolor\":\"white\"},\"title\":{\"x\":0.05},\"mapbox\":{\"style\":\"light\"}}},\"xaxis\":{\"anchor\":\"y\",\"domain\":[0.0,1.0],\"title\":{\"text\":\"Number of Calls\"}},\"yaxis\":{\"anchor\":\"x\",\"domain\":[0.0,1.0],\"title\":{\"text\":\"Action Plan Component\"},\"categoryorder\":\"array\",\"categoryarray\":[\"Counts\",\"Action\",\"Result\"]},\"legend\":{\"title\":{\"text\":\"Selling Outcome\"},\"tracegroupgap\":0},\"margin\":{\"t\":60},\"barmode\":\"stack\",\"title\":{\"text\":\"A Graph to show how many calls of each Action Plan Component resulted in a each Selling Outcome\",\"font\":{\"size\":13}},\"width\":800},                        {\"responsive\": true}                    )                };                            </script>        </div>\n</body>\n</html>",
       "datasetInfos": [],
       "metadata": {},
       "removedWidgets": [],
       "textData": null,
       "type": "htmlSandbox"
      }
     },
     "output_type": "display_data"
    },
    {
     "output_type": "display_data",
     "data": {
      "text/html": [
       "<html>\n",
       "<head><meta charset=\"utf-8\" /></head>\n",
       "<body>\n",
       "    <div>            <script src=\"https://cdnjs.cloudflare.com/ajax/libs/mathjax/2.7.5/MathJax.js?config=TeX-AMS-MML_SVG\"></script><script type=\"text/javascript\">if (window.MathJax && window.MathJax.Hub && window.MathJax.Hub.Config) {window.MathJax.Hub.Config({SVG: {font: \"STIX-Web\"}});}</script>                <script type=\"text/javascript\">window.PlotlyConfig = {MathJaxConfig: 'local'};</script>\n",
       "        <script src=\"https://cdn.plot.ly/plotly-2.12.1.min.js\"></script>                <div id=\"9e527609-1312-45d5-bd7a-92d6029e0ab2\" class=\"plotly-graph-div\" style=\"height:100%; width:800px;\"></div>            <script type=\"text/javascript\">                                    window.PLOTLYENV=window.PLOTLYENV || {};                                    if (document.getElementById(\"9e527609-1312-45d5-bd7a-92d6029e0ab2\")) {                    Plotly.newPlot(                        \"9e527609-1312-45d5-bd7a-92d6029e0ab2\",                        [{\"alignmentgroup\":\"True\",\"hovertemplate\":\"Conveyed=Conveyed<br>Count=%{x}<br>Topic=%{y}<extra></extra>\",\"legendgroup\":\"Conveyed\",\"marker\":{\"color\":\"#8CBAFF\",\"pattern\":{\"shape\":\"\"}},\"name\":\"Conveyed\",\"offsetgroup\":\"Conveyed\",\"orientation\":\"h\",\"showlegend\":true,\"textposition\":\"auto\",\"x\":[21,9,26],\"xaxis\":\"x\",\"y\":[\"Key Messages\",\"Burden of Disease\",\"National Immunisation Programme\"],\"yaxis\":\"y\",\"type\":\"bar\"},{\"alignmentgroup\":\"True\",\"hovertemplate\":\"Conveyed=Not Conveyed<br>Count=%{x}<br>Topic=%{y}<extra></extra>\",\"legendgroup\":\"Not Conveyed\",\"marker\":{\"color\":\"#75737D\",\"pattern\":{\"shape\":\"\"}},\"name\":\"Not Conveyed\",\"offsetgroup\":\"Not Conveyed\",\"orientation\":\"h\",\"showlegend\":true,\"textposition\":\"auto\",\"x\":[10,22,5],\"xaxis\":\"x\",\"y\":[\"Key Messages\",\"Burden of Disease\",\"National Immunisation Programme\"],\"yaxis\":\"y\",\"type\":\"bar\"}],                        {\"template\":{\"data\":{\"histogram2dcontour\":[{\"type\":\"histogram2dcontour\",\"colorbar\":{\"outlinewidth\":0,\"ticks\":\"\"},\"colorscale\":[[0.0,\"#0d0887\"],[0.1111111111111111,\"#46039f\"],[0.2222222222222222,\"#7201a8\"],[0.3333333333333333,\"#9c179e\"],[0.4444444444444444,\"#bd3786\"],[0.5555555555555556,\"#d8576b\"],[0.6666666666666666,\"#ed7953\"],[0.7777777777777778,\"#fb9f3a\"],[0.8888888888888888,\"#fdca26\"],[1.0,\"#f0f921\"]]}],\"choropleth\":[{\"type\":\"choropleth\",\"colorbar\":{\"outlinewidth\":0,\"ticks\":\"\"}}],\"histogram2d\":[{\"type\":\"histogram2d\",\"colorbar\":{\"outlinewidth\":0,\"ticks\":\"\"},\"colorscale\":[[0.0,\"#0d0887\"],[0.1111111111111111,\"#46039f\"],[0.2222222222222222,\"#7201a8\"],[0.3333333333333333,\"#9c179e\"],[0.4444444444444444,\"#bd3786\"],[0.5555555555555556,\"#d8576b\"],[0.6666666666666666,\"#ed7953\"],[0.7777777777777778,\"#fb9f3a\"],[0.8888888888888888,\"#fdca26\"],[1.0,\"#f0f921\"]]}],\"heatmap\":[{\"type\":\"heatmap\",\"colorbar\":{\"outlinewidth\":0,\"ticks\":\"\"},\"colorscale\":[[0.0,\"#0d0887\"],[0.1111111111111111,\"#46039f\"],[0.2222222222222222,\"#7201a8\"],[0.3333333333333333,\"#9c179e\"],[0.4444444444444444,\"#bd3786\"],[0.5555555555555556,\"#d8576b\"],[0.6666666666666666,\"#ed7953\"],[0.7777777777777778,\"#fb9f3a\"],[0.8888888888888888,\"#fdca26\"],[1.0,\"#f0f921\"]]}],\"heatmapgl\":[{\"type\":\"heatmapgl\",\"colorbar\":{\"outlinewidth\":0,\"ticks\":\"\"},\"colorscale\":[[0.0,\"#0d0887\"],[0.1111111111111111,\"#46039f\"],[0.2222222222222222,\"#7201a8\"],[0.3333333333333333,\"#9c179e\"],[0.4444444444444444,\"#bd3786\"],[0.5555555555555556,\"#d8576b\"],[0.6666666666666666,\"#ed7953\"],[0.7777777777777778,\"#fb9f3a\"],[0.8888888888888888,\"#fdca26\"],[1.0,\"#f0f921\"]]}],\"contourcarpet\":[{\"type\":\"contourcarpet\",\"colorbar\":{\"outlinewidth\":0,\"ticks\":\"\"}}],\"contour\":[{\"type\":\"contour\",\"colorbar\":{\"outlinewidth\":0,\"ticks\":\"\"},\"colorscale\":[[0.0,\"#0d0887\"],[0.1111111111111111,\"#46039f\"],[0.2222222222222222,\"#7201a8\"],[0.3333333333333333,\"#9c179e\"],[0.4444444444444444,\"#bd3786\"],[0.5555555555555556,\"#d8576b\"],[0.6666666666666666,\"#ed7953\"],[0.7777777777777778,\"#fb9f3a\"],[0.8888888888888888,\"#fdca26\"],[1.0,\"#f0f921\"]]}],\"surface\":[{\"type\":\"surface\",\"colorbar\":{\"outlinewidth\":0,\"ticks\":\"\"},\"colorscale\":[[0.0,\"#0d0887\"],[0.1111111111111111,\"#46039f\"],[0.2222222222222222,\"#7201a8\"],[0.3333333333333333,\"#9c179e\"],[0.4444444444444444,\"#bd3786\"],[0.5555555555555556,\"#d8576b\"],[0.6666666666666666,\"#ed7953\"],[0.7777777777777778,\"#fb9f3a\"],[0.8888888888888888,\"#fdca26\"],[1.0,\"#f0f921\"]]}],\"mesh3d\":[{\"type\":\"mesh3d\",\"colorbar\":{\"outlinewidth\":0,\"ticks\":\"\"}}],\"scatter\":[{\"fillpattern\":{\"fillmode\":\"overlay\",\"size\":10,\"solidity\":0.2},\"type\":\"scatter\"}],\"parcoords\":[{\"type\":\"parcoords\",\"line\":{\"colorbar\":{\"outlinewidth\":0,\"ticks\":\"\"}}}],\"scatterpolargl\":[{\"type\":\"scatterpolargl\",\"marker\":{\"colorbar\":{\"outlinewidth\":0,\"ticks\":\"\"}}}],\"bar\":[{\"error_x\":{\"color\":\"#2a3f5f\"},\"error_y\":{\"color\":\"#2a3f5f\"},\"marker\":{\"line\":{\"color\":\"#E5ECF6\",\"width\":0.5},\"pattern\":{\"fillmode\":\"overlay\",\"size\":10,\"solidity\":0.2}},\"type\":\"bar\"}],\"scattergeo\":[{\"type\":\"scattergeo\",\"marker\":{\"colorbar\":{\"outlinewidth\":0,\"ticks\":\"\"}}}],\"scatterpolar\":[{\"type\":\"scatterpolar\",\"marker\":{\"colorbar\":{\"outlinewidth\":0,\"ticks\":\"\"}}}],\"histogram\":[{\"marker\":{\"pattern\":{\"fillmode\":\"overlay\",\"size\":10,\"solidity\":0.2}},\"type\":\"histogram\"}],\"scattergl\":[{\"type\":\"scattergl\",\"marker\":{\"colorbar\":{\"outlinewidth\":0,\"ticks\":\"\"}}}],\"scatter3d\":[{\"type\":\"scatter3d\",\"line\":{\"colorbar\":{\"outlinewidth\":0,\"ticks\":\"\"}},\"marker\":{\"colorbar\":{\"outlinewidth\":0,\"ticks\":\"\"}}}],\"scattermapbox\":[{\"type\":\"scattermapbox\",\"marker\":{\"colorbar\":{\"outlinewidth\":0,\"ticks\":\"\"}}}],\"scatterternary\":[{\"type\":\"scatterternary\",\"marker\":{\"colorbar\":{\"outlinewidth\":0,\"ticks\":\"\"}}}],\"scattercarpet\":[{\"type\":\"scattercarpet\",\"marker\":{\"colorbar\":{\"outlinewidth\":0,\"ticks\":\"\"}}}],\"carpet\":[{\"aaxis\":{\"endlinecolor\":\"#2a3f5f\",\"gridcolor\":\"white\",\"linecolor\":\"white\",\"minorgridcolor\":\"white\",\"startlinecolor\":\"#2a3f5f\"},\"baxis\":{\"endlinecolor\":\"#2a3f5f\",\"gridcolor\":\"white\",\"linecolor\":\"white\",\"minorgridcolor\":\"white\",\"startlinecolor\":\"#2a3f5f\"},\"type\":\"carpet\"}],\"table\":[{\"cells\":{\"fill\":{\"color\":\"#EBF0F8\"},\"line\":{\"color\":\"white\"}},\"header\":{\"fill\":{\"color\":\"#C8D4E3\"},\"line\":{\"color\":\"white\"}},\"type\":\"table\"}],\"barpolar\":[{\"marker\":{\"line\":{\"color\":\"#E5ECF6\",\"width\":0.5},\"pattern\":{\"fillmode\":\"overlay\",\"size\":10,\"solidity\":0.2}},\"type\":\"barpolar\"}],\"pie\":[{\"automargin\":true,\"type\":\"pie\"}]},\"layout\":{\"autotypenumbers\":\"strict\",\"colorway\":[\"#636efa\",\"#EF553B\",\"#00cc96\",\"#ab63fa\",\"#FFA15A\",\"#19d3f3\",\"#FF6692\",\"#B6E880\",\"#FF97FF\",\"#FECB52\"],\"font\":{\"color\":\"#2a3f5f\"},\"hovermode\":\"closest\",\"hoverlabel\":{\"align\":\"left\"},\"paper_bgcolor\":\"white\",\"plot_bgcolor\":\"#E5ECF6\",\"polar\":{\"bgcolor\":\"#E5ECF6\",\"angularaxis\":{\"gridcolor\":\"white\",\"linecolor\":\"white\",\"ticks\":\"\"},\"radialaxis\":{\"gridcolor\":\"white\",\"linecolor\":\"white\",\"ticks\":\"\"}},\"ternary\":{\"bgcolor\":\"#E5ECF6\",\"aaxis\":{\"gridcolor\":\"white\",\"linecolor\":\"white\",\"ticks\":\"\"},\"baxis\":{\"gridcolor\":\"white\",\"linecolor\":\"white\",\"ticks\":\"\"},\"caxis\":{\"gridcolor\":\"white\",\"linecolor\":\"white\",\"ticks\":\"\"}},\"coloraxis\":{\"colorbar\":{\"outlinewidth\":0,\"ticks\":\"\"}},\"colorscale\":{\"sequential\":[[0.0,\"#0d0887\"],[0.1111111111111111,\"#46039f\"],[0.2222222222222222,\"#7201a8\"],[0.3333333333333333,\"#9c179e\"],[0.4444444444444444,\"#bd3786\"],[0.5555555555555556,\"#d8576b\"],[0.6666666666666666,\"#ed7953\"],[0.7777777777777778,\"#fb9f3a\"],[0.8888888888888888,\"#fdca26\"],[1.0,\"#f0f921\"]],\"sequentialminus\":[[0.0,\"#0d0887\"],[0.1111111111111111,\"#46039f\"],[0.2222222222222222,\"#7201a8\"],[0.3333333333333333,\"#9c179e\"],[0.4444444444444444,\"#bd3786\"],[0.5555555555555556,\"#d8576b\"],[0.6666666666666666,\"#ed7953\"],[0.7777777777777778,\"#fb9f3a\"],[0.8888888888888888,\"#fdca26\"],[1.0,\"#f0f921\"]],\"diverging\":[[0,\"#8e0152\"],[0.1,\"#c51b7d\"],[0.2,\"#de77ae\"],[0.3,\"#f1b6da\"],[0.4,\"#fde0ef\"],[0.5,\"#f7f7f7\"],[0.6,\"#e6f5d0\"],[0.7,\"#b8e186\"],[0.8,\"#7fbc41\"],[0.9,\"#4d9221\"],[1,\"#276419\"]]},\"xaxis\":{\"gridcolor\":\"white\",\"linecolor\":\"white\",\"ticks\":\"\",\"title\":{\"standoff\":15},\"zerolinecolor\":\"white\",\"automargin\":true,\"zerolinewidth\":2},\"yaxis\":{\"gridcolor\":\"white\",\"linecolor\":\"white\",\"ticks\":\"\",\"title\":{\"standoff\":15},\"zerolinecolor\":\"white\",\"automargin\":true,\"zerolinewidth\":2},\"scene\":{\"xaxis\":{\"backgroundcolor\":\"#E5ECF6\",\"gridcolor\":\"white\",\"linecolor\":\"white\",\"showbackground\":true,\"ticks\":\"\",\"zerolinecolor\":\"white\",\"gridwidth\":2},\"yaxis\":{\"backgroundcolor\":\"#E5ECF6\",\"gridcolor\":\"white\",\"linecolor\":\"white\",\"showbackground\":true,\"ticks\":\"\",\"zerolinecolor\":\"white\",\"gridwidth\":2},\"zaxis\":{\"backgroundcolor\":\"#E5ECF6\",\"gridcolor\":\"white\",\"linecolor\":\"white\",\"showbackground\":true,\"ticks\":\"\",\"zerolinecolor\":\"white\",\"gridwidth\":2}},\"shapedefaults\":{\"line\":{\"color\":\"#2a3f5f\"}},\"annotationdefaults\":{\"arrowcolor\":\"#2a3f5f\",\"arrowhead\":0,\"arrowwidth\":1},\"geo\":{\"bgcolor\":\"white\",\"landcolor\":\"#E5ECF6\",\"subunitcolor\":\"white\",\"showland\":true,\"showlakes\":true,\"lakecolor\":\"white\"},\"title\":{\"x\":0.05},\"mapbox\":{\"style\":\"light\"}}},\"xaxis\":{\"anchor\":\"y\",\"domain\":[0.0,1.0],\"title\":{\"text\":\"Number of Calls\"}},\"yaxis\":{\"anchor\":\"x\",\"domain\":[0.0,1.0],\"title\":{\"text\":\"Topic\"}},\"legend\":{\"title\":{\"text\":\"Conveyed\"},\"tracegroupgap\":0},\"margin\":{\"t\":60},\"barmode\":\"stack\",\"title\":{\"text\":\"A Graph to show in how many calls was each Topic conveyed aggregated\"},\"width\":800},                        {\"responsive\": true}                    )                };                            </script>        </div>\n",
       "</body>\n",
       "</html>"
      ]
     },
     "metadata": {
      "application/vnd.databricks.v1+output": {
       "addedWidgets": {},
       "arguments": {},
       "data": "<html>\n<head><meta charset=\"utf-8\" /></head>\n<body>\n    <div>            <script src=\"https://cdnjs.cloudflare.com/ajax/libs/mathjax/2.7.5/MathJax.js?config=TeX-AMS-MML_SVG\"></script><script type=\"text/javascript\">if (window.MathJax && window.MathJax.Hub && window.MathJax.Hub.Config) {window.MathJax.Hub.Config({SVG: {font: \"STIX-Web\"}});}</script>                <script type=\"text/javascript\">window.PlotlyConfig = {MathJaxConfig: 'local'};</script>\n        <script src=\"https://cdn.plot.ly/plotly-2.12.1.min.js\"></script>                <div id=\"9e527609-1312-45d5-bd7a-92d6029e0ab2\" class=\"plotly-graph-div\" style=\"height:100%; width:800px;\"></div>            <script type=\"text/javascript\">                                    window.PLOTLYENV=window.PLOTLYENV || {};                                    if (document.getElementById(\"9e527609-1312-45d5-bd7a-92d6029e0ab2\")) {                    Plotly.newPlot(                        \"9e527609-1312-45d5-bd7a-92d6029e0ab2\",                        [{\"alignmentgroup\":\"True\",\"hovertemplate\":\"Conveyed=Conveyed<br>Count=%{x}<br>Topic=%{y}<extra></extra>\",\"legendgroup\":\"Conveyed\",\"marker\":{\"color\":\"#8CBAFF\",\"pattern\":{\"shape\":\"\"}},\"name\":\"Conveyed\",\"offsetgroup\":\"Conveyed\",\"orientation\":\"h\",\"showlegend\":true,\"textposition\":\"auto\",\"x\":[21,9,26],\"xaxis\":\"x\",\"y\":[\"Key Messages\",\"Burden of Disease\",\"National Immunisation Programme\"],\"yaxis\":\"y\",\"type\":\"bar\"},{\"alignmentgroup\":\"True\",\"hovertemplate\":\"Conveyed=Not Conveyed<br>Count=%{x}<br>Topic=%{y}<extra></extra>\",\"legendgroup\":\"Not Conveyed\",\"marker\":{\"color\":\"#75737D\",\"pattern\":{\"shape\":\"\"}},\"name\":\"Not Conveyed\",\"offsetgroup\":\"Not Conveyed\",\"orientation\":\"h\",\"showlegend\":true,\"textposition\":\"auto\",\"x\":[10,22,5],\"xaxis\":\"x\",\"y\":[\"Key Messages\",\"Burden of Disease\",\"National Immunisation Programme\"],\"yaxis\":\"y\",\"type\":\"bar\"}],                        {\"template\":{\"data\":{\"histogram2dcontour\":[{\"type\":\"histogram2dcontour\",\"colorbar\":{\"outlinewidth\":0,\"ticks\":\"\"},\"colorscale\":[[0.0,\"#0d0887\"],[0.1111111111111111,\"#46039f\"],[0.2222222222222222,\"#7201a8\"],[0.3333333333333333,\"#9c179e\"],[0.4444444444444444,\"#bd3786\"],[0.5555555555555556,\"#d8576b\"],[0.6666666666666666,\"#ed7953\"],[0.7777777777777778,\"#fb9f3a\"],[0.8888888888888888,\"#fdca26\"],[1.0,\"#f0f921\"]]}],\"choropleth\":[{\"type\":\"choropleth\",\"colorbar\":{\"outlinewidth\":0,\"ticks\":\"\"}}],\"histogram2d\":[{\"type\":\"histogram2d\",\"colorbar\":{\"outlinewidth\":0,\"ticks\":\"\"},\"colorscale\":[[0.0,\"#0d0887\"],[0.1111111111111111,\"#46039f\"],[0.2222222222222222,\"#7201a8\"],[0.3333333333333333,\"#9c179e\"],[0.4444444444444444,\"#bd3786\"],[0.5555555555555556,\"#d8576b\"],[0.6666666666666666,\"#ed7953\"],[0.7777777777777778,\"#fb9f3a\"],[0.8888888888888888,\"#fdca26\"],[1.0,\"#f0f921\"]]}],\"heatmap\":[{\"type\":\"heatmap\",\"colorbar\":{\"outlinewidth\":0,\"ticks\":\"\"},\"colorscale\":[[0.0,\"#0d0887\"],[0.1111111111111111,\"#46039f\"],[0.2222222222222222,\"#7201a8\"],[0.3333333333333333,\"#9c179e\"],[0.4444444444444444,\"#bd3786\"],[0.5555555555555556,\"#d8576b\"],[0.6666666666666666,\"#ed7953\"],[0.7777777777777778,\"#fb9f3a\"],[0.8888888888888888,\"#fdca26\"],[1.0,\"#f0f921\"]]}],\"heatmapgl\":[{\"type\":\"heatmapgl\",\"colorbar\":{\"outlinewidth\":0,\"ticks\":\"\"},\"colorscale\":[[0.0,\"#0d0887\"],[0.1111111111111111,\"#46039f\"],[0.2222222222222222,\"#7201a8\"],[0.3333333333333333,\"#9c179e\"],[0.4444444444444444,\"#bd3786\"],[0.5555555555555556,\"#d8576b\"],[0.6666666666666666,\"#ed7953\"],[0.7777777777777778,\"#fb9f3a\"],[0.8888888888888888,\"#fdca26\"],[1.0,\"#f0f921\"]]}],\"contourcarpet\":[{\"type\":\"contourcarpet\",\"colorbar\":{\"outlinewidth\":0,\"ticks\":\"\"}}],\"contour\":[{\"type\":\"contour\",\"colorbar\":{\"outlinewidth\":0,\"ticks\":\"\"},\"colorscale\":[[0.0,\"#0d0887\"],[0.1111111111111111,\"#46039f\"],[0.2222222222222222,\"#7201a8\"],[0.3333333333333333,\"#9c179e\"],[0.4444444444444444,\"#bd3786\"],[0.5555555555555556,\"#d8576b\"],[0.6666666666666666,\"#ed7953\"],[0.7777777777777778,\"#fb9f3a\"],[0.8888888888888888,\"#fdca26\"],[1.0,\"#f0f921\"]]}],\"surface\":[{\"type\":\"surface\",\"colorbar\":{\"outlinewidth\":0,\"ticks\":\"\"},\"colorscale\":[[0.0,\"#0d0887\"],[0.1111111111111111,\"#46039f\"],[0.2222222222222222,\"#7201a8\"],[0.3333333333333333,\"#9c179e\"],[0.4444444444444444,\"#bd3786\"],[0.5555555555555556,\"#d8576b\"],[0.6666666666666666,\"#ed7953\"],[0.7777777777777778,\"#fb9f3a\"],[0.8888888888888888,\"#fdca26\"],[1.0,\"#f0f921\"]]}],\"mesh3d\":[{\"type\":\"mesh3d\",\"colorbar\":{\"outlinewidth\":0,\"ticks\":\"\"}}],\"scatter\":[{\"fillpattern\":{\"fillmode\":\"overlay\",\"size\":10,\"solidity\":0.2},\"type\":\"scatter\"}],\"parcoords\":[{\"type\":\"parcoords\",\"line\":{\"colorbar\":{\"outlinewidth\":0,\"ticks\":\"\"}}}],\"scatterpolargl\":[{\"type\":\"scatterpolargl\",\"marker\":{\"colorbar\":{\"outlinewidth\":0,\"ticks\":\"\"}}}],\"bar\":[{\"error_x\":{\"color\":\"#2a3f5f\"},\"error_y\":{\"color\":\"#2a3f5f\"},\"marker\":{\"line\":{\"color\":\"#E5ECF6\",\"width\":0.5},\"pattern\":{\"fillmode\":\"overlay\",\"size\":10,\"solidity\":0.2}},\"type\":\"bar\"}],\"scattergeo\":[{\"type\":\"scattergeo\",\"marker\":{\"colorbar\":{\"outlinewidth\":0,\"ticks\":\"\"}}}],\"scatterpolar\":[{\"type\":\"scatterpolar\",\"marker\":{\"colorbar\":{\"outlinewidth\":0,\"ticks\":\"\"}}}],\"histogram\":[{\"marker\":{\"pattern\":{\"fillmode\":\"overlay\",\"size\":10,\"solidity\":0.2}},\"type\":\"histogram\"}],\"scattergl\":[{\"type\":\"scattergl\",\"marker\":{\"colorbar\":{\"outlinewidth\":0,\"ticks\":\"\"}}}],\"scatter3d\":[{\"type\":\"scatter3d\",\"line\":{\"colorbar\":{\"outlinewidth\":0,\"ticks\":\"\"}},\"marker\":{\"colorbar\":{\"outlinewidth\":0,\"ticks\":\"\"}}}],\"scattermapbox\":[{\"type\":\"scattermapbox\",\"marker\":{\"colorbar\":{\"outlinewidth\":0,\"ticks\":\"\"}}}],\"scatterternary\":[{\"type\":\"scatterternary\",\"marker\":{\"colorbar\":{\"outlinewidth\":0,\"ticks\":\"\"}}}],\"scattercarpet\":[{\"type\":\"scattercarpet\",\"marker\":{\"colorbar\":{\"outlinewidth\":0,\"ticks\":\"\"}}}],\"carpet\":[{\"aaxis\":{\"endlinecolor\":\"#2a3f5f\",\"gridcolor\":\"white\",\"linecolor\":\"white\",\"minorgridcolor\":\"white\",\"startlinecolor\":\"#2a3f5f\"},\"baxis\":{\"endlinecolor\":\"#2a3f5f\",\"gridcolor\":\"white\",\"linecolor\":\"white\",\"minorgridcolor\":\"white\",\"startlinecolor\":\"#2a3f5f\"},\"type\":\"carpet\"}],\"table\":[{\"cells\":{\"fill\":{\"color\":\"#EBF0F8\"},\"line\":{\"color\":\"white\"}},\"header\":{\"fill\":{\"color\":\"#C8D4E3\"},\"line\":{\"color\":\"white\"}},\"type\":\"table\"}],\"barpolar\":[{\"marker\":{\"line\":{\"color\":\"#E5ECF6\",\"width\":0.5},\"pattern\":{\"fillmode\":\"overlay\",\"size\":10,\"solidity\":0.2}},\"type\":\"barpolar\"}],\"pie\":[{\"automargin\":true,\"type\":\"pie\"}]},\"layout\":{\"autotypenumbers\":\"strict\",\"colorway\":[\"#636efa\",\"#EF553B\",\"#00cc96\",\"#ab63fa\",\"#FFA15A\",\"#19d3f3\",\"#FF6692\",\"#B6E880\",\"#FF97FF\",\"#FECB52\"],\"font\":{\"color\":\"#2a3f5f\"},\"hovermode\":\"closest\",\"hoverlabel\":{\"align\":\"left\"},\"paper_bgcolor\":\"white\",\"plot_bgcolor\":\"#E5ECF6\",\"polar\":{\"bgcolor\":\"#E5ECF6\",\"angularaxis\":{\"gridcolor\":\"white\",\"linecolor\":\"white\",\"ticks\":\"\"},\"radialaxis\":{\"gridcolor\":\"white\",\"linecolor\":\"white\",\"ticks\":\"\"}},\"ternary\":{\"bgcolor\":\"#E5ECF6\",\"aaxis\":{\"gridcolor\":\"white\",\"linecolor\":\"white\",\"ticks\":\"\"},\"baxis\":{\"gridcolor\":\"white\",\"linecolor\":\"white\",\"ticks\":\"\"},\"caxis\":{\"gridcolor\":\"white\",\"linecolor\":\"white\",\"ticks\":\"\"}},\"coloraxis\":{\"colorbar\":{\"outlinewidth\":0,\"ticks\":\"\"}},\"colorscale\":{\"sequential\":[[0.0,\"#0d0887\"],[0.1111111111111111,\"#46039f\"],[0.2222222222222222,\"#7201a8\"],[0.3333333333333333,\"#9c179e\"],[0.4444444444444444,\"#bd3786\"],[0.5555555555555556,\"#d8576b\"],[0.6666666666666666,\"#ed7953\"],[0.7777777777777778,\"#fb9f3a\"],[0.8888888888888888,\"#fdca26\"],[1.0,\"#f0f921\"]],\"sequentialminus\":[[0.0,\"#0d0887\"],[0.1111111111111111,\"#46039f\"],[0.2222222222222222,\"#7201a8\"],[0.3333333333333333,\"#9c179e\"],[0.4444444444444444,\"#bd3786\"],[0.5555555555555556,\"#d8576b\"],[0.6666666666666666,\"#ed7953\"],[0.7777777777777778,\"#fb9f3a\"],[0.8888888888888888,\"#fdca26\"],[1.0,\"#f0f921\"]],\"diverging\":[[0,\"#8e0152\"],[0.1,\"#c51b7d\"],[0.2,\"#de77ae\"],[0.3,\"#f1b6da\"],[0.4,\"#fde0ef\"],[0.5,\"#f7f7f7\"],[0.6,\"#e6f5d0\"],[0.7,\"#b8e186\"],[0.8,\"#7fbc41\"],[0.9,\"#4d9221\"],[1,\"#276419\"]]},\"xaxis\":{\"gridcolor\":\"white\",\"linecolor\":\"white\",\"ticks\":\"\",\"title\":{\"standoff\":15},\"zerolinecolor\":\"white\",\"automargin\":true,\"zerolinewidth\":2},\"yaxis\":{\"gridcolor\":\"white\",\"linecolor\":\"white\",\"ticks\":\"\",\"title\":{\"standoff\":15},\"zerolinecolor\":\"white\",\"automargin\":true,\"zerolinewidth\":2},\"scene\":{\"xaxis\":{\"backgroundcolor\":\"#E5ECF6\",\"gridcolor\":\"white\",\"linecolor\":\"white\",\"showbackground\":true,\"ticks\":\"\",\"zerolinecolor\":\"white\",\"gridwidth\":2},\"yaxis\":{\"backgroundcolor\":\"#E5ECF6\",\"gridcolor\":\"white\",\"linecolor\":\"white\",\"showbackground\":true,\"ticks\":\"\",\"zerolinecolor\":\"white\",\"gridwidth\":2},\"zaxis\":{\"backgroundcolor\":\"#E5ECF6\",\"gridcolor\":\"white\",\"linecolor\":\"white\",\"showbackground\":true,\"ticks\":\"\",\"zerolinecolor\":\"white\",\"gridwidth\":2}},\"shapedefaults\":{\"line\":{\"color\":\"#2a3f5f\"}},\"annotationdefaults\":{\"arrowcolor\":\"#2a3f5f\",\"arrowhead\":0,\"arrowwidth\":1},\"geo\":{\"bgcolor\":\"white\",\"landcolor\":\"#E5ECF6\",\"subunitcolor\":\"white\",\"showland\":true,\"showlakes\":true,\"lakecolor\":\"white\"},\"title\":{\"x\":0.05},\"mapbox\":{\"style\":\"light\"}}},\"xaxis\":{\"anchor\":\"y\",\"domain\":[0.0,1.0],\"title\":{\"text\":\"Number of Calls\"}},\"yaxis\":{\"anchor\":\"x\",\"domain\":[0.0,1.0],\"title\":{\"text\":\"Topic\"}},\"legend\":{\"title\":{\"text\":\"Conveyed\"},\"tracegroupgap\":0},\"margin\":{\"t\":60},\"barmode\":\"stack\",\"title\":{\"text\":\"A Graph to show in how many calls was each Topic conveyed aggregated\"},\"width\":800},                        {\"responsive\": true}                    )                };                            </script>        </div>\n</body>\n</html>",
       "datasetInfos": [],
       "metadata": {},
       "removedWidgets": [],
       "textData": null,
       "type": "htmlSandbox"
      }
     },
     "output_type": "display_data"
    },
    {
     "output_type": "display_data",
     "data": {
      "text/html": [
       "<html>\n",
       "<head><meta charset=\"utf-8\" /></head>\n",
       "<body>\n",
       "    <div>            <script src=\"https://cdnjs.cloudflare.com/ajax/libs/mathjax/2.7.5/MathJax.js?config=TeX-AMS-MML_SVG\"></script><script type=\"text/javascript\">if (window.MathJax && window.MathJax.Hub && window.MathJax.Hub.Config) {window.MathJax.Hub.Config({SVG: {font: \"STIX-Web\"}});}</script>                <script type=\"text/javascript\">window.PlotlyConfig = {MathJaxConfig: 'local'};</script>\n",
       "        <script src=\"https://cdn.plot.ly/plotly-2.12.1.min.js\"></script>                <div id=\"fedc9f4f-4f7a-4d79-b70d-5a6e302575d8\" class=\"plotly-graph-div\" style=\"height:100%; width:800px;\"></div>            <script type=\"text/javascript\">                                    window.PLOTLYENV=window.PLOTLYENV || {};                                    if (document.getElementById(\"fedc9f4f-4f7a-4d79-b70d-5a6e302575d8\")) {                    Plotly.newPlot(                        \"fedc9f4f-4f7a-4d79-b70d-5a6e302575d8\",                        [{\"alignmentgroup\":\"True\",\"hovertemplate\":\"Conveyed=Conveyed<br>Count=%{x}<br>Topic=%{y}<extra></extra>\",\"legendgroup\":\"Conveyed\",\"marker\":{\"color\":\"#8CBAFF\",\"pattern\":{\"shape\":\"\"}},\"name\":\"Conveyed\",\"offsetgroup\":\"Conveyed\",\"orientation\":\"h\",\"showlegend\":true,\"textposition\":\"auto\",\"x\":[15,16,7,11,17,13,9,26],\"xaxis\":\"x\",\"y\":[\"Key Message 1\",\"Key Message 2\",\"Key Message 3\",\"Key Message 4\",\"Key Message 5\",\"Key Message 6\",\"Burden of Disease\",\"National Immunisation Programme\"],\"yaxis\":\"y\",\"type\":\"bar\"},{\"alignmentgroup\":\"True\",\"hovertemplate\":\"Conveyed=Not Conveyed<br>Count=%{x}<br>Topic=%{y}<extra></extra>\",\"legendgroup\":\"Not Conveyed\",\"marker\":{\"color\":\"#75737D\",\"pattern\":{\"shape\":\"\"}},\"name\":\"Not Conveyed\",\"offsetgroup\":\"Not Conveyed\",\"orientation\":\"h\",\"showlegend\":true,\"textposition\":\"auto\",\"x\":[16,15,24,20,14,18,22,5],\"xaxis\":\"x\",\"y\":[\"Key Message 1\",\"Key Message 2\",\"Key Message 3\",\"Key Message 4\",\"Key Message 5\",\"Key Message 6\",\"Burden of Disease\",\"National Immunisation Programme\"],\"yaxis\":\"y\",\"type\":\"bar\"}],                        {\"template\":{\"data\":{\"histogram2dcontour\":[{\"type\":\"histogram2dcontour\",\"colorbar\":{\"outlinewidth\":0,\"ticks\":\"\"},\"colorscale\":[[0.0,\"#0d0887\"],[0.1111111111111111,\"#46039f\"],[0.2222222222222222,\"#7201a8\"],[0.3333333333333333,\"#9c179e\"],[0.4444444444444444,\"#bd3786\"],[0.5555555555555556,\"#d8576b\"],[0.6666666666666666,\"#ed7953\"],[0.7777777777777778,\"#fb9f3a\"],[0.8888888888888888,\"#fdca26\"],[1.0,\"#f0f921\"]]}],\"choropleth\":[{\"type\":\"choropleth\",\"colorbar\":{\"outlinewidth\":0,\"ticks\":\"\"}}],\"histogram2d\":[{\"type\":\"histogram2d\",\"colorbar\":{\"outlinewidth\":0,\"ticks\":\"\"},\"colorscale\":[[0.0,\"#0d0887\"],[0.1111111111111111,\"#46039f\"],[0.2222222222222222,\"#7201a8\"],[0.3333333333333333,\"#9c179e\"],[0.4444444444444444,\"#bd3786\"],[0.5555555555555556,\"#d8576b\"],[0.6666666666666666,\"#ed7953\"],[0.7777777777777778,\"#fb9f3a\"],[0.8888888888888888,\"#fdca26\"],[1.0,\"#f0f921\"]]}],\"heatmap\":[{\"type\":\"heatmap\",\"colorbar\":{\"outlinewidth\":0,\"ticks\":\"\"},\"colorscale\":[[0.0,\"#0d0887\"],[0.1111111111111111,\"#46039f\"],[0.2222222222222222,\"#7201a8\"],[0.3333333333333333,\"#9c179e\"],[0.4444444444444444,\"#bd3786\"],[0.5555555555555556,\"#d8576b\"],[0.6666666666666666,\"#ed7953\"],[0.7777777777777778,\"#fb9f3a\"],[0.8888888888888888,\"#fdca26\"],[1.0,\"#f0f921\"]]}],\"heatmapgl\":[{\"type\":\"heatmapgl\",\"colorbar\":{\"outlinewidth\":0,\"ticks\":\"\"},\"colorscale\":[[0.0,\"#0d0887\"],[0.1111111111111111,\"#46039f\"],[0.2222222222222222,\"#7201a8\"],[0.3333333333333333,\"#9c179e\"],[0.4444444444444444,\"#bd3786\"],[0.5555555555555556,\"#d8576b\"],[0.6666666666666666,\"#ed7953\"],[0.7777777777777778,\"#fb9f3a\"],[0.8888888888888888,\"#fdca26\"],[1.0,\"#f0f921\"]]}],\"contourcarpet\":[{\"type\":\"contourcarpet\",\"colorbar\":{\"outlinewidth\":0,\"ticks\":\"\"}}],\"contour\":[{\"type\":\"contour\",\"colorbar\":{\"outlinewidth\":0,\"ticks\":\"\"},\"colorscale\":[[0.0,\"#0d0887\"],[0.1111111111111111,\"#46039f\"],[0.2222222222222222,\"#7201a8\"],[0.3333333333333333,\"#9c179e\"],[0.4444444444444444,\"#bd3786\"],[0.5555555555555556,\"#d8576b\"],[0.6666666666666666,\"#ed7953\"],[0.7777777777777778,\"#fb9f3a\"],[0.8888888888888888,\"#fdca26\"],[1.0,\"#f0f921\"]]}],\"surface\":[{\"type\":\"surface\",\"colorbar\":{\"outlinewidth\":0,\"ticks\":\"\"},\"colorscale\":[[0.0,\"#0d0887\"],[0.1111111111111111,\"#46039f\"],[0.2222222222222222,\"#7201a8\"],[0.3333333333333333,\"#9c179e\"],[0.4444444444444444,\"#bd3786\"],[0.5555555555555556,\"#d8576b\"],[0.6666666666666666,\"#ed7953\"],[0.7777777777777778,\"#fb9f3a\"],[0.8888888888888888,\"#fdca26\"],[1.0,\"#f0f921\"]]}],\"mesh3d\":[{\"type\":\"mesh3d\",\"colorbar\":{\"outlinewidth\":0,\"ticks\":\"\"}}],\"scatter\":[{\"fillpattern\":{\"fillmode\":\"overlay\",\"size\":10,\"solidity\":0.2},\"type\":\"scatter\"}],\"parcoords\":[{\"type\":\"parcoords\",\"line\":{\"colorbar\":{\"outlinewidth\":0,\"ticks\":\"\"}}}],\"scatterpolargl\":[{\"type\":\"scatterpolargl\",\"marker\":{\"colorbar\":{\"outlinewidth\":0,\"ticks\":\"\"}}}],\"bar\":[{\"error_x\":{\"color\":\"#2a3f5f\"},\"error_y\":{\"color\":\"#2a3f5f\"},\"marker\":{\"line\":{\"color\":\"#E5ECF6\",\"width\":0.5},\"pattern\":{\"fillmode\":\"overlay\",\"size\":10,\"solidity\":0.2}},\"type\":\"bar\"}],\"scattergeo\":[{\"type\":\"scattergeo\",\"marker\":{\"colorbar\":{\"outlinewidth\":0,\"ticks\":\"\"}}}],\"scatterpolar\":[{\"type\":\"scatterpolar\",\"marker\":{\"colorbar\":{\"outlinewidth\":0,\"ticks\":\"\"}}}],\"histogram\":[{\"marker\":{\"pattern\":{\"fillmode\":\"overlay\",\"size\":10,\"solidity\":0.2}},\"type\":\"histogram\"}],\"scattergl\":[{\"type\":\"scattergl\",\"marker\":{\"colorbar\":{\"outlinewidth\":0,\"ticks\":\"\"}}}],\"scatter3d\":[{\"type\":\"scatter3d\",\"line\":{\"colorbar\":{\"outlinewidth\":0,\"ticks\":\"\"}},\"marker\":{\"colorbar\":{\"outlinewidth\":0,\"ticks\":\"\"}}}],\"scattermapbox\":[{\"type\":\"scattermapbox\",\"marker\":{\"colorbar\":{\"outlinewidth\":0,\"ticks\":\"\"}}}],\"scatterternary\":[{\"type\":\"scatterternary\",\"marker\":{\"colorbar\":{\"outlinewidth\":0,\"ticks\":\"\"}}}],\"scattercarpet\":[{\"type\":\"scattercarpet\",\"marker\":{\"colorbar\":{\"outlinewidth\":0,\"ticks\":\"\"}}}],\"carpet\":[{\"aaxis\":{\"endlinecolor\":\"#2a3f5f\",\"gridcolor\":\"white\",\"linecolor\":\"white\",\"minorgridcolor\":\"white\",\"startlinecolor\":\"#2a3f5f\"},\"baxis\":{\"endlinecolor\":\"#2a3f5f\",\"gridcolor\":\"white\",\"linecolor\":\"white\",\"minorgridcolor\":\"white\",\"startlinecolor\":\"#2a3f5f\"},\"type\":\"carpet\"}],\"table\":[{\"cells\":{\"fill\":{\"color\":\"#EBF0F8\"},\"line\":{\"color\":\"white\"}},\"header\":{\"fill\":{\"color\":\"#C8D4E3\"},\"line\":{\"color\":\"white\"}},\"type\":\"table\"}],\"barpolar\":[{\"marker\":{\"line\":{\"color\":\"#E5ECF6\",\"width\":0.5},\"pattern\":{\"fillmode\":\"overlay\",\"size\":10,\"solidity\":0.2}},\"type\":\"barpolar\"}],\"pie\":[{\"automargin\":true,\"type\":\"pie\"}]},\"layout\":{\"autotypenumbers\":\"strict\",\"colorway\":[\"#636efa\",\"#EF553B\",\"#00cc96\",\"#ab63fa\",\"#FFA15A\",\"#19d3f3\",\"#FF6692\",\"#B6E880\",\"#FF97FF\",\"#FECB52\"],\"font\":{\"color\":\"#2a3f5f\"},\"hovermode\":\"closest\",\"hoverlabel\":{\"align\":\"left\"},\"paper_bgcolor\":\"white\",\"plot_bgcolor\":\"#E5ECF6\",\"polar\":{\"bgcolor\":\"#E5ECF6\",\"angularaxis\":{\"gridcolor\":\"white\",\"linecolor\":\"white\",\"ticks\":\"\"},\"radialaxis\":{\"gridcolor\":\"white\",\"linecolor\":\"white\",\"ticks\":\"\"}},\"ternary\":{\"bgcolor\":\"#E5ECF6\",\"aaxis\":{\"gridcolor\":\"white\",\"linecolor\":\"white\",\"ticks\":\"\"},\"baxis\":{\"gridcolor\":\"white\",\"linecolor\":\"white\",\"ticks\":\"\"},\"caxis\":{\"gridcolor\":\"white\",\"linecolor\":\"white\",\"ticks\":\"\"}},\"coloraxis\":{\"colorbar\":{\"outlinewidth\":0,\"ticks\":\"\"}},\"colorscale\":{\"sequential\":[[0.0,\"#0d0887\"],[0.1111111111111111,\"#46039f\"],[0.2222222222222222,\"#7201a8\"],[0.3333333333333333,\"#9c179e\"],[0.4444444444444444,\"#bd3786\"],[0.5555555555555556,\"#d8576b\"],[0.6666666666666666,\"#ed7953\"],[0.7777777777777778,\"#fb9f3a\"],[0.8888888888888888,\"#fdca26\"],[1.0,\"#f0f921\"]],\"sequentialminus\":[[0.0,\"#0d0887\"],[0.1111111111111111,\"#46039f\"],[0.2222222222222222,\"#7201a8\"],[0.3333333333333333,\"#9c179e\"],[0.4444444444444444,\"#bd3786\"],[0.5555555555555556,\"#d8576b\"],[0.6666666666666666,\"#ed7953\"],[0.7777777777777778,\"#fb9f3a\"],[0.8888888888888888,\"#fdca26\"],[1.0,\"#f0f921\"]],\"diverging\":[[0,\"#8e0152\"],[0.1,\"#c51b7d\"],[0.2,\"#de77ae\"],[0.3,\"#f1b6da\"],[0.4,\"#fde0ef\"],[0.5,\"#f7f7f7\"],[0.6,\"#e6f5d0\"],[0.7,\"#b8e186\"],[0.8,\"#7fbc41\"],[0.9,\"#4d9221\"],[1,\"#276419\"]]},\"xaxis\":{\"gridcolor\":\"white\",\"linecolor\":\"white\",\"ticks\":\"\",\"title\":{\"standoff\":15},\"zerolinecolor\":\"white\",\"automargin\":true,\"zerolinewidth\":2},\"yaxis\":{\"gridcolor\":\"white\",\"linecolor\":\"white\",\"ticks\":\"\",\"title\":{\"standoff\":15},\"zerolinecolor\":\"white\",\"automargin\":true,\"zerolinewidth\":2},\"scene\":{\"xaxis\":{\"backgroundcolor\":\"#E5ECF6\",\"gridcolor\":\"white\",\"linecolor\":\"white\",\"showbackground\":true,\"ticks\":\"\",\"zerolinecolor\":\"white\",\"gridwidth\":2},\"yaxis\":{\"backgroundcolor\":\"#E5ECF6\",\"gridcolor\":\"white\",\"linecolor\":\"white\",\"showbackground\":true,\"ticks\":\"\",\"zerolinecolor\":\"white\",\"gridwidth\":2},\"zaxis\":{\"backgroundcolor\":\"#E5ECF6\",\"gridcolor\":\"white\",\"linecolor\":\"white\",\"showbackground\":true,\"ticks\":\"\",\"zerolinecolor\":\"white\",\"gridwidth\":2}},\"shapedefaults\":{\"line\":{\"color\":\"#2a3f5f\"}},\"annotationdefaults\":{\"arrowcolor\":\"#2a3f5f\",\"arrowhead\":0,\"arrowwidth\":1},\"geo\":{\"bgcolor\":\"white\",\"landcolor\":\"#E5ECF6\",\"subunitcolor\":\"white\",\"showland\":true,\"showlakes\":true,\"lakecolor\":\"white\"},\"title\":{\"x\":0.05},\"mapbox\":{\"style\":\"light\"}}},\"xaxis\":{\"anchor\":\"y\",\"domain\":[0.0,1.0],\"title\":{\"text\":\"Number of Calls\"}},\"yaxis\":{\"anchor\":\"x\",\"domain\":[0.0,1.0],\"title\":{\"text\":\"Topic\"}},\"legend\":{\"title\":{\"text\":\"Conveyed\"},\"tracegroupgap\":0},\"margin\":{\"t\":60},\"barmode\":\"stack\",\"title\":{\"text\":\"A Graph to show in how many calls was each Topic conveyed\"},\"width\":800},                        {\"responsive\": true}                    )                };                            </script>        </div>\n",
       "</body>\n",
       "</html>"
      ]
     },
     "metadata": {
      "application/vnd.databricks.v1+output": {
       "addedWidgets": {},
       "arguments": {},
       "data": "<html>\n<head><meta charset=\"utf-8\" /></head>\n<body>\n    <div>            <script src=\"https://cdnjs.cloudflare.com/ajax/libs/mathjax/2.7.5/MathJax.js?config=TeX-AMS-MML_SVG\"></script><script type=\"text/javascript\">if (window.MathJax && window.MathJax.Hub && window.MathJax.Hub.Config) {window.MathJax.Hub.Config({SVG: {font: \"STIX-Web\"}});}</script>                <script type=\"text/javascript\">window.PlotlyConfig = {MathJaxConfig: 'local'};</script>\n        <script src=\"https://cdn.plot.ly/plotly-2.12.1.min.js\"></script>                <div id=\"fedc9f4f-4f7a-4d79-b70d-5a6e302575d8\" class=\"plotly-graph-div\" style=\"height:100%; width:800px;\"></div>            <script type=\"text/javascript\">                                    window.PLOTLYENV=window.PLOTLYENV || {};                                    if (document.getElementById(\"fedc9f4f-4f7a-4d79-b70d-5a6e302575d8\")) {                    Plotly.newPlot(                        \"fedc9f4f-4f7a-4d79-b70d-5a6e302575d8\",                        [{\"alignmentgroup\":\"True\",\"hovertemplate\":\"Conveyed=Conveyed<br>Count=%{x}<br>Topic=%{y}<extra></extra>\",\"legendgroup\":\"Conveyed\",\"marker\":{\"color\":\"#8CBAFF\",\"pattern\":{\"shape\":\"\"}},\"name\":\"Conveyed\",\"offsetgroup\":\"Conveyed\",\"orientation\":\"h\",\"showlegend\":true,\"textposition\":\"auto\",\"x\":[15,16,7,11,17,13,9,26],\"xaxis\":\"x\",\"y\":[\"Key Message 1\",\"Key Message 2\",\"Key Message 3\",\"Key Message 4\",\"Key Message 5\",\"Key Message 6\",\"Burden of Disease\",\"National Immunisation Programme\"],\"yaxis\":\"y\",\"type\":\"bar\"},{\"alignmentgroup\":\"True\",\"hovertemplate\":\"Conveyed=Not Conveyed<br>Count=%{x}<br>Topic=%{y}<extra></extra>\",\"legendgroup\":\"Not Conveyed\",\"marker\":{\"color\":\"#75737D\",\"pattern\":{\"shape\":\"\"}},\"name\":\"Not Conveyed\",\"offsetgroup\":\"Not Conveyed\",\"orientation\":\"h\",\"showlegend\":true,\"textposition\":\"auto\",\"x\":[16,15,24,20,14,18,22,5],\"xaxis\":\"x\",\"y\":[\"Key Message 1\",\"Key Message 2\",\"Key Message 3\",\"Key Message 4\",\"Key Message 5\",\"Key Message 6\",\"Burden of Disease\",\"National Immunisation Programme\"],\"yaxis\":\"y\",\"type\":\"bar\"}],                        {\"template\":{\"data\":{\"histogram2dcontour\":[{\"type\":\"histogram2dcontour\",\"colorbar\":{\"outlinewidth\":0,\"ticks\":\"\"},\"colorscale\":[[0.0,\"#0d0887\"],[0.1111111111111111,\"#46039f\"],[0.2222222222222222,\"#7201a8\"],[0.3333333333333333,\"#9c179e\"],[0.4444444444444444,\"#bd3786\"],[0.5555555555555556,\"#d8576b\"],[0.6666666666666666,\"#ed7953\"],[0.7777777777777778,\"#fb9f3a\"],[0.8888888888888888,\"#fdca26\"],[1.0,\"#f0f921\"]]}],\"choropleth\":[{\"type\":\"choropleth\",\"colorbar\":{\"outlinewidth\":0,\"ticks\":\"\"}}],\"histogram2d\":[{\"type\":\"histogram2d\",\"colorbar\":{\"outlinewidth\":0,\"ticks\":\"\"},\"colorscale\":[[0.0,\"#0d0887\"],[0.1111111111111111,\"#46039f\"],[0.2222222222222222,\"#7201a8\"],[0.3333333333333333,\"#9c179e\"],[0.4444444444444444,\"#bd3786\"],[0.5555555555555556,\"#d8576b\"],[0.6666666666666666,\"#ed7953\"],[0.7777777777777778,\"#fb9f3a\"],[0.8888888888888888,\"#fdca26\"],[1.0,\"#f0f921\"]]}],\"heatmap\":[{\"type\":\"heatmap\",\"colorbar\":{\"outlinewidth\":0,\"ticks\":\"\"},\"colorscale\":[[0.0,\"#0d0887\"],[0.1111111111111111,\"#46039f\"],[0.2222222222222222,\"#7201a8\"],[0.3333333333333333,\"#9c179e\"],[0.4444444444444444,\"#bd3786\"],[0.5555555555555556,\"#d8576b\"],[0.6666666666666666,\"#ed7953\"],[0.7777777777777778,\"#fb9f3a\"],[0.8888888888888888,\"#fdca26\"],[1.0,\"#f0f921\"]]}],\"heatmapgl\":[{\"type\":\"heatmapgl\",\"colorbar\":{\"outlinewidth\":0,\"ticks\":\"\"},\"colorscale\":[[0.0,\"#0d0887\"],[0.1111111111111111,\"#46039f\"],[0.2222222222222222,\"#7201a8\"],[0.3333333333333333,\"#9c179e\"],[0.4444444444444444,\"#bd3786\"],[0.5555555555555556,\"#d8576b\"],[0.6666666666666666,\"#ed7953\"],[0.7777777777777778,\"#fb9f3a\"],[0.8888888888888888,\"#fdca26\"],[1.0,\"#f0f921\"]]}],\"contourcarpet\":[{\"type\":\"contourcarpet\",\"colorbar\":{\"outlinewidth\":0,\"ticks\":\"\"}}],\"contour\":[{\"type\":\"contour\",\"colorbar\":{\"outlinewidth\":0,\"ticks\":\"\"},\"colorscale\":[[0.0,\"#0d0887\"],[0.1111111111111111,\"#46039f\"],[0.2222222222222222,\"#7201a8\"],[0.3333333333333333,\"#9c179e\"],[0.4444444444444444,\"#bd3786\"],[0.5555555555555556,\"#d8576b\"],[0.6666666666666666,\"#ed7953\"],[0.7777777777777778,\"#fb9f3a\"],[0.8888888888888888,\"#fdca26\"],[1.0,\"#f0f921\"]]}],\"surface\":[{\"type\":\"surface\",\"colorbar\":{\"outlinewidth\":0,\"ticks\":\"\"},\"colorscale\":[[0.0,\"#0d0887\"],[0.1111111111111111,\"#46039f\"],[0.2222222222222222,\"#7201a8\"],[0.3333333333333333,\"#9c179e\"],[0.4444444444444444,\"#bd3786\"],[0.5555555555555556,\"#d8576b\"],[0.6666666666666666,\"#ed7953\"],[0.7777777777777778,\"#fb9f3a\"],[0.8888888888888888,\"#fdca26\"],[1.0,\"#f0f921\"]]}],\"mesh3d\":[{\"type\":\"mesh3d\",\"colorbar\":{\"outlinewidth\":0,\"ticks\":\"\"}}],\"scatter\":[{\"fillpattern\":{\"fillmode\":\"overlay\",\"size\":10,\"solidity\":0.2},\"type\":\"scatter\"}],\"parcoords\":[{\"type\":\"parcoords\",\"line\":{\"colorbar\":{\"outlinewidth\":0,\"ticks\":\"\"}}}],\"scatterpolargl\":[{\"type\":\"scatterpolargl\",\"marker\":{\"colorbar\":{\"outlinewidth\":0,\"ticks\":\"\"}}}],\"bar\":[{\"error_x\":{\"color\":\"#2a3f5f\"},\"error_y\":{\"color\":\"#2a3f5f\"},\"marker\":{\"line\":{\"color\":\"#E5ECF6\",\"width\":0.5},\"pattern\":{\"fillmode\":\"overlay\",\"size\":10,\"solidity\":0.2}},\"type\":\"bar\"}],\"scattergeo\":[{\"type\":\"scattergeo\",\"marker\":{\"colorbar\":{\"outlinewidth\":0,\"ticks\":\"\"}}}],\"scatterpolar\":[{\"type\":\"scatterpolar\",\"marker\":{\"colorbar\":{\"outlinewidth\":0,\"ticks\":\"\"}}}],\"histogram\":[{\"marker\":{\"pattern\":{\"fillmode\":\"overlay\",\"size\":10,\"solidity\":0.2}},\"type\":\"histogram\"}],\"scattergl\":[{\"type\":\"scattergl\",\"marker\":{\"colorbar\":{\"outlinewidth\":0,\"ticks\":\"\"}}}],\"scatter3d\":[{\"type\":\"scatter3d\",\"line\":{\"colorbar\":{\"outlinewidth\":0,\"ticks\":\"\"}},\"marker\":{\"colorbar\":{\"outlinewidth\":0,\"ticks\":\"\"}}}],\"scattermapbox\":[{\"type\":\"scattermapbox\",\"marker\":{\"colorbar\":{\"outlinewidth\":0,\"ticks\":\"\"}}}],\"scatterternary\":[{\"type\":\"scatterternary\",\"marker\":{\"colorbar\":{\"outlinewidth\":0,\"ticks\":\"\"}}}],\"scattercarpet\":[{\"type\":\"scattercarpet\",\"marker\":{\"colorbar\":{\"outlinewidth\":0,\"ticks\":\"\"}}}],\"carpet\":[{\"aaxis\":{\"endlinecolor\":\"#2a3f5f\",\"gridcolor\":\"white\",\"linecolor\":\"white\",\"minorgridcolor\":\"white\",\"startlinecolor\":\"#2a3f5f\"},\"baxis\":{\"endlinecolor\":\"#2a3f5f\",\"gridcolor\":\"white\",\"linecolor\":\"white\",\"minorgridcolor\":\"white\",\"startlinecolor\":\"#2a3f5f\"},\"type\":\"carpet\"}],\"table\":[{\"cells\":{\"fill\":{\"color\":\"#EBF0F8\"},\"line\":{\"color\":\"white\"}},\"header\":{\"fill\":{\"color\":\"#C8D4E3\"},\"line\":{\"color\":\"white\"}},\"type\":\"table\"}],\"barpolar\":[{\"marker\":{\"line\":{\"color\":\"#E5ECF6\",\"width\":0.5},\"pattern\":{\"fillmode\":\"overlay\",\"size\":10,\"solidity\":0.2}},\"type\":\"barpolar\"}],\"pie\":[{\"automargin\":true,\"type\":\"pie\"}]},\"layout\":{\"autotypenumbers\":\"strict\",\"colorway\":[\"#636efa\",\"#EF553B\",\"#00cc96\",\"#ab63fa\",\"#FFA15A\",\"#19d3f3\",\"#FF6692\",\"#B6E880\",\"#FF97FF\",\"#FECB52\"],\"font\":{\"color\":\"#2a3f5f\"},\"hovermode\":\"closest\",\"hoverlabel\":{\"align\":\"left\"},\"paper_bgcolor\":\"white\",\"plot_bgcolor\":\"#E5ECF6\",\"polar\":{\"bgcolor\":\"#E5ECF6\",\"angularaxis\":{\"gridcolor\":\"white\",\"linecolor\":\"white\",\"ticks\":\"\"},\"radialaxis\":{\"gridcolor\":\"white\",\"linecolor\":\"white\",\"ticks\":\"\"}},\"ternary\":{\"bgcolor\":\"#E5ECF6\",\"aaxis\":{\"gridcolor\":\"white\",\"linecolor\":\"white\",\"ticks\":\"\"},\"baxis\":{\"gridcolor\":\"white\",\"linecolor\":\"white\",\"ticks\":\"\"},\"caxis\":{\"gridcolor\":\"white\",\"linecolor\":\"white\",\"ticks\":\"\"}},\"coloraxis\":{\"colorbar\":{\"outlinewidth\":0,\"ticks\":\"\"}},\"colorscale\":{\"sequential\":[[0.0,\"#0d0887\"],[0.1111111111111111,\"#46039f\"],[0.2222222222222222,\"#7201a8\"],[0.3333333333333333,\"#9c179e\"],[0.4444444444444444,\"#bd3786\"],[0.5555555555555556,\"#d8576b\"],[0.6666666666666666,\"#ed7953\"],[0.7777777777777778,\"#fb9f3a\"],[0.8888888888888888,\"#fdca26\"],[1.0,\"#f0f921\"]],\"sequentialminus\":[[0.0,\"#0d0887\"],[0.1111111111111111,\"#46039f\"],[0.2222222222222222,\"#7201a8\"],[0.3333333333333333,\"#9c179e\"],[0.4444444444444444,\"#bd3786\"],[0.5555555555555556,\"#d8576b\"],[0.6666666666666666,\"#ed7953\"],[0.7777777777777778,\"#fb9f3a\"],[0.8888888888888888,\"#fdca26\"],[1.0,\"#f0f921\"]],\"diverging\":[[0,\"#8e0152\"],[0.1,\"#c51b7d\"],[0.2,\"#de77ae\"],[0.3,\"#f1b6da\"],[0.4,\"#fde0ef\"],[0.5,\"#f7f7f7\"],[0.6,\"#e6f5d0\"],[0.7,\"#b8e186\"],[0.8,\"#7fbc41\"],[0.9,\"#4d9221\"],[1,\"#276419\"]]},\"xaxis\":{\"gridcolor\":\"white\",\"linecolor\":\"white\",\"ticks\":\"\",\"title\":{\"standoff\":15},\"zerolinecolor\":\"white\",\"automargin\":true,\"zerolinewidth\":2},\"yaxis\":{\"gridcolor\":\"white\",\"linecolor\":\"white\",\"ticks\":\"\",\"title\":{\"standoff\":15},\"zerolinecolor\":\"white\",\"automargin\":true,\"zerolinewidth\":2},\"scene\":{\"xaxis\":{\"backgroundcolor\":\"#E5ECF6\",\"gridcolor\":\"white\",\"linecolor\":\"white\",\"showbackground\":true,\"ticks\":\"\",\"zerolinecolor\":\"white\",\"gridwidth\":2},\"yaxis\":{\"backgroundcolor\":\"#E5ECF6\",\"gridcolor\":\"white\",\"linecolor\":\"white\",\"showbackground\":true,\"ticks\":\"\",\"zerolinecolor\":\"white\",\"gridwidth\":2},\"zaxis\":{\"backgroundcolor\":\"#E5ECF6\",\"gridcolor\":\"white\",\"linecolor\":\"white\",\"showbackground\":true,\"ticks\":\"\",\"zerolinecolor\":\"white\",\"gridwidth\":2}},\"shapedefaults\":{\"line\":{\"color\":\"#2a3f5f\"}},\"annotationdefaults\":{\"arrowcolor\":\"#2a3f5f\",\"arrowhead\":0,\"arrowwidth\":1},\"geo\":{\"bgcolor\":\"white\",\"landcolor\":\"#E5ECF6\",\"subunitcolor\":\"white\",\"showland\":true,\"showlakes\":true,\"lakecolor\":\"white\"},\"title\":{\"x\":0.05},\"mapbox\":{\"style\":\"light\"}}},\"xaxis\":{\"anchor\":\"y\",\"domain\":[0.0,1.0],\"title\":{\"text\":\"Number of Calls\"}},\"yaxis\":{\"anchor\":\"x\",\"domain\":[0.0,1.0],\"title\":{\"text\":\"Topic\"}},\"legend\":{\"title\":{\"text\":\"Conveyed\"},\"tracegroupgap\":0},\"margin\":{\"t\":60},\"barmode\":\"stack\",\"title\":{\"text\":\"A Graph to show in how many calls was each Topic conveyed\"},\"width\":800},                        {\"responsive\": true}                    )                };                            </script>        </div>\n</body>\n</html>",
       "datasetInfos": [],
       "metadata": {},
       "removedWidgets": [],
       "textData": null,
       "type": "htmlSandbox"
      }
     },
     "output_type": "display_data"
    },
    {
     "output_type": "display_data",
     "data": {
      "text/html": [
       "<html>\n",
       "<head><meta charset=\"utf-8\" /></head>\n",
       "<body>\n",
       "    <div>            <script src=\"https://cdnjs.cloudflare.com/ajax/libs/mathjax/2.7.5/MathJax.js?config=TeX-AMS-MML_SVG\"></script><script type=\"text/javascript\">if (window.MathJax && window.MathJax.Hub && window.MathJax.Hub.Config) {window.MathJax.Hub.Config({SVG: {font: \"STIX-Web\"}});}</script>                <script type=\"text/javascript\">window.PlotlyConfig = {MathJaxConfig: 'local'};</script>\n",
       "        <script src=\"https://cdn.plot.ly/plotly-2.12.1.min.js\"></script>                <div id=\"bc890a8b-ddff-48ac-ae8f-dce699f4aeb6\" class=\"plotly-graph-div\" style=\"height:100%; width:800px;\"></div>            <script type=\"text/javascript\">                                    window.PLOTLYENV=window.PLOTLYENV || {};                                    if (document.getElementById(\"bc890a8b-ddff-48ac-ae8f-dce699f4aeb6\")) {                    Plotly.newPlot(                        \"bc890a8b-ddff-48ac-ae8f-dce699f4aeb6\",                        [{\"alignmentgroup\":\"True\",\"hovertemplate\":\"Raised=Objection Raised<br>Count=%{x}<br>Topic=%{y}<extra></extra>\",\"legendgroup\":\"Objection Raised\",\"marker\":{\"color\":\"#8CBAFF\",\"pattern\":{\"shape\":\"\"}},\"name\":\"Objection Raised\",\"offsetgroup\":\"Objection Raised\",\"orientation\":\"h\",\"showlegend\":true,\"textposition\":\"auto\",\"x\":[12,13,16,21],\"xaxis\":\"x\",\"y\":[\"Patient recall challenges\",\"Setting up Shingrix clinics\",\"Second dose compliance\",\"The NIP being confusing\"],\"yaxis\":\"y\",\"type\":\"bar\"},{\"alignmentgroup\":\"True\",\"hovertemplate\":\"Raised=Objection Not Raised<br>Count=%{x}<br>Topic=%{y}<extra></extra>\",\"legendgroup\":\"Objection Not Raised\",\"marker\":{\"color\":\"#75737D\",\"pattern\":{\"shape\":\"\"}},\"name\":\"Objection Not Raised\",\"offsetgroup\":\"Objection Not Raised\",\"orientation\":\"h\",\"showlegend\":true,\"textposition\":\"auto\",\"x\":[10,15,18,19],\"xaxis\":\"x\",\"y\":[\"The NIP being confusing\",\"Second dose compliance\",\"Setting up Shingrix clinics\",\"Patient recall challenges\"],\"yaxis\":\"y\",\"type\":\"bar\"}],                        {\"template\":{\"data\":{\"histogram2dcontour\":[{\"type\":\"histogram2dcontour\",\"colorbar\":{\"outlinewidth\":0,\"ticks\":\"\"},\"colorscale\":[[0.0,\"#0d0887\"],[0.1111111111111111,\"#46039f\"],[0.2222222222222222,\"#7201a8\"],[0.3333333333333333,\"#9c179e\"],[0.4444444444444444,\"#bd3786\"],[0.5555555555555556,\"#d8576b\"],[0.6666666666666666,\"#ed7953\"],[0.7777777777777778,\"#fb9f3a\"],[0.8888888888888888,\"#fdca26\"],[1.0,\"#f0f921\"]]}],\"choropleth\":[{\"type\":\"choropleth\",\"colorbar\":{\"outlinewidth\":0,\"ticks\":\"\"}}],\"histogram2d\":[{\"type\":\"histogram2d\",\"colorbar\":{\"outlinewidth\":0,\"ticks\":\"\"},\"colorscale\":[[0.0,\"#0d0887\"],[0.1111111111111111,\"#46039f\"],[0.2222222222222222,\"#7201a8\"],[0.3333333333333333,\"#9c179e\"],[0.4444444444444444,\"#bd3786\"],[0.5555555555555556,\"#d8576b\"],[0.6666666666666666,\"#ed7953\"],[0.7777777777777778,\"#fb9f3a\"],[0.8888888888888888,\"#fdca26\"],[1.0,\"#f0f921\"]]}],\"heatmap\":[{\"type\":\"heatmap\",\"colorbar\":{\"outlinewidth\":0,\"ticks\":\"\"},\"colorscale\":[[0.0,\"#0d0887\"],[0.1111111111111111,\"#46039f\"],[0.2222222222222222,\"#7201a8\"],[0.3333333333333333,\"#9c179e\"],[0.4444444444444444,\"#bd3786\"],[0.5555555555555556,\"#d8576b\"],[0.6666666666666666,\"#ed7953\"],[0.7777777777777778,\"#fb9f3a\"],[0.8888888888888888,\"#fdca26\"],[1.0,\"#f0f921\"]]}],\"heatmapgl\":[{\"type\":\"heatmapgl\",\"colorbar\":{\"outlinewidth\":0,\"ticks\":\"\"},\"colorscale\":[[0.0,\"#0d0887\"],[0.1111111111111111,\"#46039f\"],[0.2222222222222222,\"#7201a8\"],[0.3333333333333333,\"#9c179e\"],[0.4444444444444444,\"#bd3786\"],[0.5555555555555556,\"#d8576b\"],[0.6666666666666666,\"#ed7953\"],[0.7777777777777778,\"#fb9f3a\"],[0.8888888888888888,\"#fdca26\"],[1.0,\"#f0f921\"]]}],\"contourcarpet\":[{\"type\":\"contourcarpet\",\"colorbar\":{\"outlinewidth\":0,\"ticks\":\"\"}}],\"contour\":[{\"type\":\"contour\",\"colorbar\":{\"outlinewidth\":0,\"ticks\":\"\"},\"colorscale\":[[0.0,\"#0d0887\"],[0.1111111111111111,\"#46039f\"],[0.2222222222222222,\"#7201a8\"],[0.3333333333333333,\"#9c179e\"],[0.4444444444444444,\"#bd3786\"],[0.5555555555555556,\"#d8576b\"],[0.6666666666666666,\"#ed7953\"],[0.7777777777777778,\"#fb9f3a\"],[0.8888888888888888,\"#fdca26\"],[1.0,\"#f0f921\"]]}],\"surface\":[{\"type\":\"surface\",\"colorbar\":{\"outlinewidth\":0,\"ticks\":\"\"},\"colorscale\":[[0.0,\"#0d0887\"],[0.1111111111111111,\"#46039f\"],[0.2222222222222222,\"#7201a8\"],[0.3333333333333333,\"#9c179e\"],[0.4444444444444444,\"#bd3786\"],[0.5555555555555556,\"#d8576b\"],[0.6666666666666666,\"#ed7953\"],[0.7777777777777778,\"#fb9f3a\"],[0.8888888888888888,\"#fdca26\"],[1.0,\"#f0f921\"]]}],\"mesh3d\":[{\"type\":\"mesh3d\",\"colorbar\":{\"outlinewidth\":0,\"ticks\":\"\"}}],\"scatter\":[{\"fillpattern\":{\"fillmode\":\"overlay\",\"size\":10,\"solidity\":0.2},\"type\":\"scatter\"}],\"parcoords\":[{\"type\":\"parcoords\",\"line\":{\"colorbar\":{\"outlinewidth\":0,\"ticks\":\"\"}}}],\"scatterpolargl\":[{\"type\":\"scatterpolargl\",\"marker\":{\"colorbar\":{\"outlinewidth\":0,\"ticks\":\"\"}}}],\"bar\":[{\"error_x\":{\"color\":\"#2a3f5f\"},\"error_y\":{\"color\":\"#2a3f5f\"},\"marker\":{\"line\":{\"color\":\"#E5ECF6\",\"width\":0.5},\"pattern\":{\"fillmode\":\"overlay\",\"size\":10,\"solidity\":0.2}},\"type\":\"bar\"}],\"scattergeo\":[{\"type\":\"scattergeo\",\"marker\":{\"colorbar\":{\"outlinewidth\":0,\"ticks\":\"\"}}}],\"scatterpolar\":[{\"type\":\"scatterpolar\",\"marker\":{\"colorbar\":{\"outlinewidth\":0,\"ticks\":\"\"}}}],\"histogram\":[{\"marker\":{\"pattern\":{\"fillmode\":\"overlay\",\"size\":10,\"solidity\":0.2}},\"type\":\"histogram\"}],\"scattergl\":[{\"type\":\"scattergl\",\"marker\":{\"colorbar\":{\"outlinewidth\":0,\"ticks\":\"\"}}}],\"scatter3d\":[{\"type\":\"scatter3d\",\"line\":{\"colorbar\":{\"outlinewidth\":0,\"ticks\":\"\"}},\"marker\":{\"colorbar\":{\"outlinewidth\":0,\"ticks\":\"\"}}}],\"scattermapbox\":[{\"type\":\"scattermapbox\",\"marker\":{\"colorbar\":{\"outlinewidth\":0,\"ticks\":\"\"}}}],\"scatterternary\":[{\"type\":\"scatterternary\",\"marker\":{\"colorbar\":{\"outlinewidth\":0,\"ticks\":\"\"}}}],\"scattercarpet\":[{\"type\":\"scattercarpet\",\"marker\":{\"colorbar\":{\"outlinewidth\":0,\"ticks\":\"\"}}}],\"carpet\":[{\"aaxis\":{\"endlinecolor\":\"#2a3f5f\",\"gridcolor\":\"white\",\"linecolor\":\"white\",\"minorgridcolor\":\"white\",\"startlinecolor\":\"#2a3f5f\"},\"baxis\":{\"endlinecolor\":\"#2a3f5f\",\"gridcolor\":\"white\",\"linecolor\":\"white\",\"minorgridcolor\":\"white\",\"startlinecolor\":\"#2a3f5f\"},\"type\":\"carpet\"}],\"table\":[{\"cells\":{\"fill\":{\"color\":\"#EBF0F8\"},\"line\":{\"color\":\"white\"}},\"header\":{\"fill\":{\"color\":\"#C8D4E3\"},\"line\":{\"color\":\"white\"}},\"type\":\"table\"}],\"barpolar\":[{\"marker\":{\"line\":{\"color\":\"#E5ECF6\",\"width\":0.5},\"pattern\":{\"fillmode\":\"overlay\",\"size\":10,\"solidity\":0.2}},\"type\":\"barpolar\"}],\"pie\":[{\"automargin\":true,\"type\":\"pie\"}]},\"layout\":{\"autotypenumbers\":\"strict\",\"colorway\":[\"#636efa\",\"#EF553B\",\"#00cc96\",\"#ab63fa\",\"#FFA15A\",\"#19d3f3\",\"#FF6692\",\"#B6E880\",\"#FF97FF\",\"#FECB52\"],\"font\":{\"color\":\"#2a3f5f\"},\"hovermode\":\"closest\",\"hoverlabel\":{\"align\":\"left\"},\"paper_bgcolor\":\"white\",\"plot_bgcolor\":\"#E5ECF6\",\"polar\":{\"bgcolor\":\"#E5ECF6\",\"angularaxis\":{\"gridcolor\":\"white\",\"linecolor\":\"white\",\"ticks\":\"\"},\"radialaxis\":{\"gridcolor\":\"white\",\"linecolor\":\"white\",\"ticks\":\"\"}},\"ternary\":{\"bgcolor\":\"#E5ECF6\",\"aaxis\":{\"gridcolor\":\"white\",\"linecolor\":\"white\",\"ticks\":\"\"},\"baxis\":{\"gridcolor\":\"white\",\"linecolor\":\"white\",\"ticks\":\"\"},\"caxis\":{\"gridcolor\":\"white\",\"linecolor\":\"white\",\"ticks\":\"\"}},\"coloraxis\":{\"colorbar\":{\"outlinewidth\":0,\"ticks\":\"\"}},\"colorscale\":{\"sequential\":[[0.0,\"#0d0887\"],[0.1111111111111111,\"#46039f\"],[0.2222222222222222,\"#7201a8\"],[0.3333333333333333,\"#9c179e\"],[0.4444444444444444,\"#bd3786\"],[0.5555555555555556,\"#d8576b\"],[0.6666666666666666,\"#ed7953\"],[0.7777777777777778,\"#fb9f3a\"],[0.8888888888888888,\"#fdca26\"],[1.0,\"#f0f921\"]],\"sequentialminus\":[[0.0,\"#0d0887\"],[0.1111111111111111,\"#46039f\"],[0.2222222222222222,\"#7201a8\"],[0.3333333333333333,\"#9c179e\"],[0.4444444444444444,\"#bd3786\"],[0.5555555555555556,\"#d8576b\"],[0.6666666666666666,\"#ed7953\"],[0.7777777777777778,\"#fb9f3a\"],[0.8888888888888888,\"#fdca26\"],[1.0,\"#f0f921\"]],\"diverging\":[[0,\"#8e0152\"],[0.1,\"#c51b7d\"],[0.2,\"#de77ae\"],[0.3,\"#f1b6da\"],[0.4,\"#fde0ef\"],[0.5,\"#f7f7f7\"],[0.6,\"#e6f5d0\"],[0.7,\"#b8e186\"],[0.8,\"#7fbc41\"],[0.9,\"#4d9221\"],[1,\"#276419\"]]},\"xaxis\":{\"gridcolor\":\"white\",\"linecolor\":\"white\",\"ticks\":\"\",\"title\":{\"standoff\":15},\"zerolinecolor\":\"white\",\"automargin\":true,\"zerolinewidth\":2},\"yaxis\":{\"gridcolor\":\"white\",\"linecolor\":\"white\",\"ticks\":\"\",\"title\":{\"standoff\":15},\"zerolinecolor\":\"white\",\"automargin\":true,\"zerolinewidth\":2},\"scene\":{\"xaxis\":{\"backgroundcolor\":\"#E5ECF6\",\"gridcolor\":\"white\",\"linecolor\":\"white\",\"showbackground\":true,\"ticks\":\"\",\"zerolinecolor\":\"white\",\"gridwidth\":2},\"yaxis\":{\"backgroundcolor\":\"#E5ECF6\",\"gridcolor\":\"white\",\"linecolor\":\"white\",\"showbackground\":true,\"ticks\":\"\",\"zerolinecolor\":\"white\",\"gridwidth\":2},\"zaxis\":{\"backgroundcolor\":\"#E5ECF6\",\"gridcolor\":\"white\",\"linecolor\":\"white\",\"showbackground\":true,\"ticks\":\"\",\"zerolinecolor\":\"white\",\"gridwidth\":2}},\"shapedefaults\":{\"line\":{\"color\":\"#2a3f5f\"}},\"annotationdefaults\":{\"arrowcolor\":\"#2a3f5f\",\"arrowhead\":0,\"arrowwidth\":1},\"geo\":{\"bgcolor\":\"white\",\"landcolor\":\"#E5ECF6\",\"subunitcolor\":\"white\",\"showland\":true,\"showlakes\":true,\"lakecolor\":\"white\"},\"title\":{\"x\":0.05},\"mapbox\":{\"style\":\"light\"}}},\"xaxis\":{\"anchor\":\"y\",\"domain\":[0.0,1.0],\"title\":{\"text\":\"Number of Calls\"}},\"yaxis\":{\"anchor\":\"x\",\"domain\":[0.0,1.0],\"title\":{\"text\":\"Objection\"}},\"legend\":{\"title\":{\"text\":\"Raised\"},\"tracegroupgap\":0},\"margin\":{\"t\":60},\"barmode\":\"stack\",\"title\":{\"text\":\"A Graph to show in how many calls each Objection was raised\"},\"width\":800},                        {\"responsive\": true}                    )                };                            </script>        </div>\n",
       "</body>\n",
       "</html>"
      ]
     },
     "metadata": {
      "application/vnd.databricks.v1+output": {
       "addedWidgets": {},
       "arguments": {},
       "data": "<html>\n<head><meta charset=\"utf-8\" /></head>\n<body>\n    <div>            <script src=\"https://cdnjs.cloudflare.com/ajax/libs/mathjax/2.7.5/MathJax.js?config=TeX-AMS-MML_SVG\"></script><script type=\"text/javascript\">if (window.MathJax && window.MathJax.Hub && window.MathJax.Hub.Config) {window.MathJax.Hub.Config({SVG: {font: \"STIX-Web\"}});}</script>                <script type=\"text/javascript\">window.PlotlyConfig = {MathJaxConfig: 'local'};</script>\n        <script src=\"https://cdn.plot.ly/plotly-2.12.1.min.js\"></script>                <div id=\"bc890a8b-ddff-48ac-ae8f-dce699f4aeb6\" class=\"plotly-graph-div\" style=\"height:100%; width:800px;\"></div>            <script type=\"text/javascript\">                                    window.PLOTLYENV=window.PLOTLYENV || {};                                    if (document.getElementById(\"bc890a8b-ddff-48ac-ae8f-dce699f4aeb6\")) {                    Plotly.newPlot(                        \"bc890a8b-ddff-48ac-ae8f-dce699f4aeb6\",                        [{\"alignmentgroup\":\"True\",\"hovertemplate\":\"Raised=Objection Raised<br>Count=%{x}<br>Topic=%{y}<extra></extra>\",\"legendgroup\":\"Objection Raised\",\"marker\":{\"color\":\"#8CBAFF\",\"pattern\":{\"shape\":\"\"}},\"name\":\"Objection Raised\",\"offsetgroup\":\"Objection Raised\",\"orientation\":\"h\",\"showlegend\":true,\"textposition\":\"auto\",\"x\":[12,13,16,21],\"xaxis\":\"x\",\"y\":[\"Patient recall challenges\",\"Setting up Shingrix clinics\",\"Second dose compliance\",\"The NIP being confusing\"],\"yaxis\":\"y\",\"type\":\"bar\"},{\"alignmentgroup\":\"True\",\"hovertemplate\":\"Raised=Objection Not Raised<br>Count=%{x}<br>Topic=%{y}<extra></extra>\",\"legendgroup\":\"Objection Not Raised\",\"marker\":{\"color\":\"#75737D\",\"pattern\":{\"shape\":\"\"}},\"name\":\"Objection Not Raised\",\"offsetgroup\":\"Objection Not Raised\",\"orientation\":\"h\",\"showlegend\":true,\"textposition\":\"auto\",\"x\":[10,15,18,19],\"xaxis\":\"x\",\"y\":[\"The NIP being confusing\",\"Second dose compliance\",\"Setting up Shingrix clinics\",\"Patient recall challenges\"],\"yaxis\":\"y\",\"type\":\"bar\"}],                        {\"template\":{\"data\":{\"histogram2dcontour\":[{\"type\":\"histogram2dcontour\",\"colorbar\":{\"outlinewidth\":0,\"ticks\":\"\"},\"colorscale\":[[0.0,\"#0d0887\"],[0.1111111111111111,\"#46039f\"],[0.2222222222222222,\"#7201a8\"],[0.3333333333333333,\"#9c179e\"],[0.4444444444444444,\"#bd3786\"],[0.5555555555555556,\"#d8576b\"],[0.6666666666666666,\"#ed7953\"],[0.7777777777777778,\"#fb9f3a\"],[0.8888888888888888,\"#fdca26\"],[1.0,\"#f0f921\"]]}],\"choropleth\":[{\"type\":\"choropleth\",\"colorbar\":{\"outlinewidth\":0,\"ticks\":\"\"}}],\"histogram2d\":[{\"type\":\"histogram2d\",\"colorbar\":{\"outlinewidth\":0,\"ticks\":\"\"},\"colorscale\":[[0.0,\"#0d0887\"],[0.1111111111111111,\"#46039f\"],[0.2222222222222222,\"#7201a8\"],[0.3333333333333333,\"#9c179e\"],[0.4444444444444444,\"#bd3786\"],[0.5555555555555556,\"#d8576b\"],[0.6666666666666666,\"#ed7953\"],[0.7777777777777778,\"#fb9f3a\"],[0.8888888888888888,\"#fdca26\"],[1.0,\"#f0f921\"]]}],\"heatmap\":[{\"type\":\"heatmap\",\"colorbar\":{\"outlinewidth\":0,\"ticks\":\"\"},\"colorscale\":[[0.0,\"#0d0887\"],[0.1111111111111111,\"#46039f\"],[0.2222222222222222,\"#7201a8\"],[0.3333333333333333,\"#9c179e\"],[0.4444444444444444,\"#bd3786\"],[0.5555555555555556,\"#d8576b\"],[0.6666666666666666,\"#ed7953\"],[0.7777777777777778,\"#fb9f3a\"],[0.8888888888888888,\"#fdca26\"],[1.0,\"#f0f921\"]]}],\"heatmapgl\":[{\"type\":\"heatmapgl\",\"colorbar\":{\"outlinewidth\":0,\"ticks\":\"\"},\"colorscale\":[[0.0,\"#0d0887\"],[0.1111111111111111,\"#46039f\"],[0.2222222222222222,\"#7201a8\"],[0.3333333333333333,\"#9c179e\"],[0.4444444444444444,\"#bd3786\"],[0.5555555555555556,\"#d8576b\"],[0.6666666666666666,\"#ed7953\"],[0.7777777777777778,\"#fb9f3a\"],[0.8888888888888888,\"#fdca26\"],[1.0,\"#f0f921\"]]}],\"contourcarpet\":[{\"type\":\"contourcarpet\",\"colorbar\":{\"outlinewidth\":0,\"ticks\":\"\"}}],\"contour\":[{\"type\":\"contour\",\"colorbar\":{\"outlinewidth\":0,\"ticks\":\"\"},\"colorscale\":[[0.0,\"#0d0887\"],[0.1111111111111111,\"#46039f\"],[0.2222222222222222,\"#7201a8\"],[0.3333333333333333,\"#9c179e\"],[0.4444444444444444,\"#bd3786\"],[0.5555555555555556,\"#d8576b\"],[0.6666666666666666,\"#ed7953\"],[0.7777777777777778,\"#fb9f3a\"],[0.8888888888888888,\"#fdca26\"],[1.0,\"#f0f921\"]]}],\"surface\":[{\"type\":\"surface\",\"colorbar\":{\"outlinewidth\":0,\"ticks\":\"\"},\"colorscale\":[[0.0,\"#0d0887\"],[0.1111111111111111,\"#46039f\"],[0.2222222222222222,\"#7201a8\"],[0.3333333333333333,\"#9c179e\"],[0.4444444444444444,\"#bd3786\"],[0.5555555555555556,\"#d8576b\"],[0.6666666666666666,\"#ed7953\"],[0.7777777777777778,\"#fb9f3a\"],[0.8888888888888888,\"#fdca26\"],[1.0,\"#f0f921\"]]}],\"mesh3d\":[{\"type\":\"mesh3d\",\"colorbar\":{\"outlinewidth\":0,\"ticks\":\"\"}}],\"scatter\":[{\"fillpattern\":{\"fillmode\":\"overlay\",\"size\":10,\"solidity\":0.2},\"type\":\"scatter\"}],\"parcoords\":[{\"type\":\"parcoords\",\"line\":{\"colorbar\":{\"outlinewidth\":0,\"ticks\":\"\"}}}],\"scatterpolargl\":[{\"type\":\"scatterpolargl\",\"marker\":{\"colorbar\":{\"outlinewidth\":0,\"ticks\":\"\"}}}],\"bar\":[{\"error_x\":{\"color\":\"#2a3f5f\"},\"error_y\":{\"color\":\"#2a3f5f\"},\"marker\":{\"line\":{\"color\":\"#E5ECF6\",\"width\":0.5},\"pattern\":{\"fillmode\":\"overlay\",\"size\":10,\"solidity\":0.2}},\"type\":\"bar\"}],\"scattergeo\":[{\"type\":\"scattergeo\",\"marker\":{\"colorbar\":{\"outlinewidth\":0,\"ticks\":\"\"}}}],\"scatterpolar\":[{\"type\":\"scatterpolar\",\"marker\":{\"colorbar\":{\"outlinewidth\":0,\"ticks\":\"\"}}}],\"histogram\":[{\"marker\":{\"pattern\":{\"fillmode\":\"overlay\",\"size\":10,\"solidity\":0.2}},\"type\":\"histogram\"}],\"scattergl\":[{\"type\":\"scattergl\",\"marker\":{\"colorbar\":{\"outlinewidth\":0,\"ticks\":\"\"}}}],\"scatter3d\":[{\"type\":\"scatter3d\",\"line\":{\"colorbar\":{\"outlinewidth\":0,\"ticks\":\"\"}},\"marker\":{\"colorbar\":{\"outlinewidth\":0,\"ticks\":\"\"}}}],\"scattermapbox\":[{\"type\":\"scattermapbox\",\"marker\":{\"colorbar\":{\"outlinewidth\":0,\"ticks\":\"\"}}}],\"scatterternary\":[{\"type\":\"scatterternary\",\"marker\":{\"colorbar\":{\"outlinewidth\":0,\"ticks\":\"\"}}}],\"scattercarpet\":[{\"type\":\"scattercarpet\",\"marker\":{\"colorbar\":{\"outlinewidth\":0,\"ticks\":\"\"}}}],\"carpet\":[{\"aaxis\":{\"endlinecolor\":\"#2a3f5f\",\"gridcolor\":\"white\",\"linecolor\":\"white\",\"minorgridcolor\":\"white\",\"startlinecolor\":\"#2a3f5f\"},\"baxis\":{\"endlinecolor\":\"#2a3f5f\",\"gridcolor\":\"white\",\"linecolor\":\"white\",\"minorgridcolor\":\"white\",\"startlinecolor\":\"#2a3f5f\"},\"type\":\"carpet\"}],\"table\":[{\"cells\":{\"fill\":{\"color\":\"#EBF0F8\"},\"line\":{\"color\":\"white\"}},\"header\":{\"fill\":{\"color\":\"#C8D4E3\"},\"line\":{\"color\":\"white\"}},\"type\":\"table\"}],\"barpolar\":[{\"marker\":{\"line\":{\"color\":\"#E5ECF6\",\"width\":0.5},\"pattern\":{\"fillmode\":\"overlay\",\"size\":10,\"solidity\":0.2}},\"type\":\"barpolar\"}],\"pie\":[{\"automargin\":true,\"type\":\"pie\"}]},\"layout\":{\"autotypenumbers\":\"strict\",\"colorway\":[\"#636efa\",\"#EF553B\",\"#00cc96\",\"#ab63fa\",\"#FFA15A\",\"#19d3f3\",\"#FF6692\",\"#B6E880\",\"#FF97FF\",\"#FECB52\"],\"font\":{\"color\":\"#2a3f5f\"},\"hovermode\":\"closest\",\"hoverlabel\":{\"align\":\"left\"},\"paper_bgcolor\":\"white\",\"plot_bgcolor\":\"#E5ECF6\",\"polar\":{\"bgcolor\":\"#E5ECF6\",\"angularaxis\":{\"gridcolor\":\"white\",\"linecolor\":\"white\",\"ticks\":\"\"},\"radialaxis\":{\"gridcolor\":\"white\",\"linecolor\":\"white\",\"ticks\":\"\"}},\"ternary\":{\"bgcolor\":\"#E5ECF6\",\"aaxis\":{\"gridcolor\":\"white\",\"linecolor\":\"white\",\"ticks\":\"\"},\"baxis\":{\"gridcolor\":\"white\",\"linecolor\":\"white\",\"ticks\":\"\"},\"caxis\":{\"gridcolor\":\"white\",\"linecolor\":\"white\",\"ticks\":\"\"}},\"coloraxis\":{\"colorbar\":{\"outlinewidth\":0,\"ticks\":\"\"}},\"colorscale\":{\"sequential\":[[0.0,\"#0d0887\"],[0.1111111111111111,\"#46039f\"],[0.2222222222222222,\"#7201a8\"],[0.3333333333333333,\"#9c179e\"],[0.4444444444444444,\"#bd3786\"],[0.5555555555555556,\"#d8576b\"],[0.6666666666666666,\"#ed7953\"],[0.7777777777777778,\"#fb9f3a\"],[0.8888888888888888,\"#fdca26\"],[1.0,\"#f0f921\"]],\"sequentialminus\":[[0.0,\"#0d0887\"],[0.1111111111111111,\"#46039f\"],[0.2222222222222222,\"#7201a8\"],[0.3333333333333333,\"#9c179e\"],[0.4444444444444444,\"#bd3786\"],[0.5555555555555556,\"#d8576b\"],[0.6666666666666666,\"#ed7953\"],[0.7777777777777778,\"#fb9f3a\"],[0.8888888888888888,\"#fdca26\"],[1.0,\"#f0f921\"]],\"diverging\":[[0,\"#8e0152\"],[0.1,\"#c51b7d\"],[0.2,\"#de77ae\"],[0.3,\"#f1b6da\"],[0.4,\"#fde0ef\"],[0.5,\"#f7f7f7\"],[0.6,\"#e6f5d0\"],[0.7,\"#b8e186\"],[0.8,\"#7fbc41\"],[0.9,\"#4d9221\"],[1,\"#276419\"]]},\"xaxis\":{\"gridcolor\":\"white\",\"linecolor\":\"white\",\"ticks\":\"\",\"title\":{\"standoff\":15},\"zerolinecolor\":\"white\",\"automargin\":true,\"zerolinewidth\":2},\"yaxis\":{\"gridcolor\":\"white\",\"linecolor\":\"white\",\"ticks\":\"\",\"title\":{\"standoff\":15},\"zerolinecolor\":\"white\",\"automargin\":true,\"zerolinewidth\":2},\"scene\":{\"xaxis\":{\"backgroundcolor\":\"#E5ECF6\",\"gridcolor\":\"white\",\"linecolor\":\"white\",\"showbackground\":true,\"ticks\":\"\",\"zerolinecolor\":\"white\",\"gridwidth\":2},\"yaxis\":{\"backgroundcolor\":\"#E5ECF6\",\"gridcolor\":\"white\",\"linecolor\":\"white\",\"showbackground\":true,\"ticks\":\"\",\"zerolinecolor\":\"white\",\"gridwidth\":2},\"zaxis\":{\"backgroundcolor\":\"#E5ECF6\",\"gridcolor\":\"white\",\"linecolor\":\"white\",\"showbackground\":true,\"ticks\":\"\",\"zerolinecolor\":\"white\",\"gridwidth\":2}},\"shapedefaults\":{\"line\":{\"color\":\"#2a3f5f\"}},\"annotationdefaults\":{\"arrowcolor\":\"#2a3f5f\",\"arrowhead\":0,\"arrowwidth\":1},\"geo\":{\"bgcolor\":\"white\",\"landcolor\":\"#E5ECF6\",\"subunitcolor\":\"white\",\"showland\":true,\"showlakes\":true,\"lakecolor\":\"white\"},\"title\":{\"x\":0.05},\"mapbox\":{\"style\":\"light\"}}},\"xaxis\":{\"anchor\":\"y\",\"domain\":[0.0,1.0],\"title\":{\"text\":\"Number of Calls\"}},\"yaxis\":{\"anchor\":\"x\",\"domain\":[0.0,1.0],\"title\":{\"text\":\"Objection\"}},\"legend\":{\"title\":{\"text\":\"Raised\"},\"tracegroupgap\":0},\"margin\":{\"t\":60},\"barmode\":\"stack\",\"title\":{\"text\":\"A Graph to show in how many calls each Objection was raised\"},\"width\":800},                        {\"responsive\": true}                    )                };                            </script>        </div>\n</body>\n</html>",
       "datasetInfos": [],
       "metadata": {},
       "removedWidgets": [],
       "textData": null,
       "type": "htmlSandbox"
      }
     },
     "output_type": "display_data"
    }
   ],
   "source": [
    "action_plan_components_fig = px.bar(\n",
    "    action_plan_call_component_count,\n",
    "    x=\"AP Components\",\n",
    "    y=\"Count\",\n",
    "    color=\"AP Components\",\n",
    "    hover_name=\"AP Components\",\n",
    "    hover_data={\"AP Components\": False},\n",
    "    color_discrete_map=action_plan_components_colors,\n",
    "    category_orders={\n",
    "        \"AP Components\": action_plan_call_component_count[\"AP Components\"].to_list()\n",
    "    },\n",
    "    template=\"plotly_white\",\n",
    ")\n",
    "\n",
    "action_plan_components_fig.update_layout(\n",
    "    title=\"A Graph to show how many calls of each Action Plan Component were made\",\n",
    "    xaxis_title=\"Number of Action Plan Component\",\n",
    "    yaxis_title=\"Number of Calls\",\n",
    "    width=700,\n",
    ")\n",
    "\n",
    "action_plan_components_fig.update_traces(hovertemplate=\"Call Count : %{y}\")\n",
    "\n",
    "selling_outcome_fig = px.bar(\n",
    "    selling_outcome_result_groupby,\n",
    "    x=\"Action\",\n",
    "    y=\"Counts\",\n",
    "    color=\"Result\",\n",
    "    hover_name=\"Result\",\n",
    "    hover_data={\n",
    "        \"Result\": False,\n",
    "        \"Action\": False,\n",
    "    },\n",
    "    color_discrete_map=selling_outcome_colours,\n",
    "    template=\"plotly_white\",\n",
    ")\n",
    "\n",
    "selling_outcome_fig.update_layout(\n",
    "    title=\"A Graph to show how many calls resulted in a each Selling Outcome\",\n",
    "    xaxis_title=\"\",\n",
    "    yaxis_title=\"Number of Calls\",\n",
    "    legend_title=\"Selling Outcome\",\n",
    "    bargap=0.8,\n",
    "    width=700,\n",
    ")\n",
    "\n",
    "selling_outcome_fig.update_traces(hovertemplate=\"Call Count : %{y}\")\n",
    "\n",
    "action_plan_fig = px.bar(\n",
    "    action_plan_result_melt,\n",
    "    x=\"Counts\",\n",
    "    y=\"Action\",\n",
    "    color=\"Result\",\n",
    "    hover_name=\"Result\",\n",
    "    hover_data={\n",
    "        \"Result\": False,\n",
    "        \"Action\": False,\n",
    "    },\n",
    "    orientation=\"h\",\n",
    "    barmode=\"stack\",\n",
    "    color_discrete_map=selling_outcome_colours,\n",
    "    category_orders={\"Action\": action_plan_result_melt.columns},\n",
    "    text=\"Counts\",\n",
    "    template=\"plotly_white\",\n",
    ")\n",
    "\n",
    "action_plan_fig.update_layout(\n",
    "    title=\"A Graph to show how many calls of each Action Plan Component resulted in a each Selling Outcome\",\n",
    "    title_font_size=13,\n",
    "    xaxis_title=\"Number of Calls\",\n",
    "    yaxis_title=\"Action Plan Component\",\n",
    "    legend_title=\"Selling Outcome\",\n",
    "    width=700,\n",
    ")\n",
    "\n",
    "action_plan_fig.update_traces(hovertemplate=\"Call Count : %{x}\")\n",
    "\n",
    "key_topic_agg_fig = px.bar(\n",
    "    key_topic_agg_sorted,\n",
    "    x=\"Topic\",\n",
    "    y=\"Count\",\n",
    "    color=\"Conveyed\",\n",
    "    hover_name=\"Conveyed\",\n",
    "    hover_data={\n",
    "        \"Conveyed\": False,\n",
    "        \"Topic\": False,\n",
    "    },\n",
    "    barmode=\"stack\",\n",
    "    color_discrete_map=key_topic_colors,\n",
    "    template=\"plotly_white\",\n",
    ")\n",
    "\n",
    "key_topic_agg_fig.update_layout(\n",
    "    title=\"A Graph to show in how many calls was each Topic conveyed aggregated\",\n",
    "    xaxis_title=\"Number of Calls\",\n",
    "    yaxis_title=\"Topic\",\n",
    "    legend_title=\"Conveyed\",\n",
    "    width=700,\n",
    "    bargap=0.8,\n",
    ")\n",
    "\n",
    "key_topic_agg_fig.update_traces(hovertemplate=\"Call Count : %{y}\")\n",
    "\n",
    "key_topic_sep_fig = px.bar(\n",
    "    key_topic_sep_sorted,\n",
    "    x=\"Count\",\n",
    "    y=\"Topic\",\n",
    "    color=\"Conveyed\",\n",
    "    hover_name=\"Conveyed\",\n",
    "    hover_data={\n",
    "        \"Conveyed\": False,\n",
    "        \"Topic\": False,\n",
    "    },\n",
    "    orientation=\"h\",\n",
    "    barmode=\"stack\",\n",
    "    color_discrete_map=key_topic_colors,\n",
    "    template=\"plotly_white\",\n",
    ")\n",
    "\n",
    "key_topic_sep_fig.update_layout(\n",
    "    title=\"A Graph to show in how many calls was each Topic conveyed\",\n",
    "    xaxis_title=\"Number of Calls\",\n",
    "    yaxis_title=\"Topic\",\n",
    "    legend_title=\"Conveyed\",\n",
    "    width=700,\n",
    ")\n",
    "\n",
    "key_topic_sep_fig.update_traces(hovertemplate=\"Call Count : %{x}\")\n",
    "\n",
    "objections_raised_fig = px.bar(\n",
    "    objection_raised_df,\n",
    "    x=\"Count\",\n",
    "    y=\"Topic\",\n",
    "    color=\"Raised\",\n",
    "    hover_name=\"Raised\",\n",
    "    hover_data={\n",
    "        \"Raised\": False,\n",
    "        \"Topic\": False,\n",
    "    },\n",
    "    orientation=\"h\",\n",
    "    barmode=\"stack\",\n",
    "    color_discrete_map=objection_colors,\n",
    "    template=\"plotly_white\",\n",
    ")\n",
    "\n",
    "objections_raised_fig.update_layout(\n",
    "    title=\"A Graph to show in how many calls each Objection was raised\",\n",
    "    xaxis_title=\"Number of Calls\",\n",
    "    yaxis_title=\"Objection\",\n",
    "    legend_title=\"Raised\",\n",
    "    width=700,\n",
    ")\n",
    "\n",
    "objections_raised_fig.update_traces(hovertemplate=\"Call Count : %{x}\")\n",
    "\n",
    "percentage_speaking_time_fig = px.bar(\n",
    "    percentage_speaking_time_melt,\n",
    "    x=\"Call Identifier\",\n",
    "    y=\"Percentage\",\n",
    "    color=\"Speaker\",\n",
    "    hover_name=\"Speaker\",\n",
    "    hover_data={\n",
    "        \"Speaker\": False,\n",
    "        \"Call Identifier\": False,\n",
    "    },\n",
    "    title=\"Percentage of Speaking Time by Call\",\n",
    "    width=700,\n",
    "    color_discrete_map=speaker_colors,\n",
    "    template=\"plotly_white\",\n",
    ")\n",
    "\n",
    "percentage_speaking_time_fig.update_layout(\n",
    "    title=\"A Graph to show the percentage of speaking time by speaker in each call\",\n",
    "    legend_title=\"Speaker\",\n",
    "    xaxis_title=\"Call\",\n",
    "    yaxis_title=\"Percentage of Call\",\n",
    "    yaxis=dict(\n",
    "        tickformat=\".0%\",\n",
    "    ),\n",
    ")\n",
    "\n",
    "percentage_speaking_time_fig.update_traces(hovertemplate=\"Percentage : %{y}\")\n",
    "\n",
    "total_speaking_time_fig = px.bar(\n",
    "    total_speaking_time_melt,\n",
    "    x=\"Call Identifier\",\n",
    "    y=\"Time\",\n",
    "    color=\"Speaker\",\n",
    "    hover_name=\"Speaker\",\n",
    "    hover_data={\n",
    "        \"Speaker\": False,\n",
    "        \"Call Identifier\": False,\n",
    "    },\n",
    "    title=\"Total Speaking Time by Call\",\n",
    "    width=700,\n",
    "    color_discrete_map=speaker_colors,\n",
    "    template=\"plotly_white\",\n",
    "    custom_data=[\"Minutes String\"],\n",
    ")\n",
    "\n",
    "total_speaking_time_fig.update_layout(\n",
    "    title=\"A Graph to show the total speaking time by speaker in each call\",\n",
    "    legend_title=\"Speaker\",\n",
    "    xaxis_title=\"Call\",\n",
    "    yaxis_title=\"Speaking Time\",\n",
    ")\n",
    "\n",
    "total_speaking_time_fig.update_traces(\n",
    "    hovertemplate=\"Speaking Time : %{customdata[0]}\"\n",
    ")\n",
    "\n",
    "so_hcp_participation_fig = px.bar(\n",
    "    so_percentage_speaking_time_groupby,\n",
    "    x=\"HCP Participation\",\n",
    "    y=\"Count\",\n",
    "    color=\"Selling Outcome\",\n",
    "    hover_name=\"Selling Outcome\",\n",
    "    hover_data={\n",
    "        \"Selling Outcome\": False,\n",
    "        \"HCP Participation\": False,\n",
    "    },\n",
    "    barmode=\"stack\",\n",
    "    color_discrete_map=selling_outcome_colours,\n",
    "    template=\"plotly_white\",\n",
    "    category_orders={\n",
    "        \"Selling Outcome\": [\"Agreed\", \"Not Agreed\"],\n",
    "        \"HCP Participation\": [\"0%-15%\", \"15%-30%\", \"30%-45%\", \"45%-100%\"],\n",
    "    },\n",
    ")\n",
    "\n",
    "so_hcp_participation_fig.update_layout(\n",
    "    title=\"A Graph to how the relationshsip between HCP Participation and a Good Sales Outcome\",\n",
    "    title_font_size=13,\n",
    "    xaxis_title=\"HCP Participation\",\n",
    "    yaxis_title=\"Number of Calls\",\n",
    "    legend_title=\"Selling Outcome\",\n",
    "    width=700,\n",
    "    bargap=0.8,\n",
    ")\n",
    "\n",
    "so_hcp_participation_fig.update_traces(hovertemplate=\"Call Count : %{y}\")\n",
    "\n",
    "so_objections_fig = px.bar(\n",
    "    so_objections_groupby,\n",
    "    x=\"Objection Count\",\n",
    "    y=\"Count\",\n",
    "    color=\"Selling Outcome\",\n",
    "    hover_name=\"Selling Outcome\",\n",
    "    hover_data={\n",
    "        \"Selling Outcome\": False,\n",
    "        \"Objection Count\": False,\n",
    "    },\n",
    "    barmode=\"stack\",\n",
    "    color_discrete_map=selling_outcome_colours,\n",
    "    template=\"plotly_white\",\n",
    "    category_orders={\n",
    "        \"Selling Outcome\": [\"Agreed\", \"Not Agreed\"],\n",
    "        \"Objection Count\": [\n",
    "            \"No Objections Raised\",\n",
    "            \"1 Objections Raised\",\n",
    "            \"2 Objections Raised\",\n",
    "            \"3 Objections Raised\",\n",
    "            \"4 Objections Raised\",\n",
    "        ],\n",
    "    },\n",
    ")\n",
    "\n",
    "so_objections_fig.update_layout(\n",
    "    title=\"A Graph to how the relationshsip between Objections Conveyed and a Good Sales Outcome\",\n",
    "    title_font_size=13,\n",
    "    xaxis_title=\"Objection Count\",\n",
    "    yaxis_title=\"Number of Calls\",\n",
    "    legend_title=\"Selling Outcome\",\n",
    "    width=700,\n",
    "    bargap=0.8,\n",
    ")\n",
    "\n",
    "so_objections_fig.update_traces(hovertemplate=\"Call Count : %{y}\")\n",
    "\n",
    "so_key_topics_fig = px.bar(\n",
    "    so_key_topics_groupby,\n",
    "    x=\"Key Topic Conveyed Count\",\n",
    "    y=\"Count\",\n",
    "    color=\"Selling Outcome\",\n",
    "    hover_name=\"Selling Outcome\",\n",
    "    hover_data={\n",
    "        \"Selling Outcome\": False,\n",
    "        \"Key Topic Conveyed Count\": False,\n",
    "    },\n",
    "    barmode=\"stack\",\n",
    "    color_discrete_map=selling_outcome_colours,\n",
    "    template=\"plotly_white\",\n",
    "    category_orders={\"Selling Outcome\": [\"Agreed\", \"Not Agreed\"]},\n",
    ")\n",
    "\n",
    "so_key_topics_fig.update_layout(\n",
    "    title=\"A Graph to how the relationshsip between Key Topics Conveyed and a Good Sales Outcome\",\n",
    "    title_font_size=13,\n",
    "    xaxis_title=\"Key Topics Conveyed Count\",\n",
    "    yaxis_title=\"Number of Calls\",\n",
    "    legend_title=\"Selling Outcome\",\n",
    "    width=700,\n",
    "    bargap=0.8,\n",
    "    xaxis=dict(tickmode=\"linear\", tick0=0, dtick=1),\n",
    ")\n",
    "\n",
    "so_key_topics_fig.update_traces(hovertemplate=\"Call Count : %{y}\")"
   ]
  }
 ],
 "metadata": {
  "application/vnd.databricks.v1+notebook": {
   "dashboards": [],
   "environmentMetadata": null,
   "language": "python",
   "notebookMetadata": {
    "pythonIndentUnit": 2
   },
   "notebookName": "04_Visualisation",
   "widgets": {}
  }
 },
 "nbformat": 4,
 "nbformat_minor": 0
}
